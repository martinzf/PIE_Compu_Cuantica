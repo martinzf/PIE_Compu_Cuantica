{
  "cells": [
    {
      "cell_type": "markdown",
      "metadata": {
        "id": "sAhp40PMkRrv"
      },
      "source": [
        "# <center>**Proyecto de Innovación Educativa en Computación Cuántica**</center>\n",
        "### <center>**Grupo 1 Viernes**</center>\n",
        "\n",
        "## Authors\n",
        "\n",
        "- Ruth Macías Asenjo\n",
        "- Eduardo Martínez Valdelvira\n",
        "- Fernando Poblet Estévez\n",
        "- Miguel Cuenca González\n",
        "- Juan Antonio Viñuelas Iniesta\n",
        "-  Martín Zapata Ferguson"
      ]
    },
    {
      "cell_type": "markdown",
      "metadata": {
        "id": "AMvpUr59vtFF"
      },
      "source": [
        "## Session 2: An introduction to Qiskit and to IBM's interface"
      ]
    },
    {
      "cell_type": "code",
      "execution_count": 3,
      "metadata": {
        "id": "Ac9C7lgbj5HW"
      },
      "outputs": [],
      "source": [
        "%%capture\n",
        "# Dependencies\n",
        "%pip install qiskit\n",
        "%pip install qiskit_aer\n",
        "%pip install pylatexenc\n",
        "\n",
        "# A classical simulator of quantum circuits\n",
        "from qiskit_aer import AerSimulator\n",
        "\n",
        "# Class QuantumCircuit, with methods (functions) to define quantum circuits\n",
        "from qiskit import QuantumCircuit\n",
        "\n",
        "# A function yielding a histogram with the probabilities of each of the eigenstates taken by the measured qubits\n",
        "from qiskit.visualization import plot_histogram\n",
        "\n",
        "# Class Statvector, to retrieve the state of the circuit\n",
        "from qiskit.quantum_info import Statevector, Pauli, SparsePauliOp, Operator\n",
        "\n",
        "# Other usual imports\n",
        "from math import sqrt, pi\n",
        "import numpy as np\n",
        "import matplotlib.pyplot as plt"
      ]
    },
    {
      "cell_type": "markdown",
      "metadata": {
        "id": "N9BMQxZyfvSJ"
      },
      "source": [
        "### **3. Executing circuits**"
      ]
    },
    {
      "cell_type": "markdown",
      "metadata": {
        "id": "zSm47aE-0kMi"
      },
      "source": [
        "**Question:** <font color=teal> Why does the histogram have only one bar corresponding to |1>  ? </font>\n",
        "\n",
        "**Answer:** Because the qubit is initialized to the state $|1\\rangle$, it has no component along $|0\\rangle$."
      ]
    },
    {
      "cell_type": "code",
      "execution_count": null,
      "metadata": {
        "colab": {
          "base_uri": "https://localhost:8080/",
          "height": 449
        },
        "id": "zYYPCsGJlViH",
        "outputId": "37e111d0-713f-4f3b-9742-49f3d3be8ba4"
      },
      "outputs": [
        {
          "data": {
            "image/png": "[encoded data removed]",
            "text/plain": [
              "<Figure size 700x500 with 1 Axes>"
            ]
          },
          "execution_count": 3,
          "metadata": {},
          "output_type": "execute_result"
        }
      ],
      "source": [
        "sim = AerSimulator()\n",
        "qc11 = QuantumCircuit(1,1) # circuit with 1 qubit y 1 classical bit\n",
        "state_1 = [0,1] # this would be |1>, trivially normalized\n",
        "qc11.initialize(state_1,0)\n",
        "qc11.measure(0,0)\n",
        "resultmeasure = sim.run(qc11).result() # Execute the circuite qc11 in the simulator\n",
        "counts = resultmeasure.get_counts() # Results of the measurements\n",
        "plot_histogram(counts) # Plot a histogram with that variable"
      ]
    },
    {
      "cell_type": "markdown",
      "metadata": {
        "id": "JQT5JEtshvrL"
      },
      "source": [
        "#### **4. Generation of truly random numbers with a quantum computer**"
      ]
    },
    {
      "cell_type": "markdown",
      "metadata": {
        "id": "qIwH0tIX0dN0"
      },
      "source": [
        "<font color= teal> Question: Can you write in a piece of paper the initial state in the second line of the next paragraph?</font>\n",
        "\n",
        "**Answer:** Let $|+\\rangle=\\frac{1}{\\sqrt{2}}(|0\\rangle+|1\\rangle)$ in the computational basis, the initial state is $|+\\rangle\\otimes|+\\rangle\\otimes|+\\rangle\\otimes|+\\rangle$. In the $\\{|n\\rangle\\}_{n=0}^{15}$ basis, where $|n\\rangle$ is the binary representation of n, taking the digits $0$ or $1$ to be qubits tensored with each other, $|\\mathrm{init}\\rangle=\\frac{1}{4}\\sum\\limits_{n=0}^{15}|n\\rangle$. Indeed, this is what the `draw` method shows, an equal superposition of states, which is what we would need to simulate a uniform probability distribution."
      ]
    },
    {
      "cell_type": "code",
      "execution_count": null,
      "metadata": {
        "colab": {
          "base_uri": "https://localhost:8080/",
          "height": 384
        },
        "id": "vC25uSBmnRSG",
        "outputId": "93dfc199-17bb-4b85-f802-ffca68558006"
      },
      "outputs": [
        {
          "data": {
            "image/png": "[encoded data removed]",
            "text/plain": [
              "<Figure size 872.774x451.5 with 1 Axes>"
            ]
          },
          "execution_count": 4,
          "metadata": {},
          "output_type": "execute_result"
        }
      ],
      "source": [
        "qrng = QuantumCircuit(4,4)\n",
        "init_state = np.kron([1,1],np.kron([1,1],np.kron([1,1],[1,1]))) # Kron is a Python command for Cartesian (or Kronecker) products\n",
        "init_state_normal = init_state/np.linalg.norm(init_state)\n",
        "qrng.initialize(init_state_normal,[0,1,2,3])\n",
        "qrng.draw(output='mpl')"
      ]
    },
    {
      "cell_type": "markdown",
      "metadata": {
        "id": "pe0R7iL_QM8B"
      },
      "source": [
        "We may encapsulate random number generation in the following function:"
      ]
    },
    {
      "cell_type": "code",
      "execution_count": null,
      "metadata": {
        "id": "TQWrWmiSQLkJ"
      },
      "outputs": [],
      "source": [
        "def QRNG(N_qubits): #a quantum random number generator\n",
        "    qrng = QuantumCircuit(N_qubits)\n",
        "    qrng.h(range(N_qubits))\n",
        "    qrng.measure_all()\n",
        "    result = sim.run(qrng, shots=1).result()\n",
        "    counts = result.get_counts()\n",
        "    decimal_result = int(list(counts.keys())[0], 2)\n",
        "    return decimal_result"
      ]
    },
    {
      "cell_type": "markdown",
      "metadata": {
        "id": "XLA9i9no06nh"
      },
      "source": [
        "<font color=teal> Question: run the circuit a few times and write down the number obtained </font>\n",
        "\n",
        "**Answer:** After running it a few times we obtained the following list of numbers:\n",
        "`14, 3, 5, 9, 8, 12, 1, 10, 6, 11, 2, 6, 0, 10, 7, 13, 6, 14, 5, 1, 0, 14, 4`\n"
      ]
    },
    {
      "cell_type": "code",
      "execution_count": null,
      "metadata": {
        "colab": {
          "base_uri": "https://localhost:8080/"
        },
        "id": "KmYDQ07aMRHs",
        "outputId": "e9b3f615-b756-4ba1-f9ec-ff6e03e39e3f"
      },
      "outputs": [
        {
          "name": "stdout",
          "output_type": "stream",
          "text": [
            "1\n"
          ]
        }
      ],
      "source": [
        "print(QRNG(4))"
      ]
    },
    {
      "cell_type": "markdown",
      "metadata": {
        "id": "gwt6vAfDI8mL"
      },
      "source": [
        "<font color=teal> Question: Write a loop that generates 32 random numbers and plot a histogram with their distribution </font>\n",
        "\n",
        "**Answer:**"
      ]
    },
    {
      "cell_type": "code",
      "execution_count": null,
      "metadata": {
        "colab": {
          "base_uri": "https://localhost:8080/",
          "height": 469
        },
        "id": "r-ri0uAKJDd_",
        "outputId": "ff40ecf9-5c8b-42ad-ade7-6ada93e4e9f5"
      },
      "outputs": [
        {
          "data": {
            "text/plain": [
              "Text(0.5, 1.0, 'Quantum RNG distribution')"
            ]
          },
          "execution_count": 32,
          "metadata": {},
          "output_type": "execute_result"
        },
        {
          "data": {
            "image/png": "[encoded data removed]",
            "text/plain": [
              "<Figure size 640x480 with 1 Axes>"
            ]
          },
          "metadata": {},
          "output_type": "display_data"
        }
      ],
      "source": [
        "import matplotlib.pyplot as plt\n",
        "\n",
        "N_qubits = 4\n",
        "N = 32\n",
        "distrib = []\n",
        "for _ in range(N):\n",
        "    distrib.append(QRNG(N_qubits))\n",
        "\n",
        "dim = 2**N_qubits\n",
        "plt.hist(distrib, bins=range(dim+1), density=True, align='left', edgecolor='black', linewidth=1)\n",
        "plt.xticks(ticks=range(dim), labels=range(dim))\n",
        "plt.title('Quantum RNG distribution')"
      ]
    },
    {
      "cell_type": "markdown",
      "metadata": {
        "id": "ugdrWFJwJDtd"
      },
      "source": [
        "<font color=teal> Question: Write down in a piece of paper all the methods that you have learned here </font>"
      ]
    },
    {
      "cell_type": "markdown",
      "metadata": {
        "id": "vRnWXDQRTDFh"
      },
      "source": [
        "**Answer:** We have learned the following methods:\n",
        "\n",
        "Applied to a `QuantumCircuit`\n",
        "- `draw`\n",
        "- `initialize`\n",
        "- `measure`\n",
        "- `measure_all`\n",
        "\n",
        "Applied to an `AerSimulator`\n",
        "- `run`\n",
        "\n",
        "Applied to an `AerJob`\n",
        "- `result`\n",
        "\n",
        "Applied to a `Result`\n",
        "- `get_counts`"
      ]
    },
    {
      "cell_type": "markdown",
      "metadata": {
        "id": "Gtx0BfDtiFKu"
      },
      "source": [
        "#### **5. Quantum Fourier Transform**"
      ]
    },
    {
      "cell_type": "markdown",
      "metadata": {
        "id": "yWhB-gl620ra"
      },
      "source": [
        "The operation\n",
        "\n",
        "$$\\alpha |0\\rangle + \\beta | 1 \\rangle \\rightarrow  \\alpha | 0 \\rangle +\\beta e^{2\\pi i\\ /\\ 2^k} | 1 \\rangle $$\n",
        "\n",
        "Can be represented in matrix form as\n",
        "\n",
        "$$R_k = \\begin{pmatrix}\n",
        "1 & 0 \\\\\n",
        "0 & e^{2\\pi i /2^k}\n",
        "\\end{pmatrix},$$\n",
        "\n",
        "while one of the basic transformations in the Qiskit package is *PhaseGate*, with matrix representation\n",
        "\n",
        "$$\\text{PhaseGate}(\\phi) = \\begin{pmatrix}\n",
        "1 & 0 \\\\\n",
        "0 & e^{i\\phi}\n",
        "\\end{pmatrix}.$$\n",
        "\n",
        "Hence,\n",
        "\n",
        "<font color=\"teal\"> **Question 5.1.** Check that the following function implements the $R_k$ transformation: </font>\n",
        "\n",
        "**Answer:**"
      ]
    },
    {
      "cell_type": "code",
      "execution_count": null,
      "metadata": {
        "colab": {
          "base_uri": "https://localhost:8080/",
          "height": 127
        },
        "id": "KfoMoUK534J6",
        "outputId": "8463a0b2-1121-4d16-83a0-38e32fc01d11"
      },
      "outputs": [
        {
          "data": {
            "image/png": "[encoded data removed]",
            "text/plain": [
              "<Figure size 185.453x117.056 with 1 Axes>"
            ]
          },
          "execution_count": 8,
          "metadata": {},
          "output_type": "execute_result"
        }
      ],
      "source": [
        "from qiskit.circuit.library import PhaseGate, XGate\n",
        "def R(k):\n",
        "    return PhaseGate((2.*np.pi)/pow(2,k))\n",
        "\n",
        "# Indeed, we can plot R(k) ∀ k with a parametrised circuit.\n",
        "# We see the transformation is implemented as desired.\n",
        "from qiskit.circuit import Parameter\n",
        "k = Parameter('k')\n",
        "ans = QuantumCircuit(1)\n",
        "ans.append(R(k),[0])\n",
        "ans.draw(output='mpl')"
      ]
    },
    {
      "cell_type": "markdown",
      "metadata": {
        "id": "AgezX-mNOEWx"
      },
      "source": [
        "We can try this gate and compare it to what we should get for a couple of values of $k$"
      ]
    },
    {
      "cell_type": "code",
      "execution_count": null,
      "metadata": {
        "colab": {
          "base_uri": "https://localhost:8080/"
        },
        "id": "txrASZVnODIR",
        "outputId": "9e1a3474-76ce-4c0e-8353-cd2459f6c50c"
      },
      "outputs": [
        {
          "name": "stdout",
          "output_type": "stream",
          "text": [
            "What we got        [(1-2.4492935982947064e-16j), (-1+1.2246467991473532e-16j), (6.123233995736766e-17+1j), (0.7071067811865476+0.7071067811865475j), (0.9238795325112867+0.3826834323650898j), (0.9807852804032304+0.19509032201612825j)]\n",
            "What we should get [(1-2.4492935982947064e-16j), (-1+1.2246467991473532e-16j), (6.123233995736766e-17+1j), (0.7071067811865476+0.7071067811865475j), (0.9238795325112867+0.3826834323650898j), (0.9807852804032304+0.19509032201612825j)]\n"
          ]
        }
      ],
      "source": [
        "MaxN=6\n",
        "Result=[0]*MaxN\n",
        "Real=[0]*MaxN\n",
        "for i in range(MaxN):\n",
        "  circ1 = QuantumCircuit(1)\n",
        "  circ1.x(0)\n",
        "  circ1.append(R(i),[0])\n",
        "  psi = Statevector(circ1)\n",
        "  Result[i]=psi[1]\n",
        "  Real[i]=np.exp(2*np.pi*(1j)/2**i)\n",
        "print('What we got        '+ str(Result))\n",
        "print('What we should get ' + str(Real))"
      ]
    },
    {
      "cell_type": "markdown",
      "metadata": {
        "id": "dZViz0fBQrN8"
      },
      "source": [
        "We can appreciate the $R_k$ gate performs the previously described transformation perfectly, although there is the same precision error in both calculations."
      ]
    },
    {
      "cell_type": "markdown",
      "metadata": {
        "id": "hLNz3SXIQxPr"
      },
      "source": [
        "In sections 5.1-5.2 we're walked through programming a 3-register QFT. At the step at which we accomplish\n",
        "\n",
        "$$| j_1j_2j_3\\rangle \\rightarrow | \\psi_1\\rangle = \\frac{1}{\\sqrt{2}}\\left(\\left|0\\right\\rangle+e^{2\\pi i (j_1/2 +j_2/4)}\\left|1\\right\\rangle\\right)\\otimes | j_2j_3\\rangle.$$"
      ]
    },
    {
      "cell_type": "code",
      "execution_count": null,
      "metadata": {
        "colab": {
          "base_uri": "https://localhost:8080/",
          "height": 255
        },
        "id": "cIOrUh7-NuTI",
        "outputId": "aabf9e37-9ccd-4c5f-cc57-d9706c741413"
      },
      "outputs": [
        {
          "data": {
            "image/png": "[encoded data removed]",
            "text/plain": [
              "<Figure size 371.107x284.278 with 1 Axes>"
            ]
          },
          "execution_count": 10,
          "metadata": {},
          "output_type": "execute_result"
        }
      ],
      "source": [
        "qft_circuit = QuantumCircuit(3, name = 'QFT')\n",
        "qft_circuit.h(2)\n",
        "qft_circuit.draw()\n",
        "qft_circuit.append(R(2).control(),[2,1])\n",
        "qft_circuit.draw(output='mpl')"
      ]
    },
    {
      "cell_type": "markdown",
      "metadata": {
        "id": "h_WVk1k9E0U4"
      },
      "source": [
        "**Question 5.2** <font color=\"teal\"> Write the state resulting from applying that transformation to the initial ket\n",
        " $| 010\\rangle$.\n",
        "    Check, with the <font color=\"blue\">Statevector <font color=\"teal\">\n",
        "    class that the circuit generates the correct output.</font>\n",
        "    \n",
        "**Answer:** We may compute the resulting state by hand. It is $\\frac{1}{\\sqrt{2}}(|0\\rangle+i|1\\rangle)\\otimes|10\\rangle$ or, in the binary basis, $\\frac{1}{\\sqrt{2}}(|2\\rangle+i|6\\rangle)$."
      ]
    },
    {
      "cell_type": "code",
      "execution_count": null,
      "metadata": {
        "colab": {
          "base_uri": "https://localhost:8080/"
        },
        "id": "SV_TpcA9FM9o",
        "outputId": "da15844e-fed6-4ced-846c-5ed246d0f073"
      },
      "outputs": [
        {
          "name": "stdout",
          "output_type": "stream",
          "text": [
            "Statevector([0.00000000e+00+0.j        , 0.00000000e+00+0.j        ,\n",
            "             7.07106781e-01+0.j        , 0.00000000e+00+0.j        ,\n",
            "             0.00000000e+00+0.j        , 0.00000000e+00+0.j        ,\n",
            "             4.32978028e-17+0.70710678j, 0.00000000e+00+0.j        ],\n",
            "            dims=(2, 2, 2))\n"
          ]
        }
      ],
      "source": [
        "init_state = np.zeros(8)\n",
        "init_state[2] = 1\n",
        "qc = QuantumCircuit(3)\n",
        "qc.initialize(init_state, range(3))\n",
        "qc.append(qft_circuit, range(3))\n",
        "phians = Statevector(qc)\n",
        "\n",
        "# By printing the result, this checks out\n",
        "phians"
      ]
    },
    {
      "cell_type": "markdown",
      "metadata": {
        "id": "QcNyysoBBBpM"
      },
      "source": [
        "#### <font color=\"teal\"> 5.3 QFT full exercise</font>\n",
        "\n",
        "<font color=\"teal\"> Please implement now the Quantum Fourier Transform as a gate acting over 5 qubits.  Apply this gate to the following states.</font>\n",
        "\n",
        "$$ |\\phi_1\\rangle = \\frac{1}{2^{5/2}}\\left(\\left|0\\right\\rangle+\\left|1\\right\\rangle\\right)\\left(\\left|0\\right\\rangle+\\left|1\\right\\rangle\\right)\\left(\\left|0\\right\\rangle+\\left|1\\right\\rangle\\right)\\left(\\left|0\\right\\rangle+\\left|1\\right\\rangle\\right)\\left(\\left|0\\right\\rangle-\\left|1\\right\\rangle\\right)$$\n",
        "$$ |\\phi_2\\rangle = \\frac{1}{2^{5/2}}\\left(\\left|0\\right\\rangle+\\left|1\\right\\rangle\\right)\\left(\\left|0\\right\\rangle+\\left|1\\right\\rangle\\right)\\left(\\left|0\\right\\rangle+\\left|1\\right\\rangle\\right)\\left(\\left|0\\right\\rangle-\\left|1\\right\\rangle\\right)\\left(\\left|0\\right\\rangle+\\left|1\\right\\rangle\\right)$$\n",
        "$$ |\\phi_3\\rangle = \\frac{1}{2^{5/2}}\\left(\\left|0\\right\\rangle+\\left|1\\right\\rangle\\right)\\left(\\left|0\\right\\rangle+\\left|1\\right\\rangle\\right)\\left(\\left|0\\right\\rangle-\\left|1\\right\\rangle\\right)\\left(\\left|0\\right\\rangle+\\left|1\\right\\rangle\\right)\\left(\\left|0\\right\\rangle+\\left|1\\right\\rangle\\right)$$\n",
        "$$ |\\phi_4\\rangle = \\frac{1}{2^{5/2}}\\left(\\left|0\\right\\rangle+\\left|1\\right\\rangle\\right)\\left(\\left|0\\right\\rangle-\\left|1\\right\\rangle\\right)\\left(\\left|0\\right\\rangle+\\left|1\\right\\rangle\\right)\\left(\\left|0\\right\\rangle+\\left|1\\right\\rangle\\right)\\left(\\left|0\\right\\rangle+\\left|1\\right\\rangle\\right)$$\n",
        "    \n",
        "<font color=\"teal\">Briefly comment on the results.  </font>\n",
        "\n",
        "**Answer:**"
      ]
    },
    {
      "cell_type": "code",
      "execution_count": null,
      "metadata": {
        "colab": {
          "base_uri": "https://localhost:8080/",
          "height": 523
        },
        "id": "q5L1dci1RHR7",
        "outputId": "3a5aa520-6095-4f0a-8353-5ac59d4e42a9"
      },
      "outputs": [
        {
          "data": {
            "image/png": "[encoded data removed]",
            "text/plain": [
              "<Figure size 2210.55x953.167 with 1 Axes>"
            ]
          },
          "execution_count": 12,
          "metadata": {},
          "output_type": "execute_result"
        }
      ],
      "source": [
        "# First, it is actually easier and more convenient to implement an N register QFT\n",
        "\n",
        "def QFT(N):\n",
        "    qc = QuantumCircuit(N)\n",
        "    for i in np.arange(N-1, -1, -1):\n",
        "        qc.h(i)\n",
        "        for j in range(i-1, -1, -1):\n",
        "            qc.append(R(i-j+1).control(),[i,j])\n",
        "    for i in range(N//2):\n",
        "        qc.swap(i, N-i-1)\n",
        "    return qc\n",
        "\n",
        "QFT(5).draw(output='mpl')"
      ]
    },
    {
      "cell_type": "code",
      "execution_count": null,
      "metadata": {
        "colab": {
          "base_uri": "https://localhost:8080/",
          "height": 384
        },
        "id": "TlqNa4-A8XCs",
        "outputId": "e3aae154-8a5c-4719-f6d6-b4641318ed04"
      },
      "outputs": [
        {
          "data": {
            "image/png": "[encoded data removed]",
            "text/plain": [
              "<Figure size 287.496x451.5 with 1 Axes>"
            ]
          },
          "execution_count": 13,
          "metadata": {},
          "output_type": "execute_result"
        }
      ],
      "source": [
        "# Next, let's notice the kets are\n",
        "# |phi1> = |+>|+>|+>|+>|->\n",
        "# |phi2> = |+>|+>|+>|->|+>\n",
        "# |phi3> = |+>|+>|->|+>|+>\n",
        "# |phi4> = |+>|->|+>|+>|+>\n",
        "# So it will be easiest to prepare the initial states with Hadamard gates as follows:\n",
        "\n",
        "\n",
        "def phi(n):\n",
        "    qc = QuantumCircuit(5)\n",
        "    qc.x(n)\n",
        "    for i in range(5):\n",
        "        qc.h(i)\n",
        "    return qc\n",
        "\n",
        "phi(0).draw(output='mpl')"
      ]
    },
    {
      "cell_type": "code",
      "execution_count": null,
      "metadata": {
        "colab": {
          "base_uri": "https://localhost:8080/"
        },
        "id": "OScz-nbg701e",
        "outputId": "cc5992ca-1826-4685-f2f1-e33c8ce21e0f"
      },
      "outputs": [
        {
          "data": {
            "text/plain": [
              "['(1.00+0.00j)|16>',\n",
              " '(0.50+0.50j)|8>+(0.50-0.50j)|24>',\n",
              " '(0.25+0.60j)|4>+(0.25+0.10j)|12>+(0.25-0.10j)|20>+(0.25-0.60j)|28>',\n",
              " '(0.12+0.63j)|2>+(0.12+0.19j)|6>+(0.12+0.08j)|10>+(0.12+0.02j)|14>+(0.12-0.02j)|18>+(0.12-0.08j)|22>+(0.12-0.19j)|26>+(0.12-0.63j)|30>']"
            ]
          },
          "execution_count": 14,
          "metadata": {},
          "output_type": "execute_result"
        }
      ],
      "source": [
        "# Next we must create a 5D QFT circuit\n",
        "qft5 = QFT(5).to_gate()\n",
        "# And apply it to each prepared state\n",
        "\n",
        "prec = 2 # Decimal precision\n",
        "phihat = np.empty((4, 32), dtype=np.cdouble)\n",
        "ket = []\n",
        "for i in range(4):\n",
        "    qc = phi(i)\n",
        "    qc.append(qft5, range(5))\n",
        "    phihat[i] = Statevector(qc)\n",
        "    # Format ket as a linear combination of basis vectors (string)\n",
        "    idx = np.where(np.abs(phihat[i])>10**-prec)\n",
        "    ket.append('+'.join([f'({phihat[i][j]:.{prec}f})|{j}>' for j in idx[0]]))\n",
        "\n",
        "# Print out Fourier transformed kets\n",
        "ket"
      ]
    },
    {
      "cell_type": "markdown",
      "metadata": {
        "id": "IvV9cYQ9R23u"
      },
      "source": [
        "Let $QFT5$ be the Quantum Fourier Transformation of 5 qubits, we obtained the following results:\n",
        "- $QFT5|\\phi_1\\rangle = |16⟩$\n",
        "- $\\displaystyle QFT5|\\phi_2\\rangle = \\frac{1}{2}(1+i)|8⟩+\\frac{1}{2}(1-i)|24⟩$\n",
        "-$\\displaystyle QFT5|\\phi_3\\rangle \\approx (0.25+0.60i)|4⟩+(0.25+0.10 i)|12⟩+(0.25-0.10 i) |20⟩ + (0.25-0.60i)|28⟩$\n",
        "-$\\displaystyle QFT5|\\phi_4\\rangle \\approx (0.12+0.63i)|2⟩+(0.12+0.19i)|6⟩+(0.12+0.08i)|10⟩+(0.12+0.02i)|14⟩+(0.12-0.02i)|18⟩+(0.12-0.08i)|22⟩+(0.12-0.19i)|26⟩+(0.12-0.63i)|30⟩$\n",
        "\n"
      ]
    },
    {
      "cell_type": "markdown",
      "metadata": {
        "id": "H8L5vpP-wMkK"
      },
      "source": [
        "## Session 3: Execution of real quantum circuits on IBM's computers"
      ]
    },
    {
      "cell_type": "code",
      "execution_count": 1,
      "metadata": {
        "id": "2HrbCjx0-vtw"
      },
      "outputs": [],
      "source": [
        "%%capture\n",
        "# Dependencies\n",
        "%pip install qiskit\n",
        "%pip install qiskit_aer\n",
        "%pip install qiskit_ibm_runtime\n",
        "%pip install pylatexenc\n",
        "\n",
        "# Importing standard Qiskit libraries\n",
        "from qiskit import primitives\n",
        "from qiskit import QuantumCircuit, transpile\n",
        "from qiskit.visualization import *\n",
        "from qiskit_ibm_runtime import QiskitRuntimeService, Sampler, Estimator, Session, Options\n",
        "from qiskit.quantum_info import Statevector, Pauli, SparsePauliOp, Operator\n",
        "import numpy as np"
      ]
    },
    {
      "cell_type": "markdown",
      "metadata": {
        "id": "NviLltBRwQxr"
      },
      "source": [
        "### **Random numbers**\n",
        "The generation of random numbers using a classical simulator of a quantum machine was conducted during the second session. Now, let's generate \"true random numbers\"! To achieve this, we define a 3-qubit circuit that prepares each of them in the superposition $\\tfrac{1}{\\sqrt2}(|0\\rangle+|1\\rangle)$ and measures them in the computational basis ${|0\\rangle,|1\\rangle}$. This setup ensures that the measurement outcomes will be 0 or 1 with equal probabilities of 0.5.\n",
        "#### <font color=teal> **Question 1**: Study the definition of the circuit with care </font>\n",
        "\n",
        "**Answer:** It creates a barrier of Hadamard gates, which prepares each qubit in an equal superposition of $|0\\rangle$ and $|1\\rangle$. The circuit assigns three qubits to each random number to be generated, meaning the random numbers range between $0$ and $7$."
      ]
    },
    {
      "cell_type": "code",
      "execution_count": 5,
      "metadata": {
        "id": "H4BvHI9hmaal"
      },
      "outputs": [],
      "source": [
        "# How many random numbers will be produced in a single shot:\n",
        "Nnumbers = 30  # Must be smaller than [127 qubits/3]=42\n",
        "# Prepare the input circuit.\n",
        "QRNG = QuantumCircuit(3*Nnumbers) # Three qubits per number\n",
        "for j in range(Nnumbers):\n",
        "  QRNG.h([(3*j+0),(3*j+1),(3*j+2)]) # Apply Hadamard gate to each of the qubits\n",
        "\n",
        "QRNG.measure_all() # Measure all qubits"
      ]
    },
    {
      "cell_type": "code",
      "execution_count": 6,
      "metadata": {
        "id": "LlT7N-0joUq4"
      },
      "outputs": [],
      "source": [
        "# Execute the circuit\n",
        "sampler = primitives.Sampler()\n",
        "job = sampler.run(QRNG, shots=1)"
      ]
    },
    {
      "cell_type": "code",
      "execution_count": 7,
      "metadata": {
        "id": "BaIUIfbIphW2"
      },
      "outputs": [],
      "source": [
        "# The next statement can put your session on hold until the job runs and returns\n",
        "result = job.result()"
      ]
    },
    {
      "cell_type": "markdown",
      "metadata": {
        "id": "RKo5Y8tDxQcu"
      },
      "source": [
        "#### <font color=teal> **Question 2**:  Comment on your results </font>\n",
        "\n",
        "**Answer:** We obtained the following result from the IBM Quantum Computer run in the lab with UCM tokens:\n",
        "\n",
        "``[{236732400872330227231122054: 1.0}]``\n",
        "\n",
        "After depuration we obtain the following list of numbers\n",
        "\n",
        "``[6, 0, 2, 1, 6, 4, 4, 5, 2, 2, 3, 3, 4, 2, 2, 3, 2, 1, 2, 5, 2, 2, 2, 0, 2, 2, 7, 1, 4, 1]``\n",
        "\n",
        "that we can plot in a *histogram*"
      ]
    },
    {
      "cell_type": "code",
      "execution_count": null,
      "metadata": {
        "colab": {
          "base_uri": "https://localhost:8080/",
          "height": 430
        },
        "id": "BCLqmmzYwbHh",
        "outputId": "7def0ebd-f0af-4cac-be67-a098d8333686"
      },
      "outputs": [
        {
          "data": {
            "image/png": "[encoded data removed]",
            "text/plain": [
              "<Figure size 640x480 with 1 Axes>"
            ]
          },
          "metadata": {},
          "output_type": "display_data"
        }
      ],
      "source": [
        "RandomNumbers = [6, 0, 2, 1, 6, 4, 4, 5, 2, 2, 3, 3, 4, 2, 2, 3, 2, 1, 2, 5, 2, 2, 2, 0, 2, 2, 7, 1, 4, 1]\n",
        "plt.hist(RandomNumbers, bins=range(9), align='left', edgecolor='black', linewidth=1)\n",
        "plt.show()"
      ]
    },
    {
      "cell_type": "markdown",
      "metadata": {
        "id": "5MWbGp6pz7Mb"
      },
      "source": [
        "### **Deutsch's algorithm**\n",
        "\n",
        "To encode the action of a Boolean fuction, the Deutsch's algorithm uses the following operation over two qubits\n",
        "\n",
        "$$\n",
        "|x\\rangle|y\\rangle\\to |x\\rangle|y\\oplus f(x)\\rangle\n",
        "$$\n",
        "\n",
        "where $\\oplus$ denotes the binary addition (i.e. the addition mod. 2).\n",
        "\n",
        "#### <font color=teal> **Homework 1** (to do later after the lab on pen and paper): <br>  Prove that this is a unitary operation. </font>\n",
        "\n",
        "**Answer:** It is clear that the quantum oracle preserves the norm of the basis vectors and is invertible, therefore it is unitary. If we take $(x,y)\\in\\{0,1\\}^2, f(x)\\in\\{0,1\\}$, we have that $y\\oplus f(x)\\in\\{0,1\\}$ &mdash; in other words, $|x\\rangle|y\\oplus f(x)\\rangle$ is a valid (basis) ket of the 4D Hilbert space. Thus:\n",
        "\n",
        "$$\n",
        "(\\langle x|\\langle y|)U_f^\\dagger U_f(|x\\rangle|y\\rangle) =(\\langle x|\\langle y\\oplus f(x)|)(|x\\rangle|y\\oplus f(x)\\rangle) = \\langle x|x\\rangle\\langle y\\oplus f(x)|y\\oplus f(x)\\rangle = 1\n",
        "$$\n",
        "\n",
        "Alternatively, given there exist a finite number of Boolean functions, we can calculate the oracle matrix for each $f$. If we place the control qubit $|x\\rangle$ first, as we'll later do in the circuits (so $|y,x\\rangle\\rightarrow|y\\oplus f(x), x\\rangle$), the representations of $U_f$ are\n",
        "\n",
        "$$\n",
        "\\begin{align}\n",
        "f(x)&=0:\\quad\n",
        "U_f = \\begin{pmatrix}\n",
        "1 & 0 & 0 & 0 \\\\\n",
        "0 & 1 & 0 & 0 \\\\\n",
        "0 & 0 & 1 & 0 \\\\\n",
        "0 & 0 & 0 & 1\n",
        "\\end{pmatrix},\n",
        "&\n",
        "f(x)&=1:\\quad\n",
        "U_f = \\begin{pmatrix}\n",
        "0 & 0 & 1 & 0 \\\\\n",
        "0 & 0 & 0 & 1 \\\\\n",
        "1 & 0 & 0 & 0 \\\\\n",
        "0 & 1 & 0 & 0\n",
        "\\end{pmatrix}\n",
        "\\end{align}\n",
        "$$\n",
        "\n",
        "$$\n",
        "\\begin{align}\n",
        "f(x)&=x: \\quad\n",
        "U_f = \\begin{pmatrix}\n",
        "1 & 0 & 0 & 0 \\\\\n",
        "0 & 0 & 0 & 1 \\\\\n",
        "0 & 0 & 1 & 0 \\\\\n",
        "0 & 1 & 0 & 0\n",
        "\\end{pmatrix},\n",
        "&\n",
        "f(x)&=\\neg x:\\quad\n",
        "U_f = \\begin{pmatrix}\n",
        "0 & 0 & 1 & 0 \\\\\n",
        "0 & 1 & 0 & 0 \\\\\n",
        "1 & 0 & 0 & 0 \\\\\n",
        "0 & 0 & 0 & 1\n",
        "\\end{pmatrix}\n",
        "\\end{align}\n",
        "$$\n",
        "\n",
        "These matrices all represent permutations, which are unitary operations."
      ]
    },
    {
      "cell_type": "markdown",
      "metadata": {
        "id": "j3lQ8jNszwA-"
      },
      "source": [
        "#### <font color=teal> **Question 2**: Complete the following cells to create quantum circuits for Oracle_f that decides whether $f$ is (or not) constant using the classical method with two evaluations </font>\n",
        "\n",
        "**Answer:** To evaluate $f$ using the oracle we can measure the rightmost qubit in the following two states:\n",
        "\n",
        "$$\n",
        "U_f|0\\rangle|0\\rangle = |0\\rangle|f(0)\\rangle\n",
        "$$\n",
        "\n",
        "$$\n",
        "U_f|1\\rangle|0\\rangle = |1\\rangle|f(1)\\rangle\n",
        "$$"
      ]
    },
    {
      "cell_type": "code",
      "execution_count": 2,
      "metadata": {
        "colab": {
          "base_uri": "https://localhost:8080/",
          "height": 255
        },
        "id": "hm3FHENw0ev3",
        "outputId": "9744fc8c-a993-42b8-9ec0-67868a33949e"
      },
      "outputs": [
        {
          "data": {
            "image/png": "[encoded data removed]",
            "text/plain": [
              "<Figure size 370.906x284.278 with 1 Axes>"
            ]
          },
          "execution_count": 2,
          "metadata": {},
          "output_type": "execute_result"
        }
      ],
      "source": [
        "Oracle_f = Operator([[0,0,1,0],[0,1,0,0],[1,0,0,0],[0,0,0,1]])\n",
        "Oracle_g = Operator([[0,0,1,0],[0,0,0,1],[1,0,0,0],[0,1,0,0]])\n",
        "\n",
        "# First evaluation\n",
        "Check_f0 = QuantumCircuit(2,1)\n",
        "Check_f0.unitary(Oracle_f, [0, 1], label=\"Oracle_f\")\n",
        "Check_f0.measure(1, 0)\n",
        "Check_f0.draw(output='mpl')"
      ]
    },
    {
      "cell_type": "code",
      "execution_count": 3,
      "metadata": {
        "colab": {
          "base_uri": "https://localhost:8080/",
          "height": 255
        },
        "id": "6Aapgedm4DBL",
        "outputId": "be43994a-beaf-4fe4-b23e-eac6eb447b8d"
      },
      "outputs": [
        {
          "data": {
            "image/png": "[encoded data removed]",
            "text/plain": [
              "<Figure size 454.517x284.278 with 1 Axes>"
            ]
          },
          "execution_count": 3,
          "metadata": {},
          "output_type": "execute_result"
        }
      ],
      "source": [
        "# Second evaluation\n",
        "Check_f1 = QuantumCircuit(2,1)\n",
        "Check_f1.x(0)\n",
        "Check_f1.unitary(Oracle_f, [0, 1], label=\"Oracle_f\")\n",
        "Check_f1.measure(1,0)\n",
        "Check_f1.draw(output='mpl')"
      ]
    },
    {
      "cell_type": "code",
      "execution_count": 11,
      "metadata": {
        "id": "25CA7Xqc6qIT"
      },
      "outputs": [],
      "source": [
        "# Run both evaluations\n",
        "sampler_S = primitives.Sampler()\n",
        "job_clf = sampler_S.run([Check_f0, Check_f1], shots=3)"
      ]
    },
    {
      "cell_type": "code",
      "execution_count": 12,
      "metadata": {
        "id": "-AJQUvyXmm5l"
      },
      "outputs": [],
      "source": [
        "# The next statement can put your session on hold until the job runs and returns\n",
        "result_clf = job_clf.result()"
      ]
    },
    {
      "cell_type": "markdown",
      "metadata": {
        "id": "QcRLU0jp4L64"
      },
      "source": [
        "#### <font color=teal> **Question 3**: By printing \"result_clf.quasi_dists\", explain why the following cell gives the calculated result for $f(0)$ and $f(1)$. </font>\n",
        "\n",
        "**Answer:** In Qiskit a `SamplerResult` object has the `quasi_dists` attribute, wich stores the quasiprobability distribution of each circuit. The function $f(x)$ appears to be $\\neg x$, and therefore a balanced function. Indeed, if we compare the `Oracle_f` with the matrix we calculated above for $f(x)=\\neg x$, they coincide. Our run in the lab yielded the same results as show below."
      ]
    },
    {
      "cell_type": "code",
      "execution_count": 5,
      "metadata": {
        "colab": {
          "base_uri": "https://localhost:8080/"
        },
        "id": "8WNUsIZ35OmL",
        "outputId": "f6a4d3b5-99d4-4035-f959-56d75707b6e5"
      },
      "outputs": [
        {
          "name": "stdout",
          "output_type": "stream",
          "text": [
            "f(0) = 1\n",
            "f(1) = 0\n"
          ]
        }
      ],
      "source": [
        "# Print the measurement results\n",
        "print(f\"f(0) = {max(result_clf.quasi_dists[0])}\")\n",
        "print(f\"f(1) = {max(result_clf.quasi_dists[1])}\")"
      ]
    },
    {
      "cell_type": "markdown",
      "metadata": {
        "id": "9A5zmSK44_8_"
      },
      "source": [
        "#### <font color=teal> **Question 4**: Complete the following cells to create quantum circuits for Oracle_g that solve the problem of whether $g$ is constant using the classical method of two evaluations </font>\n",
        "\n",
        "**Answer:** We may repeat the previous process. We find that $g(x)=1$, therefore $g$ is a constant function. Our run in the lab with UCM tokens yielded the same result."
      ]
    },
    {
      "cell_type": "code",
      "execution_count": 13,
      "metadata": {
        "id": "tazRnCJTDh8D"
      },
      "outputs": [],
      "source": [
        "# First evaluation\n",
        "Check_g0 = QuantumCircuit(2,1)\n",
        "Check_g0.unitary(Oracle_g, [0, 1], label=\"Oracle_g\")\n",
        "Check_g0.measure(1, 0)\n",
        "\n",
        "# Second evaluation\n",
        "Check_g1 = QuantumCircuit(2,1)\n",
        "Check_g1.x(0)\n",
        "Check_g1.unitary(Oracle_g, [0, 1], label=\"Oracle_g\")\n",
        "Check_g1.measure(1,0)\n",
        "\n",
        "# Run both evaluations\n",
        "sampler_S = primitives.Sampler()\n",
        "job_clg = sampler_S.run([Check_g0, Check_g1], shots=3)"
      ]
    },
    {
      "cell_type": "code",
      "execution_count": 14,
      "metadata": {
        "colab": {
          "base_uri": "https://localhost:8080/"
        },
        "id": "fl1ZU90jmwdM",
        "outputId": "501232ec-02b8-4779-bd48-a749eaf6b703"
      },
      "outputs": [
        {
          "name": "stdout",
          "output_type": "stream",
          "text": [
            "g(0) = 1\n",
            "g(1) = 1\n"
          ]
        }
      ],
      "source": [
        "# The next statement can put your session on hold until the job runs and returns\n",
        "result_clg = job_clg.result()\n",
        "\n",
        "# Print the measurement results\n",
        "print(f\"g(0) = {max(result_clg.quasi_dists[0])}\")\n",
        "print(f\"g(1) = {max(result_clg.quasi_dists[1])}\")"
      ]
    },
    {
      "cell_type": "markdown",
      "metadata": {
        "id": "7942KKio3T0t"
      },
      "source": [
        "The idea of Deutsch's algorithm is based on the use of quantum superposition to attempt a simultaneous evaluation and comparison of $f(0)$ and $f(1)$ with a single action of the quantum oracle.\n",
        "\n",
        "If $f(0)=f(1)$,\n",
        "\n",
        "$$\n",
        "U_f|+\\rangle|-\\rangle=\\frac{1}{2}\\big[|0\\rangle|f(0)\\rangle-|0\\rangle|1\\oplus f(0)\\rangle+|1\\rangle|f(0)\\rangle-|1\\rangle|1\\oplus f(0)\\rangle\\big]$$\n",
        "$$=\\frac{1}{2}\\big[\\big(|0\\rangle+|1\\rangle\\big)|f(0)\\rangle-\\big(|0\\rangle+|1\\rangle\\big)|1\\oplus f(0)\\rangle\\big]=|+\\rangle \\left[\\frac{|f(0)\\rangle-|1\\oplus f(0)\\rangle}{\\sqrt{2}}\\right]\n",
        "$$\n",
        "\n",
        "#### <font color=teal> **Homework question 5**: Prove (after the lab, on pen and paper): </font>\n",
        "<font color=teal> the alternative case, that\n",
        "if $f(0)\\neq f(1)$, the final state becomes: </font>\n",
        "    \n",
        "$$\n",
        "|-\\rangle \\left[\\frac{|f(0)\\rangle-|f(1)\\rangle}{\\sqrt{2}}\\right].\n",
        "$$"
      ]
    },
    {
      "cell_type": "markdown",
      "metadata": {
        "id": "pXLckwSO5QMV"
      },
      "source": [
        "**Answer:** If $f(0)\\neq f(1)$, then $f(0)\\oplus 1=f(1)$ and $f(1)\\oplus 1=f(0)$, therefore\n",
        "$$\n",
        "|+\\rangle|-\\rangle=\\frac{1}{2}\\big(|0\\rangle|0\\rangle-|0\\rangle|1\\rangle+|1\\rangle|0\\rangle-|1\\rangle|1\\rangle\\big)\\to $$\n",
        "$$\\frac{1}{2}\\big[|0\\rangle|f(0)\\rangle-|0\\rangle|1\\oplus f(0)\\rangle+|1\\rangle|f(1)\\rangle-|1\\rangle|1\\oplus f(1)\\rangle\\big] $$\n",
        "$$=\\frac{1}{2}\\big[|0\\rangle|f(0)\\rangle-|0\\rangle|f(1)\\rangle+|1\\rangle|f(1)\\rangle-|1\\rangle|f(0)\\rangle\\big] $$\n",
        "$$=\\frac{1}{2}\\big[|0\\rangle-|1\\rangle\\big]\\big[|f(0)\\rangle-|f(1)\\rangle\\big] =|-\\rangle \\left[\\frac{|f(0)\\rangle-|f(1)\\rangle}{\\sqrt{2}}\\right].$$\n",
        "\n",
        "\n",
        "After applying the oracle to $|+\\rangle|-\\rangle$, we may apply a Hadamard gate to the leftmost qubit and then measure it. This way we obtain $0$ if $f$ is constant and $1$ if $f$ is balanced."
      ]
    },
    {
      "cell_type": "markdown",
      "metadata": {
        "id": "uYUGDFCG6-nt"
      },
      "source": [
        "#### <font color=teal> **Question 6**: Define a quantum circuit to implement Deutsch's algorithm with the function $f$ and another with the function $g$ </font>\n",
        "\n",
        "**Answer:**"
      ]
    },
    {
      "cell_type": "markdown",
      "metadata": {
        "id": "zxr2rLZh7HHQ"
      },
      "source": [
        "For the function $f$:"
      ]
    },
    {
      "cell_type": "code",
      "execution_count": 7,
      "metadata": {
        "colab": {
          "base_uri": "https://localhost:8080/",
          "height": 255
        },
        "id": "J0qz65l67GJg",
        "outputId": "07b741c7-d033-47ea-9dfd-77b1cf494f25"
      },
      "outputs": [
        {
          "data": {
            "image/png": "[encoded data removed]",
            "text/plain": [
              "<Figure size 621.739x284.278 with 1 Axes>"
            ]
          },
          "execution_count": 7,
          "metadata": {},
          "output_type": "execute_result"
        }
      ],
      "source": [
        "deutsch_f = QuantumCircuit(2,1)\n",
        "deutsch_f.x(1)\n",
        "deutsch_f.h([0, 1])\n",
        "deutsch_f.unitary(Oracle_f, [0, 1], label=\"Oracle_f\")\n",
        "deutsch_f.h(0)\n",
        "deutsch_f.measure(0,0)\n",
        "deutsch_f.draw(output='mpl')"
      ]
    },
    {
      "cell_type": "markdown",
      "metadata": {
        "id": "e_xPtSCl7Kef"
      },
      "source": [
        "And for the function $g$ we just change the oracles:"
      ]
    },
    {
      "cell_type": "code",
      "execution_count": 8,
      "metadata": {
        "colab": {
          "base_uri": "https://localhost:8080/",
          "height": 255
        },
        "id": "F_eIzSdG7Twy",
        "outputId": "05bccbc6-7396-4176-a665-8445cb888613"
      },
      "outputs": [
        {
          "data": {
            "image/png": "[encoded data removed]",
            "text/plain": [
              "<Figure size 621.739x284.278 with 1 Axes>"
            ]
          },
          "execution_count": 8,
          "metadata": {},
          "output_type": "execute_result"
        }
      ],
      "source": [
        "deutsch_g = QuantumCircuit(2,1)\n",
        "deutsch_g.x(1)\n",
        "deutsch_g.h([0, 1])\n",
        "deutsch_g.unitary(Oracle_g, [0, 1], label=\"Oracle_g\")\n",
        "deutsch_g.h(0)\n",
        "deutsch_g.measure(0,0)\n",
        "deutsch_g.draw(output='mpl')"
      ]
    },
    {
      "cell_type": "markdown",
      "metadata": {
        "id": "FQjs_U3t64AT"
      },
      "source": [
        "#### <font color=teal> **Question 7**: Does the result of your quantum computation using Deutsch's algorithm agree with the previous classical result?"
      ]
    },
    {
      "cell_type": "markdown",
      "metadata": {
        "id": "8x30cau49LXg"
      },
      "source": [
        "**Answer:** The classical result was that $f$ is balanced (not constant) and $g$ is constant. After applying Deutsch's algorithm to both functions, we obtained the same result &mdash; that is, that $f$ is balanced and $g$ is constant. Our run in the lab with UCM tokens yielded the same result."
      ]
    },
    {
      "cell_type": "code",
      "execution_count": 17,
      "metadata": {
        "id": "mzm4y0pR2R_M"
      },
      "outputs": [],
      "source": [
        "# Execute the circuit\n",
        "sampler_S = primitives.Sampler()\n",
        "job_DeutschS = sampler_S.run([deutsch_f, deutsch_g], shots=3)\n"
      ]
    },
    {
      "cell_type": "code",
      "execution_count": 19,
      "metadata": {
        "colab": {
          "base_uri": "https://localhost:8080/"
        },
        "id": "XdHTBQM9nNxO",
        "outputId": "23a124f1-32c2-4e78-99ac-532ca75ed282"
      },
      "outputs": [
        {
          "name": "stdout",
          "output_type": "stream",
          "text": [
            "f is balanced\n",
            "g is constant\n"
          ]
        }
      ],
      "source": [
        "# The next statement can put your session on hold until the job runs and returns\n",
        "result_DeutschS = job_DeutschS.result()\n",
        "\n",
        "# Print the measurement results\n",
        "if max(result_DeutschS.quasi_dists[0]) == 0:\n",
        "    print(\"f is constant\")\n",
        "else:\n",
        "    print(\"f is balanced\")\n",
        "if max(result_DeutschS.quasi_dists[1])==0:\n",
        "    print(\"g is constant\")\n",
        "else:\n",
        "    print(\"g is balanced\")"
      ]
    },
    {
      "cell_type": "markdown",
      "metadata": {
        "id": "F_C7qdhHAMZk"
      },
      "source": [
        "### **Experimental measurement of a Bell inequality <br> (CHSH combination of correlators)**\n",
        "\n",
        "If $\\{A_1, A_2\\}$ and $\\{B_1,B_2\\}$ are two pairs of observables (with dichotomic/binary outcome) of two spatially separated systems, the expected values of their products $\\langle A_i B_j \\rangle$ according to any local hidden variable model (that is, an attempt at trying to explain away quantum features with additional classical mechanics variables) satisfy the classical CHSH inequality\n",
        "\n",
        "$$\n",
        "|\\langle A_1 B_1\\rangle +\\langle A_1 B_2\\rangle + \\langle A_2 B_1\\rangle - \\langle A_2 B_2\\rangle|\\leq 2 .\n",
        "$$\n",
        "\n",
        "Quantum theory, on the contrary, predicts that this inequality is violated for a suitable choice of observables, obtaining the maximum violation, in the case of two qubits, when\n",
        "\n",
        "$$\n",
        "A_1=X,\\quad A_2=Y, \\quad B_1=\\frac{-(X+Y)}{\\sqrt{2}}, \\quad B_2=\\frac{-(X-Y)}{\\sqrt{2}}\n",
        "$$\n",
        "or rotationally equivalent configurations. Here $X$ and $Y$ denote the $\\sigma_x$ and $\\sigma_y$ Pauli matrices."
      ]
    },
    {
      "cell_type": "markdown",
      "metadata": {
        "id": "zw164ZgFADlj"
      },
      "source": [
        "#### <font color=teal> **Question 2**: Using this command, define the four product observables that appear in the CHSH inequality: $A_1B_1$, $A_2B_1$, $A_1B_2$, and $A_2B_2$: </font>\n",
        "\n",
        "**Answer:**"
      ]
    },
    {
      "cell_type": "code",
      "execution_count": 10,
      "metadata": {
        "id": "tYY18oR0u4kH"
      },
      "outputs": [],
      "source": [
        "# Define pairs of observables for maximum violation of the CHSH innequality\n",
        "A1B1 = SparsePauliOp.from_list([('XX', -1/np.sqrt(2)), ('XY', -1/np.sqrt(2))])\n",
        "A1B2 = SparsePauliOp.from_list([('XX', -1/np.sqrt(2)), ('XY', +1/np.sqrt(2))])\n",
        "A2B1 = SparsePauliOp.from_list([('YX', -1/np.sqrt(2)), ('YY', -1/np.sqrt(2))])\n",
        "A2B2 = SparsePauliOp.from_list([('YX', -1/np.sqrt(2)), ('YY', +1/np.sqrt(2))])\n",
        "Obs = [A1B1, A1B2, A2B1, A2B2]"
      ]
    },
    {
      "cell_type": "markdown",
      "metadata": {
        "id": "qMyN68gNAxc9"
      },
      "source": [
        "#### <font color=teal> **Question 1**:  Define a circuit that prepares the \"singlet state\" of two qubits $|\\Psi^-\\rangle=\\tfrac{1}{\\sqrt2}(|01\\rangle-|10\\rangle)$.\n",
        "\n",
        "**Answer:** The following circuit specifically prepares the state $\\tfrac{i}{\\sqrt2}(|01\\rangle-|10\\rangle)$, which is physically equivalent to the requested state."
      ]
    },
    {
      "cell_type": "code",
      "execution_count": 8,
      "metadata": {
        "colab": {
          "base_uri": "https://localhost:8080/",
          "height": 191
        },
        "id": "rt6sYaCKsyh-",
        "outputId": "4500caaa-ce98-4300-9aa6-c0cd05ea124f"
      },
      "outputs": [
        {
          "data": {
            "image/png": "[encoded data removed]",
            "text/plain": [
              "<Figure size 370.906x200.667 with 1 Axes>"
            ]
          },
          "execution_count": 8,
          "metadata": {},
          "output_type": "execute_result"
        }
      ],
      "source": [
        "# Prepare the input circuit:\n",
        "chsh_circuit = QuantumCircuit(2)\n",
        "chsh_circuit.h(0) # Hadamard on the first qubit\n",
        "chsh_circuit.cx(0,1) # NOT controlled to the first qubit\n",
        "chsh_circuit.y([0]) # Y-Pauli gate to the first qubit\n",
        "chsh_circuit.draw(output=\"mpl\")"
      ]
    },
    {
      "cell_type": "markdown",
      "metadata": {
        "id": "LdiTNVFVBCLc"
      },
      "source": [
        "#### <font color=teal> **Question 3**: Calculate the simulated value obtained for the CHSH inequality jointly with its error </font>"
      ]
    },
    {
      "cell_type": "markdown",
      "metadata": {
        "id": "bvr-WKGBBC2I"
      },
      "source": [
        "**Answer:** The code we ran in the lab with UCM tokens yielded:\n",
        "\n",
        "``The simulated result is 2.81824 + 0.04:``\n",
        "\n",
        "``does it exceed 2 with sufficient statistical certainty?``\n"
      ]
    },
    {
      "cell_type": "code",
      "execution_count": 39,
      "metadata": {
        "colab": {
          "base_uri": "https://localhost:8080/"
        },
        "id": "6r4-L6RAvZCM",
        "outputId": "54f89461-0949-4243-d050-ae6acd760273"
      },
      "outputs": [
        {
          "name": "stdout",
          "output_type": "stream",
          "text": [
            "Simulated expectation values for the four correlators:\n",
            "  [ 0.70679991  0.69303455  0.70869596 -0.70636903]\n"
          ]
        }
      ],
      "source": [
        "# Execute the circuit\n",
        "shots_S = 5000\n",
        "estimator_S = primitives.Estimator()\n",
        "job_S = estimator_S.run([chsh_circuit]*len(Obs), Obs, shots=shots_S)\n",
        "result_S = job_S.result()\n",
        "\n",
        "# Print simulated expectation values\n",
        "print(f\"Simulated expectation values for the four correlators:\\n  {result_S.values}\")"
      ]
    },
    {
      "cell_type": "code",
      "execution_count": 34,
      "metadata": {
        "colab": {
          "base_uri": "https://localhost:8080/"
        },
        "id": "Wk3kmRzNzkEy",
        "outputId": "4fe59a6f-defa-4b45-f24f-101e6817d48e"
      },
      "outputs": [
        {
          "name": "stdout",
          "output_type": "stream",
          "text": [
            "Simulated standard errors: [0.01 0.01 0.01 0.01]\n"
          ]
        }
      ],
      "source": [
        "# Retrieve sample variance and number of shots from metadata\n",
        "metadata_S = result_S.metadata\n",
        "variance_S = np.array([metadata_S[i]['variance'] for i in range(4)])\n",
        "\n",
        "# Calculate and print simulated standard errors\n",
        "Standard_errors_S = np.sqrt(variance_S / shots_S)\n",
        "print(f\"Simulated standard errors: {Standard_errors_S}\")"
      ]
    },
    {
      "cell_type": "code",
      "execution_count": 38,
      "metadata": {
        "colab": {
          "base_uri": "https://localhost:8080/"
        },
        "id": "DwEajjiX-Zwa",
        "outputId": "7239247f-8a8f-4d2d-992c-cb3ada1c9be3"
      },
      "outputs": [
        {
          "name": "stdout",
          "output_type": "stream",
          "text": [
            "The simulated result is 2.8214 ± 0.0200:\n",
            "does it exceed 2 with sufficient statistical certainty?\n"
          ]
        }
      ],
      "source": [
        "# CHSH value\n",
        "values_S = result_S.values\n",
        "CHSH_mean = abs(values_S[0] + values_S[1] + values_S[2] - values_S[3])\n",
        "CHSH_uncertainty = np.sqrt(np.sum(Standard_errors_S**2))\n",
        "print(f'''The simulated result is {CHSH_mean:.4f} ± {CHSH_uncertainty:.4f}:\n",
        "does it exceed 2 with sufficient statistical certainty?''')"
      ]
    },
    {
      "cell_type": "markdown",
      "metadata": {
        "id": "OVnxU1wSBSW7"
      },
      "source": [
        "####  <font color=teal> **Question 4**: Compute, with a hand calculator or simple python commands, the experimental value obtained for the CHSH inequality jointly with its error from the quantum data obtained. </font>"
      ]
    },
    {
      "cell_type": "markdown",
      "metadata": {
        "id": "QSrRH28C3Aku"
      },
      "source": [
        "**Answer:** The code we ran in the lab with UCM tokens yielded:\n",
        "\n",
        "``The simulated result is 2.60215 + 0.41467:``\n",
        "\n",
        "``does it exceed 2 with sufficient statistical certainty?``"
      ]
    },
    {
      "cell_type": "code",
      "execution_count": 45,
      "metadata": {
        "id": "_TEOOv8UCkHY"
      },
      "outputs": [],
      "source": [
        "# Execute the circuit\n",
        "shots_Q = 50\n",
        "estimator_Q = primitives.Estimator()\n",
        "job_Q = estimator_Q.run([chsh_circuit]*len(Obs), Obs, shots=shots_Q)"
      ]
    },
    {
      "cell_type": "code",
      "execution_count": 46,
      "metadata": {
        "colab": {
          "base_uri": "https://localhost:8080/"
        },
        "id": "XYfxH-wZwNQ2",
        "outputId": "84771a51-ef5d-487d-c6a3-1b207bb67a61"
      },
      "outputs": [
        {
          "name": "stdout",
          "output_type": "stream",
          "text": [
            "Quantum expectation values for the four correlators:\n",
            "  [ 0.70679991  0.69303455  0.70869596 -0.70636903]\n"
          ]
        }
      ],
      "source": [
        "# The next statement can put your session on hold until the job runs and returns\n",
        "result_Q = job_Q.result()\n",
        "\n",
        "# Print quantum expectation values\n",
        "print(f\"Quantum expectation values for the four correlators:\\n  {result_S.values}\")"
      ]
    },
    {
      "cell_type": "code",
      "execution_count": 47,
      "metadata": {
        "colab": {
          "base_uri": "https://localhost:8080/"
        },
        "id": "XCzOdPpwCnfh",
        "outputId": "103c9cd7-eca9-447b-c0d1-efc1d71b4566"
      },
      "outputs": [
        {
          "name": "stdout",
          "output_type": "stream",
          "text": [
            "Quantum standard errors: [0.1 0.1 0.1 0.1]\n"
          ]
        }
      ],
      "source": [
        "# Retrieve sample variance and number of shots from metadata\n",
        "metadata_Q = result_Q.metadata\n",
        "variance_Q = np.array([metadata_Q[i]['variance'] for i in range(4)])\n",
        "\n",
        "# Calculate and print quantum standard errors\n",
        "Standard_errors_Q = np.sqrt(variance_Q / shots_Q)\n",
        "print(f\"Quantum standard errors: {Standard_errors_Q}\")"
      ]
    },
    {
      "cell_type": "code",
      "execution_count": 48,
      "metadata": {
        "colab": {
          "base_uri": "https://localhost:8080/"
        },
        "id": "1Zhaa9PIDLcz",
        "outputId": "1c1239b7-37a6-468b-d9d4-5cbfff7cd817"
      },
      "outputs": [
        {
          "name": "stdout",
          "output_type": "stream",
          "text": [
            "The quantum result is 2.8149 ± 0.0200:\n",
            "does it exceed 2 with sufficient statistical certainty?\n"
          ]
        }
      ],
      "source": [
        "# CHSH value\n",
        "values_S = result_S.values\n",
        "CHSH_mean = abs(values_S[0] + values_S[1] + values_S[2] - values_S[3])\n",
        "CHSH_uncertainty = np.sqrt(np.sum(Standard_errors_S**2))\n",
        "print(f'''The quantum result is {CHSH_mean:.4f} ± {CHSH_uncertainty:.4f}:\n",
        "does it exceed 2 with sufficient statistical certainty?''')"
      ]
    }
  ],
  "metadata": {
    "colab": {
      "provenance": []
    },
    "kernelspec": {
      "display_name": "Python 3",
      "name": "python3"
    },
    "language_info": {
      "codemirror_mode": {
        "name": "ipython",
        "version": 3
      },
      "file_extension": ".py",
      "mimetype": "text/x-python",
      "name": "python",
      "nbconvert_exporter": "python",
      "pygments_lexer": "ipython3",
      "version": "3.11.0"
    }
  },
  "nbformat": 4,
  "nbformat_minor": 0
}
