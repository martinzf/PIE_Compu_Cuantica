{
 "cells": [
  {
   "cell_type": "markdown",
   "id": "0c17d7fe-b133-4a9e-a22d-2d6dc8c5008d",
   "metadata": {},
   "source": [
    "# Experimental measurement of a Bell inequality <br> (CHSH combination of correlators)\n",
    "Introduction: The purpose of this computational exercise is to measure the CHSH correlators that test whether nature is (or is not) compatible with local realism by respecting (violating, as quantum mechanics predicts) the CHSH inequality. We will first simulate the experiment on a classical server in the IBM Cloud and then conduct the actual quantum experiment using the qubits of a quantum computer."
   ]
  },
  {
   "cell_type": "markdown",
   "id": "7b6bdafa-4014-4dc3-afbd-470940fae8c1",
   "metadata": {},
   "source": [
    "### PREAMBLE  "
   ]
  },
  {
   "cell_type": "code",
   "execution_count": 1,
   "id": "ceaefb45-f20c-4a32-bd54-9a5d2c79b296",
   "metadata": {},
   "outputs": [],
   "source": [
    "# Importing standard Qiskit libraries\n",
    "from qiskit import QuantumCircuit, transpile\n",
    "from qiskit.visualization import *\n",
    "from qiskit_ibm_runtime import QiskitRuntimeService, Sampler, Estimator, Session, Options\n",
    "from qiskit.quantum_info import Statevector, Pauli, SparsePauliOp\n",
    "import numpy as np\n",
    "from numpy import sqrt as sqrt\n",
    "np.set_printoptions(precision=7)"
   ]
  },
  {
   "cell_type": "markdown",
   "id": "ff2126b6-8873-47b2-8ea7-d4cfef579f60",
   "metadata": {},
   "source": [
    "Please copy your   token/API-key    number here (to generate it see instructions in the pdf)"
   ]
  },
  {
   "cell_type": "code",
   "execution_count": 2,
   "id": "fef11d70-3a47-433d-9a62-faa3c59978b5",
   "metadata": {},
   "outputs": [],
   "source": [
    "with open('token.txt', 'r') as f:\n",
    "    My_user_token = f.read() # Use this at home (long waiting time)"
   ]
  },
  {
   "cell_type": "code",
   "execution_count": 3,
   "id": "43d4a4f7-5468-43ce-ad70-92fbb75bfe73",
   "metadata": {},
   "outputs": [
    {
     "ename": "IBMNotAuthorizedError",
     "evalue": "'401 Client Error: Unauthorized for url: https://auth.quantum-computing.ibm.com/api/users/loginWithToken. Login failed., Error code: 3446.'",
     "output_type": "error",
     "traceback": [
      "\u001b[1;31m---------------------------------------------------------------------------\u001b[0m",
      "\u001b[1;31mHTTPError\u001b[0m                                 Traceback (most recent call last)",
      "File \u001b[1;32mc:\\Users\\zapat\\Escritorio\\CODE\\QC_19042024\\venv\\Lib\\site-packages\\qiskit_ibm_runtime\\api\\session.py:329\u001b[0m, in \u001b[0;36mRetrySession.request\u001b[1;34m(self, method, url, bare, **kwargs)\u001b[0m\n\u001b[0;32m    328\u001b[0m     response \u001b[38;5;241m=\u001b[39m \u001b[38;5;28msuper\u001b[39m()\u001b[38;5;241m.\u001b[39mrequest(method, final_url, headers\u001b[38;5;241m=\u001b[39mheaders, \u001b[38;5;241m*\u001b[39m\u001b[38;5;241m*\u001b[39mkwargs)\n\u001b[1;32m--> 329\u001b[0m     \u001b[43mresponse\u001b[49m\u001b[38;5;241;43m.\u001b[39;49m\u001b[43mraise_for_status\u001b[49m\u001b[43m(\u001b[49m\u001b[43m)\u001b[49m\n\u001b[0;32m    330\u001b[0m \u001b[38;5;28;01mexcept\u001b[39;00m RequestException \u001b[38;5;28;01mas\u001b[39;00m ex:\n\u001b[0;32m    331\u001b[0m     \u001b[38;5;66;03m# Wrap the requests exceptions into a IBM Q custom one, for\u001b[39;00m\n\u001b[0;32m    332\u001b[0m     \u001b[38;5;66;03m# compatibility.\u001b[39;00m\n",
      "File \u001b[1;32mc:\\Users\\zapat\\Escritorio\\CODE\\QC_19042024\\venv\\Lib\\site-packages\\requests\\models.py:1021\u001b[0m, in \u001b[0;36mResponse.raise_for_status\u001b[1;34m(self)\u001b[0m\n\u001b[0;32m   1020\u001b[0m \u001b[38;5;28;01mif\u001b[39;00m http_error_msg:\n\u001b[1;32m-> 1021\u001b[0m     \u001b[38;5;28;01mraise\u001b[39;00m HTTPError(http_error_msg, response\u001b[38;5;241m=\u001b[39m\u001b[38;5;28mself\u001b[39m)\n",
      "\u001b[1;31mHTTPError\u001b[0m: 401 Client Error: Unauthorized for url: https://auth.quantum-computing.ibm.com/api/users/loginWithToken",
      "\nThe above exception was the direct cause of the following exception:\n",
      "\u001b[1;31mIBMNotAuthorizedError\u001b[0m                     Traceback (most recent call last)",
      "Cell \u001b[1;32mIn[3], line 5\u001b[0m\n\u001b[0;32m      2\u001b[0m shots_S\u001b[38;5;241m=\u001b[39m\u001b[38;5;241m5000\u001b[39m \u001b[38;5;66;03m#simulation()\u001b[39;00m\n\u001b[0;32m      3\u001b[0m \u001b[38;5;66;03m# Loading your IBM Quantum account(s)\u001b[39;00m\n\u001b[0;32m      4\u001b[0m \u001b[38;5;66;03m#Quantum simulator\u001b[39;00m\n\u001b[1;32m----> 5\u001b[0m Simulation_service \u001b[38;5;241m=\u001b[39m \u001b[43mQiskitRuntimeService\u001b[49m\u001b[43m(\u001b[49m\u001b[43mchannel\u001b[49m\u001b[43m \u001b[49m\u001b[38;5;241;43m=\u001b[39;49m\u001b[43m \u001b[49m\u001b[38;5;124;43m\"\u001b[39;49m\u001b[38;5;124;43mibm_quantum\u001b[39;49m\u001b[38;5;124;43m\"\u001b[39;49m\u001b[43m,\u001b[49m\u001b[43m \u001b[49m\u001b[43mtoken\u001b[49m\u001b[38;5;241;43m=\u001b[39;49m\u001b[43mMy_user_token\u001b[49m\u001b[43m)\u001b[49m\n",
      "File \u001b[1;32mc:\\Users\\zapat\\Escritorio\\CODE\\QC_19042024\\venv\\Lib\\site-packages\\qiskit_ibm_runtime\\qiskit_runtime_service.py:158\u001b[0m, in \u001b[0;36mQiskitRuntimeService.__init__\u001b[1;34m(self, channel, token, url, filename, name, instance, proxies, verify, channel_strategy)\u001b[0m\n\u001b[0;32m    156\u001b[0m     \u001b[38;5;28;01mreturn\u001b[39;00m\n\u001b[0;32m    157\u001b[0m \u001b[38;5;28;01melse\u001b[39;00m:\n\u001b[1;32m--> 158\u001b[0m     auth_client \u001b[38;5;241m=\u001b[39m \u001b[38;5;28;43mself\u001b[39;49m\u001b[38;5;241;43m.\u001b[39;49m\u001b[43m_authenticate_ibm_quantum_account\u001b[49m\u001b[43m(\u001b[49m\u001b[38;5;28;43mself\u001b[39;49m\u001b[38;5;241;43m.\u001b[39;49m\u001b[43m_client_params\u001b[49m\u001b[43m)\u001b[49m\n\u001b[0;32m    159\u001b[0m     \u001b[38;5;66;03m# Update client parameters to use authenticated values.\u001b[39;00m\n\u001b[0;32m    160\u001b[0m     \u001b[38;5;28mself\u001b[39m\u001b[38;5;241m.\u001b[39m_client_params\u001b[38;5;241m.\u001b[39murl \u001b[38;5;241m=\u001b[39m auth_client\u001b[38;5;241m.\u001b[39mcurrent_service_urls()[\u001b[38;5;124m\"\u001b[39m\u001b[38;5;124mservices\u001b[39m\u001b[38;5;124m\"\u001b[39m][\u001b[38;5;124m\"\u001b[39m\u001b[38;5;124mruntime\u001b[39m\u001b[38;5;124m\"\u001b[39m]\n",
      "File \u001b[1;32mc:\\Users\\zapat\\Escritorio\\CODE\\QC_19042024\\venv\\Lib\\site-packages\\qiskit_ibm_runtime\\qiskit_runtime_service.py:334\u001b[0m, in \u001b[0;36mQiskitRuntimeService._authenticate_ibm_quantum_account\u001b[1;34m(self, client_params)\u001b[0m\n\u001b[0;32m    327\u001b[0m \u001b[38;5;28;01mif\u001b[39;00m \u001b[38;5;129;01mnot\u001b[39;00m version_info[\u001b[38;5;124m\"\u001b[39m\u001b[38;5;124mnew_api\u001b[39m\u001b[38;5;124m\"\u001b[39m] \u001b[38;5;129;01mor\u001b[39;00m \u001b[38;5;124m\"\u001b[39m\u001b[38;5;124mapi-auth\u001b[39m\u001b[38;5;124m\"\u001b[39m \u001b[38;5;129;01mnot\u001b[39;00m \u001b[38;5;129;01min\u001b[39;00m version_info:\n\u001b[0;32m    328\u001b[0m     \u001b[38;5;28;01mraise\u001b[39;00m IBMInputValueError(\n\u001b[0;32m    329\u001b[0m         \u001b[38;5;124m\"\u001b[39m\u001b[38;5;124mThe URL specified (\u001b[39m\u001b[38;5;132;01m{}\u001b[39;00m\u001b[38;5;124m) is not an IBM Quantum authentication URL. \u001b[39m\u001b[38;5;124m\"\u001b[39m\n\u001b[0;32m    330\u001b[0m         \u001b[38;5;124m\"\u001b[39m\u001b[38;5;124mValid authentication URL: \u001b[39m\u001b[38;5;132;01m{}\u001b[39;00m\u001b[38;5;124m.\u001b[39m\u001b[38;5;124m\"\u001b[39m\u001b[38;5;241m.\u001b[39mformat(\n\u001b[0;32m    331\u001b[0m             client_params\u001b[38;5;241m.\u001b[39murl, QISKIT_IBM_RUNTIME_API_URL\n\u001b[0;32m    332\u001b[0m         )\n\u001b[0;32m    333\u001b[0m     )\n\u001b[1;32m--> 334\u001b[0m auth_client \u001b[38;5;241m=\u001b[39m \u001b[43mAuthClient\u001b[49m\u001b[43m(\u001b[49m\u001b[43mclient_params\u001b[49m\u001b[43m)\u001b[49m\n\u001b[0;32m    335\u001b[0m service_urls \u001b[38;5;241m=\u001b[39m auth_client\u001b[38;5;241m.\u001b[39mcurrent_service_urls()\n\u001b[0;32m    336\u001b[0m \u001b[38;5;28;01mif\u001b[39;00m \u001b[38;5;129;01mnot\u001b[39;00m service_urls\u001b[38;5;241m.\u001b[39mget(\u001b[38;5;124m\"\u001b[39m\u001b[38;5;124mservices\u001b[39m\u001b[38;5;124m\"\u001b[39m, {})\u001b[38;5;241m.\u001b[39mget(SERVICE_NAME):\n",
      "File \u001b[1;32mc:\\Users\\zapat\\Escritorio\\CODE\\QC_19042024\\venv\\Lib\\site-packages\\qiskit_ibm_runtime\\api\\clients\\auth.py:39\u001b[0m, in \u001b[0;36mAuthClient.__init__\u001b[1;34m(self, client_params)\u001b[0m\n\u001b[0;32m     36\u001b[0m \u001b[38;5;28mself\u001b[39m\u001b[38;5;241m.\u001b[39m_service_urls \u001b[38;5;241m=\u001b[39m {}  \u001b[38;5;66;03m# type: ignore[var-annotated]\u001b[39;00m\n\u001b[0;32m     38\u001b[0m \u001b[38;5;28mself\u001b[39m\u001b[38;5;241m.\u001b[39mauth_api \u001b[38;5;241m=\u001b[39m Api(RetrySession(\u001b[38;5;28mself\u001b[39m\u001b[38;5;241m.\u001b[39mauth_url, \u001b[38;5;241m*\u001b[39m\u001b[38;5;241m*\u001b[39mclient_params\u001b[38;5;241m.\u001b[39mconnection_parameters()))\n\u001b[1;32m---> 39\u001b[0m \u001b[38;5;28mself\u001b[39m\u001b[38;5;241m.\u001b[39mbase_api \u001b[38;5;241m=\u001b[39m \u001b[38;5;28;43mself\u001b[39;49m\u001b[38;5;241;43m.\u001b[39;49m\u001b[43m_init_service_clients\u001b[49m\u001b[43m(\u001b[49m\u001b[38;5;241;43m*\u001b[39;49m\u001b[38;5;241;43m*\u001b[39;49m\u001b[43mclient_params\u001b[49m\u001b[38;5;241;43m.\u001b[39;49m\u001b[43mconnection_parameters\u001b[49m\u001b[43m(\u001b[49m\u001b[43m)\u001b[49m\u001b[43m)\u001b[49m\n",
      "File \u001b[1;32mc:\\Users\\zapat\\Escritorio\\CODE\\QC_19042024\\venv\\Lib\\site-packages\\qiskit_ibm_runtime\\api\\clients\\auth.py:51\u001b[0m, in \u001b[0;36mAuthClient._init_service_clients\u001b[1;34m(self, **request_kwargs)\u001b[0m\n\u001b[0;32m     42\u001b[0m \u001b[38;5;250m\u001b[39m\u001b[38;5;124;03m\"\"\"Initialize the clients used for communicating with the API.\u001b[39;00m\n\u001b[0;32m     43\u001b[0m \n\u001b[0;32m     44\u001b[0m \u001b[38;5;124;03mArgs:\u001b[39;00m\n\u001b[1;32m   (...)\u001b[0m\n\u001b[0;32m     48\u001b[0m \u001b[38;5;124;03m    Client for the API server.\u001b[39;00m\n\u001b[0;32m     49\u001b[0m \u001b[38;5;124;03m\"\"\"\u001b[39;00m\n\u001b[0;32m     50\u001b[0m \u001b[38;5;66;03m# Request an access token.\u001b[39;00m\n\u001b[1;32m---> 51\u001b[0m \u001b[38;5;28mself\u001b[39m\u001b[38;5;241m.\u001b[39maccess_token \u001b[38;5;241m=\u001b[39m \u001b[38;5;28;43mself\u001b[39;49m\u001b[38;5;241;43m.\u001b[39;49m\u001b[43m_request_access_token\u001b[49m\u001b[43m(\u001b[49m\u001b[43m)\u001b[49m\n\u001b[0;32m     52\u001b[0m \u001b[38;5;28mself\u001b[39m\u001b[38;5;241m.\u001b[39mauth_api\u001b[38;5;241m.\u001b[39msession\u001b[38;5;241m.\u001b[39mauth \u001b[38;5;241m=\u001b[39m QuantumAuth(access_token\u001b[38;5;241m=\u001b[39m\u001b[38;5;28mself\u001b[39m\u001b[38;5;241m.\u001b[39maccess_token)\n\u001b[0;32m     53\u001b[0m \u001b[38;5;28mself\u001b[39m\u001b[38;5;241m.\u001b[39m_service_urls \u001b[38;5;241m=\u001b[39m \u001b[38;5;28mself\u001b[39m\u001b[38;5;241m.\u001b[39muser_urls()\n",
      "File \u001b[1;32mc:\\Users\\zapat\\Escritorio\\CODE\\QC_19042024\\venv\\Lib\\site-packages\\qiskit_ibm_runtime\\api\\clients\\auth.py:77\u001b[0m, in \u001b[0;36mAuthClient._request_access_token\u001b[1;34m(self)\u001b[0m\n\u001b[0;32m     67\u001b[0m \u001b[38;5;250m\u001b[39m\u001b[38;5;124;03m\"\"\"Request a new access token from the API authentication service.\u001b[39;00m\n\u001b[0;32m     68\u001b[0m \n\u001b[0;32m     69\u001b[0m \u001b[38;5;124;03mReturns:\u001b[39;00m\n\u001b[1;32m   (...)\u001b[0m\n\u001b[0;32m     74\u001b[0m \u001b[38;5;124;03m    RequestsApiError: If the request failed.\u001b[39;00m\n\u001b[0;32m     75\u001b[0m \u001b[38;5;124;03m\"\"\"\u001b[39;00m\n\u001b[0;32m     76\u001b[0m \u001b[38;5;28;01mtry\u001b[39;00m:\n\u001b[1;32m---> 77\u001b[0m     response \u001b[38;5;241m=\u001b[39m \u001b[38;5;28;43mself\u001b[39;49m\u001b[38;5;241;43m.\u001b[39;49m\u001b[43mauth_api\u001b[49m\u001b[38;5;241;43m.\u001b[39;49m\u001b[43mlogin\u001b[49m\u001b[43m(\u001b[49m\u001b[38;5;28;43mself\u001b[39;49m\u001b[38;5;241;43m.\u001b[39;49m\u001b[43mapi_token\u001b[49m\u001b[43m)\u001b[49m\n\u001b[0;32m     78\u001b[0m     \u001b[38;5;28;01mreturn\u001b[39;00m response[\u001b[38;5;124m\"\u001b[39m\u001b[38;5;124mid\u001b[39m\u001b[38;5;124m\"\u001b[39m]\n\u001b[0;32m     79\u001b[0m \u001b[38;5;28;01mexcept\u001b[39;00m RequestsApiError \u001b[38;5;28;01mas\u001b[39;00m ex:\n\u001b[0;32m     80\u001b[0m     \u001b[38;5;66;03m# Get the original exception that raised.\u001b[39;00m\n",
      "File \u001b[1;32mc:\\Users\\zapat\\Escritorio\\CODE\\QC_19042024\\venv\\Lib\\site-packages\\qiskit_ibm_runtime\\api\\rest\\root.py:92\u001b[0m, in \u001b[0;36mApi.login\u001b[1;34m(self, api_token)\u001b[0m\n\u001b[0;32m     83\u001b[0m \u001b[38;5;250m\u001b[39m\u001b[38;5;124;03m\"\"\"Login with token.\u001b[39;00m\n\u001b[0;32m     84\u001b[0m \n\u001b[0;32m     85\u001b[0m \u001b[38;5;124;03mArgs:\u001b[39;00m\n\u001b[1;32m   (...)\u001b[0m\n\u001b[0;32m     89\u001b[0m \u001b[38;5;124;03m    JSON response.\u001b[39;00m\n\u001b[0;32m     90\u001b[0m \u001b[38;5;124;03m\"\"\"\u001b[39;00m\n\u001b[0;32m     91\u001b[0m url \u001b[38;5;241m=\u001b[39m \u001b[38;5;28mself\u001b[39m\u001b[38;5;241m.\u001b[39mget_url(\u001b[38;5;124m\"\u001b[39m\u001b[38;5;124mlogin\u001b[39m\u001b[38;5;124m\"\u001b[39m)\n\u001b[1;32m---> 92\u001b[0m \u001b[38;5;28;01mreturn\u001b[39;00m \u001b[38;5;28;43mself\u001b[39;49m\u001b[38;5;241;43m.\u001b[39;49m\u001b[43msession\u001b[49m\u001b[38;5;241;43m.\u001b[39;49m\u001b[43mpost\u001b[49m\u001b[43m(\u001b[49m\u001b[43murl\u001b[49m\u001b[43m,\u001b[49m\u001b[43m \u001b[49m\u001b[43mjson\u001b[49m\u001b[38;5;241;43m=\u001b[39;49m\u001b[43m{\u001b[49m\u001b[38;5;124;43m\"\u001b[39;49m\u001b[38;5;124;43mapiToken\u001b[39;49m\u001b[38;5;124;43m\"\u001b[39;49m\u001b[43m:\u001b[49m\u001b[43m \u001b[49m\u001b[43mapi_token\u001b[49m\u001b[43m}\u001b[49m\u001b[43m)\u001b[49m\u001b[38;5;241m.\u001b[39mjson()\n",
      "File \u001b[1;32mc:\\Users\\zapat\\Escritorio\\CODE\\QC_19042024\\venv\\Lib\\site-packages\\requests\\sessions.py:637\u001b[0m, in \u001b[0;36mSession.post\u001b[1;34m(self, url, data, json, **kwargs)\u001b[0m\n\u001b[0;32m    626\u001b[0m \u001b[38;5;28;01mdef\u001b[39;00m \u001b[38;5;21mpost\u001b[39m(\u001b[38;5;28mself\u001b[39m, url, data\u001b[38;5;241m=\u001b[39m\u001b[38;5;28;01mNone\u001b[39;00m, json\u001b[38;5;241m=\u001b[39m\u001b[38;5;28;01mNone\u001b[39;00m, \u001b[38;5;241m*\u001b[39m\u001b[38;5;241m*\u001b[39mkwargs):\n\u001b[0;32m    627\u001b[0m \u001b[38;5;250m    \u001b[39m\u001b[38;5;124mr\u001b[39m\u001b[38;5;124;03m\"\"\"Sends a POST request. Returns :class:`Response` object.\u001b[39;00m\n\u001b[0;32m    628\u001b[0m \n\u001b[0;32m    629\u001b[0m \u001b[38;5;124;03m    :param url: URL for the new :class:`Request` object.\u001b[39;00m\n\u001b[1;32m   (...)\u001b[0m\n\u001b[0;32m    634\u001b[0m \u001b[38;5;124;03m    :rtype: requests.Response\u001b[39;00m\n\u001b[0;32m    635\u001b[0m \u001b[38;5;124;03m    \"\"\"\u001b[39;00m\n\u001b[1;32m--> 637\u001b[0m     \u001b[38;5;28;01mreturn\u001b[39;00m \u001b[38;5;28;43mself\u001b[39;49m\u001b[38;5;241;43m.\u001b[39;49m\u001b[43mrequest\u001b[49m\u001b[43m(\u001b[49m\u001b[38;5;124;43m\"\u001b[39;49m\u001b[38;5;124;43mPOST\u001b[39;49m\u001b[38;5;124;43m\"\u001b[39;49m\u001b[43m,\u001b[49m\u001b[43m \u001b[49m\u001b[43murl\u001b[49m\u001b[43m,\u001b[49m\u001b[43m \u001b[49m\u001b[43mdata\u001b[49m\u001b[38;5;241;43m=\u001b[39;49m\u001b[43mdata\u001b[49m\u001b[43m,\u001b[49m\u001b[43m \u001b[49m\u001b[43mjson\u001b[49m\u001b[38;5;241;43m=\u001b[39;49m\u001b[43mjson\u001b[49m\u001b[43m,\u001b[49m\u001b[43m \u001b[49m\u001b[38;5;241;43m*\u001b[39;49m\u001b[38;5;241;43m*\u001b[39;49m\u001b[43mkwargs\u001b[49m\u001b[43m)\u001b[49m\n",
      "File \u001b[1;32mc:\\Users\\zapat\\Escritorio\\CODE\\QC_19042024\\venv\\Lib\\site-packages\\qiskit_ibm_runtime\\api\\session.py:350\u001b[0m, in \u001b[0;36mRetrySession.request\u001b[1;34m(self, method, url, bare, **kwargs)\u001b[0m\n\u001b[0;32m    348\u001b[0m             message \u001b[38;5;241m+\u001b[39m\u001b[38;5;241m=\u001b[39m \u001b[38;5;124mf\u001b[39m\u001b[38;5;124m\"\u001b[39m\u001b[38;5;124m. \u001b[39m\u001b[38;5;132;01m{\u001b[39;00mex\u001b[38;5;241m.\u001b[39mresponse\u001b[38;5;241m.\u001b[39mtext\u001b[38;5;132;01m}\u001b[39;00m\u001b[38;5;124m\"\u001b[39m\n\u001b[0;32m    349\u001b[0m     \u001b[38;5;28;01mif\u001b[39;00m status_code \u001b[38;5;241m==\u001b[39m \u001b[38;5;241m401\u001b[39m:\n\u001b[1;32m--> 350\u001b[0m         \u001b[38;5;28;01mraise\u001b[39;00m IBMNotAuthorizedError(message) \u001b[38;5;28;01mfrom\u001b[39;00m \u001b[38;5;21;01mex\u001b[39;00m\n\u001b[0;32m    351\u001b[0m     \u001b[38;5;28;01mraise\u001b[39;00m RequestsApiError(message, status_code) \u001b[38;5;28;01mfrom\u001b[39;00m \u001b[38;5;21;01mex\u001b[39;00m\n\u001b[0;32m    353\u001b[0m \u001b[38;5;28;01mreturn\u001b[39;00m response\n",
      "\u001b[1;31mIBMNotAuthorizedError\u001b[0m: '401 Client Error: Unauthorized for url: https://auth.quantum-computing.ibm.com/api/users/loginWithToken. Login failed., Error code: 3446.'"
     ]
    }
   ],
   "source": [
    "# Number of shots (repetitions of the program)\n",
    "shots_S=5000 #simulation()\n",
    "# Loading your IBM Quantum account(s)\n",
    "#Quantum simulator\n",
    "Simulation_service = QiskitRuntimeService(channel = \"ibm_quantum\", token=My_user_token)\n"
   ]
  },
  {
   "cell_type": "markdown",
   "id": "4693e899-70f2-44aa-9cb4-be0ca5f67cfc",
   "metadata": {},
   "source": [
    "### The CHSH inequality:\n",
    "If $\\{A_1, A_2\\}$ and $\\{B_1,B_2\\}$ are two pairs of observables (with dichotomic/binary outcome) of two spatially separated systems, the expected values of their products $\\langle A_i B_j \\rangle$ according to any local hidden variable model (that is, an attempt at trying to explain away quantum features with additional classical mechanics variables) satisfy the classical CHSH inequality\n",
    "\n",
    "$$\n",
    "|\\langle A_1 B_1\\rangle +\\langle A_1 B_2\\rangle + \\langle A_2 B_1\\rangle - \\langle A_2 B_2\\rangle|\\leq 2 .\n",
    "$$\n",
    "\n",
    "Quantum theory, on the contrary, predicts that this inequality is violated for a suitable choice of observables, obtaining the maximum violation, in the case of two qubits, when \n",
    "\n",
    "$$\n",
    "A_1=X,\\quad A_2=Y, \\quad B_1=\\frac{-(X+Y)}{\\sqrt{2}}, \\quad B_2=\\frac{-(X-Y)}{\\sqrt{2}} \n",
    "$$\n",
    "or rotationally equivalent configurations. Here $X$ and $Y$ denote the $\\sigma_x$ and $\\sigma_y$ Pauli matrices."
   ]
  },
  {
   "cell_type": "markdown",
   "id": "3f766456-2e67-4bb8-9eb6-cedbb77603a1",
   "metadata": {},
   "source": [
    "The command \"SparsePauliOp.from_list([('O1', c1), ('O2', c2),...])\" takes as input the coefficients (simply numbers) \"c1, c2, ...\" and one or more Pauli matrices written as a text string  \"O1, O2,...\" (e.g. O1=XYYXZ$\\equiv\\sigma_x\\otimes \\sigma_y \\otimes \\sigma_y\\otimes \\sigma_x \\otimes \\sigma_z$). On output it produces the operator c1 O1 + c2 O2 + ... \n",
    " \n",
    "#### <font color=teal> **Question 2**: Using this command, define the four product observables that appear in the CHSH inequality: $A_1B_1$, $A_2B_1$, $A_1B_2$, and $A_2B_2$: </font>"
   ]
  },
  {
   "cell_type": "code",
   "execution_count": 4,
   "id": "93fde99d-388e-4040-8413-db8b0c4d7cab",
   "metadata": {
    "tags": []
   },
   "outputs": [],
   "source": [
    "# Define pairs of observables for maximum violation of the CHSH innequality\n",
    "A1B1aux=SparsePauliOp.from_list([('XX', -1/sqrt(2)), ('XY', -1/sqrt(2))]) \n",
    "A1B2aux=SparsePauliOp.from_list([('XX', -1/sqrt(2)), ('XY', +1/sqrt(2))]) \n",
    "A2B1aux=SparsePauliOp.from_list([('YX', -1/sqrt(2)), ('YY', -1/sqrt(2))]) \n",
    "A2B2aux=SparsePauliOp.from_list([('YX', -1/sqrt(2)), ('YY', +1/sqrt(2))]) \n",
    "Obsaux=[A1B1aux,A1B2aux,A2B1aux,A2B2aux]\n",
    "\n",
    "\n",
    "\n",
    "#This paragraph may prove necessary: it is so to use it from quantum lab\n",
    "#We need to fill with the identity (do nothing) the rest of the qubits\n",
    "#this is thought for the current 127-qubit machines\n",
    "#n_remaining_qubits = 125\n",
    "#I125=SparsePauliOp(\"I\" * n_remaining_qubits)\n",
    "#A1B1=A1B1aux.tensor(I125)\n",
    "#A1B2=A1B2aux.tensor(I125)\n",
    "#A2B1=A2B1aux.tensor(I125)\n",
    "#A2B2=A2B2aux.tensor(I125)\n",
    "\n",
    "#Obs=[A1B1,A1B2,A2B1,A2B2] #The four correlators are packaged in one list of observables\n"
   ]
  },
  {
   "cell_type": "markdown",
   "id": "33d7db80-b1ee-46c6-9500-be4541284121",
   "metadata": {
    "tags": []
   },
   "source": [
    "### Initialization of the circuit\n",
    "#### <font color=teal> **Question 1**:  Define a circuit that prepares the \"singlet state\" of two qubits $|\\Psi^-\\rangle=\\tfrac{1}{\\sqrt2}(|01\\rangle-|10\\rangle)$."
   ]
  },
  {
   "cell_type": "code",
   "execution_count": 5,
   "id": "bf8ba572-463f-4de9-83eb-595a93084757",
   "metadata": {
    "tags": []
   },
   "outputs": [
    {
     "data": {
      "image/png": "[encoded data removed]",
      "text/plain": [
       "<Figure size 370.906x200.667 with 1 Axes>"
      ]
     },
     "execution_count": 5,
     "metadata": {},
     "output_type": "execute_result"
    }
   ],
   "source": [
    "# Prepare the input circuit:\n",
    "chsh_circuit = QuantumCircuit(2)\n",
    "chsh_circuit.h(0) #Hadamard on the first qubit\n",
    "chsh_circuit.cx(0,1) #NOT controlled to the first qubit\n",
    "chsh_circuit.y([0]) # Y-Pauli gate to the first qubit\n",
    "chsh_circuit.draw(output=\"mpl\")"
   ]
  },
  {
   "cell_type": "markdown",
   "id": "19dfedce-7723-455a-b27a-c8b00a7e4d42",
   "metadata": {},
   "source": [
    "### Run the quantum circuit on the simulation machine"
   ]
  },
  {
   "cell_type": "markdown",
   "id": "fbf35f14-e0b8-4a7f-8949-597402f168af",
   "metadata": {},
   "source": [
    "The idea is to \"measure\" the observable <font color=\"blue\"> Obs </font> over the state just prepared and stored in <font color=\"blue\">chsh_circuit</font>."
   ]
  },
  {
   "cell_type": "code",
   "execution_count": 6,
   "id": "85a75e6c-f3f3-421f-88da-1290b5ee98d3",
   "metadata": {
    "tags": []
   },
   "outputs": [
    {
     "name": "stderr",
     "output_type": "stream",
     "text": [
      "/home/quantum/quantum50/.pyenv/versions/3.8.5/lib/python3.8/site-packages/qiskit_ibm_runtime/qiskit_runtime_service.py:879: UserWarning: Cloud simulators have been deprecated and will be removed on 15 May 2024. Use the new local testing mode in qiskit-ibm-runtime version 0.22.0 or later to meet your debugging needs.\n",
      "  warnings.warn(warning_message)\n"
     ]
    }
   ],
   "source": [
    "# Choose the \"backend\" (computational engine doing the work behind)\n",
    "backend_S = Simulation_service.backend(\"ibmq_qasm_simulator\") # We will use the simulation machine qasm  \n",
    "estimator_S = Estimator(backend=backend_S) #for the determination of mean values\n",
    "\n",
    "# Execute the circuit \n",
    "job_S = estimator_S.run([chsh_circuit]*len(Obsaux),Obsaux,shots=shots_S)\n",
    "result_S = job_S.result()"
   ]
  },
  {
   "cell_type": "code",
   "execution_count": 7,
   "id": "c0290d90-9dac-49d2-ac23-0070f0428811",
   "metadata": {
    "tags": []
   },
   "outputs": [
    {
     "name": "stdout",
     "output_type": "stream",
     "text": [
      "Simulated expectation values for the four correlators:\n",
      "  [ 0.7164406  0.7017328  0.7161577 -0.7209661]\n"
     ]
    }
   ],
   "source": [
    "#Print simulated expectation values\n",
    "print(f\"Simulated expectation values for the four correlators:\\n  {result_S.values}\")"
   ]
  },
  {
   "cell_type": "markdown",
   "id": "5a1a81fe-16d7-421e-8aa0-cd35ab7662e3",
   "metadata": {},
   "source": [
    "With those four number we can check whether the CHSH inequality is or is not violated;<br> however, we would like to know the uncertainty in the test, so we need to get some more data from the various shots (repetitions of the quantum measurement on the computer)."
   ]
  },
  {
   "cell_type": "code",
   "execution_count": 8,
   "id": "2a6118dc-55db-4586-b5f4-8e922ff3c3d8",
   "metadata": {
    "tags": []
   },
   "outputs": [
    {
     "name": "stdout",
     "output_type": "stream",
     "text": [
      "Simulated standard errors: [0.01, 0.01, 0.01, 0.009998079015490926]\n"
     ]
    }
   ],
   "source": [
    "# Retrieve sample variance and number of shots from metadata\n",
    "metadata_S = result_S.metadata\n",
    "dic_ob_S1=metadata_S[0]\n",
    "dic_ob_S2=metadata_S[1]\n",
    "dic_ob_S3=metadata_S[2]\n",
    "dic_ob_S4=metadata_S[3]\n",
    "variance_S1=round(dic_ob_S1[\"variance\"],3)\n",
    "variance_S2=round(dic_ob_S2[\"variance\"],3)\n",
    "variance_S3=round(dic_ob_S3[\"variance\"],3)\n",
    "variance_S4=round(dic_ob_S4[\"variance\"],9) #note the different rounding off here, for checking\n",
    "\n",
    "\n",
    "# Calculate and print simulated standard errors\n",
    "Standard_errors_S = [sqrt(variance_S1 / shots_S),sqrt(variance_S2 / shots_S),sqrt(variance_S3 / shots_S),sqrt(variance_S4 / shots_S)]\n",
    "print(f\"Simulated standard errors: {Standard_errors_S}\")"
   ]
  },
  {
   "cell_type": "markdown",
   "id": "79a77f12-ec27-4c7f-a0e7-fe9828e96a95",
   "metadata": {},
   "source": [
    "#### <font color=teal> **Question 3**: Calculate the simulated value obtained for the CHSH inequality jointly with its error </font>"
   ]
  },
  {
   "cell_type": "code",
   "execution_count": 9,
   "id": "ed081585-2d85-438f-9690-24153338c3e0",
   "metadata": {
    "tags": []
   },
   "outputs": [
    {
     "name": "stdout",
     "output_type": "stream",
     "text": [
      "The simulated result is 2.8553 + 0.04:\n",
      "does it exceed 2 with sufficient statistical certainty?\n"
     ]
    }
   ],
   "source": [
    "CHSH_mean=round(abs(result_S.values[0]+result_S.values[1]+result_S.values[2]-result_S.values[3]),5)\n",
    "CHSH_uncertainty=round(sum(Standard_errors_S),5)\n",
    "print(f\"The simulated result is {CHSH_mean} + {CHSH_uncertainty}:\\ndoes it exceed 2 with sufficient statistical certainty?\")"
   ]
  },
  {
   "cell_type": "markdown",
   "id": "9228cf52-47f7-403f-b3e1-e44e72f8e127",
   "metadata": {
    "tags": []
   },
   "source": [
    "### Run the quantum circuit on a real quantum machine"
   ]
  },
  {
   "cell_type": "markdown",
   "id": "5916148c-79d6-4daf-b71b-0fd1aae924f9",
   "metadata": {},
   "source": [
    "In the lab sesion we used premium accounts to fast forward over the long queue list of IBM's quantum machines. If waiting time is not a problem, free accounts also give access to real quantum devices."
   ]
  },
  {
   "cell_type": "markdown",
   "id": "10c57b69-1697-4b7c-8daf-f123e78deeae",
   "metadata": {},
   "source": [
    "We need to change the token to the one associated to the UCM account"
   ]
  },
  {
   "cell_type": "code",
   "execution_count": 10,
   "id": "b00fd9ac-fa1c-4cdb-8f7f-d5a63b0b958e",
   "metadata": {},
   "outputs": [],
   "source": [
    "My_UCMIBMuser_token=\"\""
   ]
  },
  {
   "cell_type": "markdown",
   "id": "480bc3a9-994b-4a7c-b6f7-08e520646b69",
   "metadata": {},
   "source": [
    "##### Defining the quantum backend"
   ]
  },
  {
   "cell_type": "code",
   "execution_count": 11,
   "id": "f5d6e562-88de-4dd3-8793-5d7e028f47ca",
   "metadata": {
    "tags": []
   },
   "outputs": [],
   "source": [
    "# Quantum machine\n",
    "\n",
    "Quantum_service = QiskitRuntimeService(channel=\"ibm_cloud\",channel_strategy='q-ctrl',token=My_UCMIBMuser_token,instance=\"crn:v1:bluemix:public:quantum-computing:us-east:a/83fec30047ef464aaab4e69510a7aa89:1daf4417-d740-41a1-83af-d58977e3e4ac::\")"
   ]
  },
  {
   "cell_type": "markdown",
   "id": "9d9b23e0-e018-4af4-86e3-8a81254c4ce0",
   "metadata": {},
   "source": [
    "First we have to choose one of the available machines: we let the system do it with some requirements"
   ]
  },
  {
   "cell_type": "code",
   "execution_count": 21,
   "id": "6988b8c3-31fb-43bd-8031-caabc228393e",
   "metadata": {
    "tags": []
   },
   "outputs": [],
   "source": [
    "#First option: choose the least busy machine\n",
    "backend_Q = Quantum_service.least_busy(operational=True, simulator=False, min_num_qubits=20)\n",
    "#Second option: \n",
    "#backend_Q = Quantum_service.get_backend(\"ibm_brisbane\")\n",
    "#backend_Q = Quantum_service.get_backend(\"ibm_osaka\")\n",
    "#backend_Q = Quantum_service.get_backend(\"ibm_kyoto\")"
   ]
  },
  {
   "cell_type": "code",
   "execution_count": 22,
   "id": "f9b113ca-b6ef-4c33-b8ee-c91064e9a121",
   "metadata": {
    "tags": []
   },
   "outputs": [
    {
     "data": {
      "text/html": [
       "<pre>&lt;qiskit.providers.models.backendstatus.BackendStatus object at 0x7ff86ed91c70&gt;</pre><b>name</b>: ibm_osaka<br/><b>version</b>: , <b>pending jobs</b>: 139<br/><b>status</b>: active<br/>"
      ],
      "text/plain": [
       "<qiskit.providers.models.backendstatus.BackendStatus at 0x7ff86ed91c70>"
      ]
     },
     "execution_count": 22,
     "metadata": {},
     "output_type": "execute_result"
    }
   ],
   "source": [
    "backend_Q.status()"
   ]
  },
  {
   "cell_type": "markdown",
   "id": "ee665f53-20d6-4a4f-91e3-d83be8c3dfe3",
   "metadata": {},
   "source": [
    "##### Sending jobs to the machine <br>\n",
    "<font color=\"red\"> Executing the following cell will cause a charge on your free monthly time allotment, currently 10 min. courtesy of IBM</font>"
   ]
  },
  {
   "cell_type": "code",
   "execution_count": 15,
   "id": "55b45591-2ec6-4c95-a610-1c99d4375ab7",
   "metadata": {},
   "outputs": [
    {
     "name": "stderr",
     "output_type": "stream",
     "text": [
      "qctrl._warn_and_clean_options:WARNING:2024-04-12 10:22:30,265: The following settings cannot be customized and will be overwritten: approximation_degree,optimization_level\n"
     ]
    }
   ],
   "source": [
    "# Maximum execution time in seconds\n",
    "my_options = {\"max_execution_time\": 9}\n",
    "# Number of shots\n",
    "shots_Q=50 #quantum machine()\n",
    "estimator_Q = Estimator(backend=backend_Q,options=my_options) #for the determination of mean values\n",
    "# Execute the circuit \n",
    "job_Q = estimator_Q.run([chsh_circuit]*len(Obsaux),Obsaux,shots=shots_Q)"
   ]
  },
  {
   "cell_type": "markdown",
   "id": "d8299184-ea54-42f7-a090-047107cea958",
   "metadata": {},
   "source": [
    "##### Checking job state"
   ]
  },
  {
   "cell_type": "code",
   "execution_count": 23,
   "id": "b085343b-c8e0-4fa1-bed3-2ca447ccb640",
   "metadata": {
    "tags": []
   },
   "outputs": [
    {
     "data": {
      "text/plain": [
       "<JobStatus.QUEUED: 'job is queued'>"
      ]
     },
     "execution_count": 23,
     "metadata": {},
     "output_type": "execute_result"
    }
   ],
   "source": [
    "# The following cell gives information about the job\n",
    "job_Q.status() # Status"
   ]
  },
  {
   "cell_type": "code",
   "execution_count": 24,
   "id": "a49ec934-9e25-4995-9665-2adfad917f8c",
   "metadata": {
    "tags": []
   },
   "outputs": [
    {
     "data": {
      "text/plain": [
       "'coceuhtaac6bnkb87so0'"
      ]
     },
     "execution_count": 24,
     "metadata": {},
     "output_type": "execute_result"
    }
   ],
   "source": [
    "job_Q.job_id() # Identification code"
   ]
  },
  {
   "cell_type": "markdown",
   "id": "137f5830-fcbd-48e2-b427-4046b5710e50",
   "metadata": {
    "jp-MarkdownHeadingCollapsed": true
   },
   "source": [
    "#####   <font color=\"red\"> ATTENTION </font>\n",
    "The next statement can put your session on hold until the job runs and returns, do no click until the job actually executed, which you can check in https://quantum.ibm.com/jobs"
   ]
  },
  {
   "cell_type": "code",
   "execution_count": 16,
   "id": "52ed697b-df32-41b0-aeea-6dbeede9b96a",
   "metadata": {
    "tags": []
   },
   "outputs": [],
   "source": [
    "result_Q = job_Q.result()"
   ]
  },
  {
   "cell_type": "code",
   "execution_count": 17,
   "id": "6f9ceedb-b901-4064-a4e8-af153cc99772",
   "metadata": {
    "tags": []
   },
   "outputs": [
    {
     "name": "stdout",
     "output_type": "stream",
     "text": [
      "Expectation values: [ 0.0757614  0.1262691 -0.0252538 -0.1515229]\n"
     ]
    }
   ],
   "source": [
    "#Once the program has run we can print the simulated expectation values\n",
    "print(f\"Expectation values: {result_Q.values}\")"
   ]
  },
  {
   "cell_type": "code",
   "execution_count": 18,
   "id": "e6688035-540f-4e37-8a65-8ceef463b996",
   "metadata": {
    "tags": []
   },
   "outputs": [
    {
     "name": "stdout",
     "output_type": "stream",
     "text": [
      "Standard errors: [0.1612688843553662, 0.16095220484633926, 0.16158494322662312, 0.1608332892742529]\n"
     ]
    }
   ],
   "source": [
    "# Retrieve sample variance and number of shots from the metadata associated to the job results\n",
    "metadata_Q = result_Q.metadata\n",
    "dic_ob_Q1=metadata_Q[0]\n",
    "dic_ob_Q2=metadata_Q[1]\n",
    "dic_ob_Q3=metadata_Q[2]\n",
    "dic_ob_Q4=metadata_Q[3]\n",
    "variance_Q1=dic_ob_Q1[\"variance\"]\n",
    "variance_Q2=dic_ob_Q2[\"variance\"]\n",
    "variance_Q3=dic_ob_Q3[\"variance\"]\n",
    "variance_Q4=dic_ob_Q4[\"variance\"]\n",
    "\n",
    "\n",
    "# Compute and print standard errors\n",
    "Standard_errors_Q = [sqrt(variance_Q1 / shots_Q),sqrt(variance_Q2 / shots_Q),sqrt(variance_Q3 / shots_Q),sqrt(variance_Q4 / shots_Q)]\n",
    "print(f\"Standard errors: {Standard_errors_Q}\")"
   ]
  },
  {
   "cell_type": "code",
   "execution_count": 19,
   "id": "25449b56-9af5-437d-9370-d35153d59761",
   "metadata": {
    "tags": []
   },
   "outputs": [
    {
     "name": "stdout",
     "output_type": "stream",
     "text": [
      "The simulated result is 0.3283 + 0.64464:\n",
      "does it exceed 2 with sufficient statistical certainty?\n"
     ]
    }
   ],
   "source": [
    "CHSH_meanQ=round(abs(result_Q.values[0]+result_Q.values[1]+result_Q.values[2]-result_Q.values[3]),5)\n",
    "CHSH_uncertaintyQ=round(sum(Standard_errors_Q),5)\n",
    "print(f\"The simulated result is {CHSH_meanQ} + {CHSH_uncertaintyQ}:\\ndoes it exceed 2 with sufficient statistical certainty?\")"
   ]
  },
  {
   "cell_type": "markdown",
   "id": "0fd33159-eecb-4f79-ae0f-69c2592b1ae9",
   "metadata": {},
   "source": [
    "####  <font color=teal> **Question 4**: Compute, with a hand calculator or simple python commands, the experimental value obtained for the CHSH inequality jointly with its error from the quantum data obtained. </font> "
   ]
  },
  {
   "cell_type": "markdown",
   "id": "9667d0e2-27da-4d6b-b6e0-cd787f649e6a",
   "metadata": {
    "tags": []
   },
   "source": [
    "##### Retrieving job and results from  queued and past jobs"
   ]
  },
  {
   "cell_type": "markdown",
   "id": "3cd5dc9b-c96c-4a2a-824b-c0071a780f3f",
   "metadata": {},
   "source": [
    "If the job was queued for long or we need to check a past one, we can retrieve it if we know its job number, which is displayed in the IBM quantum webpage"
   ]
  },
  {
   "cell_type": "code",
   "execution_count": null,
   "id": "4c776816-57cc-4f31-93f8-fe7d51ecc300",
   "metadata": {},
   "outputs": [],
   "source": [
    "job_number = \"\"\n",
    "job =  Quantum_service.job(job_number)\n",
    "result = job.result()\n"
   ]
  }
 ],
 "metadata": {
  "kernelspec": {
   "display_name": "Python 3 (ipykernel)",
   "language": "python",
   "name": "python3"
  },
  "language_info": {
   "codemirror_mode": {
    "name": "ipython",
    "version": 3
   },
   "file_extension": ".py",
   "mimetype": "text/x-python",
   "name": "python",
   "nbconvert_exporter": "python",
   "pygments_lexer": "ipython3",
   "version": "3.11.0"
  },
  "widgets": {
   "application/vnd.jupyter.widget-state+json": {
    "state": {},
    "version_major": 2,
    "version_minor": 0
   }
  }
 },
 "nbformat": 4,
 "nbformat_minor": 5
}
