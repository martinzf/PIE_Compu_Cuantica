{
 "cells": [
  {
   "cell_type": "markdown",
   "id": "a987e65f",
   "metadata": {
    "tags": []
   },
   "source": [
    "# Deutsch's algorithm\n",
    "Introduction: The purpose of this exercise is to understand the concept of \"quantum advantage\" by running Deutsch's algorithm, one of the simplest for which quantum computation outperforms classical computation.\n",
    "\n",
    "Problem statement: <font color=\"blue\"> $f:\\{0,1\\}\\to \\{0,1\\}$ </font> is a \"Boolean function\", i.e. a function with domain a binary value and image another binary value. <font color=\"blue\"> We want to know whether $f$ is or not a constant function.</blue>\n",
    "\n",
    "To answer this question with a classical computer, we need to evaluate $f$ twice, e.g. we need to compute $f(0)$ and $f(1)$ and check whether $f(0)=f(1)$ or not. Deutsch's algorithm is a quantum algorithm that allows us to answer this question by evaluating $f$ only once!"
   ]
  },
  {
   "cell_type": "markdown",
   "id": "a14645fb-b5e6-4200-bd96-aade390315a6",
   "metadata": {
    "tags": []
   },
   "source": [
    "### PREAMBLE:"
   ]
  },
  {
   "cell_type": "code",
   "execution_count": 1,
   "id": "d9f481e5-0f3f-45c0-b7ae-09f820316578",
   "metadata": {
    "tags": []
   },
   "outputs": [],
   "source": [
    "# Importing standard Qiskit libraries\n",
    "from qiskit import QuantumCircuit, transpile\n",
    "from qiskit.visualization import *\n",
    "from qiskit_ibm_runtime import QiskitRuntimeService, Sampler, Estimator, Session, Options\n",
    "from qiskit.quantum_info import Statevector, Pauli, SparsePauliOp, Operator\n",
    "import numpy as np\n",
    "from numpy import sqrt as sqrt"
   ]
  },
  {
   "cell_type": "markdown",
   "id": "6377375d",
   "metadata": {
    "tags": []
   },
   "source": [
    "Please copy your token number here (to generate it see instructions in the pdf)"
   ]
  },
  {
   "cell_type": "code",
   "execution_count": 2,
   "id": "1a11c719-881c-493c-9f5b-52141e18872b",
   "metadata": {
    "tags": []
   },
   "outputs": [],
   "source": [
    "My_user_token = \"\" # Use this at home (long waiting time)"
   ]
  },
  {
   "cell_type": "code",
   "execution_count": 3,
   "id": "82658501",
   "metadata": {
    "tags": []
   },
   "outputs": [
    {
     "name": "stderr",
     "output_type": "stream",
     "text": [
      "qiskit_runtime_service.__init__:INFO:2024-04-10 20:28:49,552: Default instance: ibm-q/open/main\n"
     ]
    }
   ],
   "source": [
    "# Number of shots (repetitions of the program)\n",
    "shots_S=100 #simulation()\n",
    "\n",
    "# Loading your IBM Quantum account(s)\n",
    "#Quantum simulator\n",
    "Simulation_service = QiskitRuntimeService(channel = \"ibm_quantum\", token=My_user_token)"
   ]
  },
  {
   "cell_type": "markdown",
   "id": "27a2be87",
   "metadata": {},
   "source": [
    "### Working mechanism of the Deutsch's algorithm (Oracles)\n",
    "\n",
    "To encode the action of a Boolean fuction, the Deutsch's algorithm uses the following operation over two qubits\n",
    "\n",
    "$$\n",
    "|x\\rangle|y\\rangle\\to |x\\rangle|y\\oplus f(x)\\rangle\n",
    "$$\n",
    "\n",
    "where $\\oplus$ denotes the binary addition (i.e. the addition mod. 2). \n",
    "\n",
    "#### <font color=teal> **Homework 1** (to do later after the lab on pen and paper): <br>  Prove that this is a unitary operation. </font>\n",
    "\n",
    "Hence, there exists a unitary operator $U_f$, which implements this operation on a quantum circuit. This unitary operator is called a *quantum oracle*. Now, since \n",
    "\n",
    "$$\n",
    "|x\\rangle|0\\rangle \\to |x\\rangle|f(x)\\rangle,\n",
    "$$\n",
    "\n",
    "the classical solution to the problem is equivalent to applying the quantum oracle to the states $|0\\rangle|0\\rangle$ and $|1\\rangle|0\\rangle$, followed by measuring the second qubit to retrieve first $f(0)$ and then $f(1)$, needing two oracle calls. \n",
    "\n",
    "To exemplify, in the following line two oracle operators are defined for two respective functions $f$ and $g$, one is constant and the other is not:\n"
   ]
  },
  {
   "cell_type": "code",
   "execution_count": 4,
   "id": "ad4b3aed",
   "metadata": {
    "tags": []
   },
   "outputs": [],
   "source": [
    "Oracle_f = Operator([[0,0,1,0],[0,1,0,0],[1,0,0,0],[0,0,0,1]])\n",
    "Oracle_g = Operator([[0,0,1,0],[0,0,0,1],[1,0,0,0],[0,1,0,0]])"
   ]
  },
  {
   "cell_type": "markdown",
   "id": "cef577aa-a833-46b5-90f7-416226da548a",
   "metadata": {},
   "source": [
    "(The Operator() command in Qiskit takes a matrix and will allow you to create a gate for a quantum circuit)"
   ]
  },
  {
   "cell_type": "markdown",
   "id": "046eaf65",
   "metadata": {
    "tags": []
   },
   "source": [
    "#### <font color=teal> **Question 2**: Complete the following cells to create quantum circuits for Oracle_f that decides whether $f$ is (or not) constant using the classical method with two evaluations </font>"
   ]
  },
  {
   "cell_type": "code",
   "execution_count": 5,
   "id": "6e0c9568",
   "metadata": {
    "tags": []
   },
   "outputs": [
    {
     "data": {
      "image/png": "[encoded data removed]",
      "text/plain": [
       "<Figure size 370.906x284.278 with 1 Axes>"
      ]
     },
     "execution_count": 5,
     "metadata": {},
     "output_type": "execute_result"
    }
   ],
   "source": [
    "#Classical check Oracle_f: f(0)\n",
    "Check_f0 = QuantumCircuit(2,1)\n",
    "#Remember that by default the two qubits are initialized to zero\n",
    "Check_f0.unitary(Oracle_f, [0, 1],label=\"Oracle_f\")  # Apply Oracle_f\n",
    "# Measure qubit 1\n",
    "Check_f0.measure(1,0)\n",
    "Check_f0.draw(output='mpl')"
   ]
  },
  {
   "cell_type": "code",
   "execution_count": 6,
   "id": "2083a6bf",
   "metadata": {
    "tags": []
   },
   "outputs": [
    {
     "data": {
      "image/png": "[encoded data removed]",
      "text/plain": [
       "<Figure size 454.517x284.278 with 1 Axes>"
      ]
     },
     "execution_count": 6,
     "metadata": {},
     "output_type": "execute_result"
    }
   ],
   "source": [
    "##Classical check Oracle_f: f(1)\n",
    "Check_f1 = QuantumCircuit(2,1)\n",
    "#We initialize the first qubit to 1:\n",
    "Check_f1.x(0)\n",
    "Check_f1.unitary(Oracle_f, [0, 1],label=\"Oracle_f\")  # Apply Oracle_f\n",
    "# Measure qubit 1\n",
    "Check_f1.measure(1,0)\n",
    "Check_f1.draw(output='mpl')"
   ]
  },
  {
   "cell_type": "markdown",
   "id": "6a8146fe",
   "metadata": {
    "tags": []
   },
   "source": [
    "### Run the quantum circuits on a classical computer (the simulation machine) to obtain the values of $f(0)$ and $f(1)$"
   ]
  },
  {
   "cell_type": "code",
   "execution_count": 7,
   "id": "7f1c22df",
   "metadata": {
    "tags": []
   },
   "outputs": [
    {
     "name": "stderr",
     "output_type": "stream",
     "text": [
      "base_primitive._run_primitive:INFO:2024-04-10 20:30:46,015: Submitting job using options {'optimization_level': 1, 'resilience_level': 0, 'transpilation': {'skip_transpilation': False, 'optimization_settings': {'level': 1}}, 'resilience': {'level': 0}, 'execution': {'shots': 1, 'init_qubits': True}, 'environment': {'log_level': 'WARNING'}, 'simulator': {'noise_model': Unset, 'seed_simulator': Unset, 'coupling_map': Unset, 'basis_gates': Unset}}\n",
      "/opt/conda/lib/python3.10/site-packages/qiskit_ibm_runtime/qiskit_runtime_service.py:878: UserWarning: Cloud simulators have been deprecated and will be removed on 15 May 2024. Use the new local testing mode in qiskit-ibm-runtime version 0.22.0 or later to meet your debugging needs.\n",
      "  warnings.warn(warning_message)\n"
     ]
    }
   ],
   "source": [
    "shots_C=1\n",
    "# Choose the backend\n",
    "backend_S = Simulation_service.backend(\"ibmq_qasm_simulator\"); #We will use the simulation machine qasm  \n",
    "# \n",
    "sampler_S = Sampler(backend=backend_S);\n",
    "#\n",
    "job_clf = sampler_S.run([Check_f0,Check_f1],shots=shots_C);\n",
    "result_clf = job_clf.result();"
   ]
  },
  {
   "cell_type": "markdown",
   "id": "9dd09fcb",
   "metadata": {},
   "source": [
    "#### <font color=teal> **Question 3**: By printing \"result_clf.quasi_dists\", explain why the following cell gives the calculated result for $f(0)$ and $f(1)$. </font>"
   ]
  },
  {
   "cell_type": "code",
   "execution_count": 8,
   "id": "e064d291",
   "metadata": {
    "tags": []
   },
   "outputs": [
    {
     "name": "stdout",
     "output_type": "stream",
     "text": [
      "f(0)=1\n",
      "f(1)=0\n"
     ]
    }
   ],
   "source": [
    "#Print the measurement results\n",
    "print(f\"f(0)={max(result_clf.quasi_dists[0])}\")\n",
    "print(f\"f(1)={max(result_clf.quasi_dists[1])}\")"
   ]
  },
  {
   "cell_type": "markdown",
   "id": "cd7ee433",
   "metadata": {},
   "source": [
    "#### <font color=teal> **Question 4**: Complete the following cells to create quantum circuits for Oracle_g that solve the problem of whether $g$ is constant using the classical method of two evaluations </font>"
   ]
  },
  {
   "cell_type": "code",
   "execution_count": 9,
   "id": "df72bbf6",
   "metadata": {
    "tags": []
   },
   "outputs": [
    {
     "data": {
      "image/png": "[encoded data removed]",
      "text/plain": [
       "<Figure size 370.906x284.278 with 1 Axes>"
      ]
     },
     "execution_count": 9,
     "metadata": {},
     "output_type": "execute_result"
    }
   ],
   "source": [
    "#Classical check Oracle_g: g(0)\n",
    "Check_g0 = QuantumCircuit(2,1)\n",
    "Check_g0.unitary(Oracle_g, [0, 1],label=\"Oracle_g\")  # Apply Oracle_g\n",
    "# Measure qubit 1\n",
    "Check_g0.measure(1,0)\n",
    "Check_g0.draw(output='mpl')"
   ]
  },
  {
   "cell_type": "code",
   "execution_count": 10,
   "id": "2d036926",
   "metadata": {
    "tags": []
   },
   "outputs": [
    {
     "data": {
      "image/png": "[encoded data removed]",
      "text/plain": [
       "<Figure size 454.517x284.278 with 1 Axes>"
      ]
     },
     "execution_count": 10,
     "metadata": {},
     "output_type": "execute_result"
    }
   ],
   "source": [
    "##Classical check Oracle_g: g(1)\n",
    "Check_g1 = QuantumCircuit(2,1)\n",
    "Check_g1.x(0)\n",
    "Check_g1.unitary(Oracle_g, [0, 1],label=\"Oracle_g\")  # Apply Oracle_g\n",
    "# Measure qubit 1\n",
    "Check_g1.measure(1,0)\n",
    "Check_g1.draw(output='mpl')"
   ]
  },
  {
   "cell_type": "markdown",
   "id": "8e94e754",
   "metadata": {
    "tags": []
   },
   "source": [
    "### Run the quantum circuits on a classical computer (the simulation machine) to obtain the values of $g(0)$ and $g(1)$"
   ]
  },
  {
   "cell_type": "code",
   "execution_count": 11,
   "id": "518ed55b",
   "metadata": {
    "tags": []
   },
   "outputs": [
    {
     "name": "stderr",
     "output_type": "stream",
     "text": [
      "base_primitive._run_primitive:INFO:2024-04-10 20:31:25,435: Submitting job using options {'optimization_level': 1, 'resilience_level': 0, 'transpilation': {'skip_transpilation': False, 'optimization_settings': {'level': 1}}, 'resilience': {'level': 0}, 'execution': {'shots': 100, 'init_qubits': True}, 'environment': {'log_level': 'WARNING'}, 'simulator': {'noise_model': Unset, 'seed_simulator': Unset, 'coupling_map': Unset, 'basis_gates': Unset}}\n"
     ]
    }
   ],
   "source": [
    "job_clg = sampler_S.run([Check_g0,Check_g1],shots=shots_S);\n",
    "result_clg = job_clg.result();"
   ]
  },
  {
   "cell_type": "code",
   "execution_count": 12,
   "id": "e97662b1",
   "metadata": {
    "tags": []
   },
   "outputs": [
    {
     "name": "stdout",
     "output_type": "stream",
     "text": [
      "g(0)=1\n",
      "g(1)=1\n"
     ]
    }
   ],
   "source": [
    "#Print the measurement results\n",
    "print(f\"g(0)={max(result_clg.quasi_dists[0])}\")\n",
    "print(f\"g(1)={max(result_clg.quasi_dists[1])}\")"
   ]
  },
  {
   "cell_type": "markdown",
   "id": "a60b71f4",
   "metadata": {},
   "source": [
    "### Working mechanism of the Deutsch's algorithm \n",
    "\n",
    "The idea of Deutsch's algorithm is based on the use of quantum superposition to attempt a simultaneous evaluation and comparison of $f(0)$ and $f(1)$ with a single action of the quantum oracle. \n",
    "\n",
    "Actually, what the algorithm evaluates is $f(0)\\ominus f(1)$ ($\\ominus$ is substraction mod. 2, i.e. $1-1 = 0$, $0-1 = 1 = 1-0$) without individually evaluating $f(0)$ and $f(1)$. This means that $f(0)\\ominus f(1)=0$ if $f$ is constant and $f(0)\\ominus f(1)=1$ if not. \n",
    "<br>This is achieved by applying the oracle to the state $|+\\rangle|-\\rangle$ with $|\\pm\\rangle=\\tfrac{1}{\\sqrt{2}}(|0\\rangle\\pm |1\\rangle)$:\n",
    "\n",
    "$$\n",
    "|+\\rangle|-\\rangle=\\frac{1}{2}\\big(|0\\rangle|0\\rangle-|0\\rangle|1\\rangle+|1\\rangle|0\\rangle-|1\\rangle|1\\rangle\\big)\\to $$\n",
    "$$\\frac{1}{2}\\big[|0\\rangle|f(0)\\rangle-|0\\rangle|1\\oplus f(0)\\rangle+|1\\rangle|f(1)\\rangle-|1\\rangle|1\\oplus f(1)\\rangle\\big]\n",
    "$$\n",
    "\n",
    "If $f(0)=f(1)$, this reduces to \n",
    "\n",
    "$$\n",
    "\\frac{1}{2}\\big[|0\\rangle|f(0)\\rangle-|0\\rangle|1\\oplus f(0)\\rangle+|1\\rangle|f(0)\\rangle-|1\\rangle|1\\oplus f(0)\\rangle\\big]$$\n",
    "$$=\\frac{1}{2}\\big[\\big(|0\\rangle+|1\\rangle\\big)|f(0)\\rangle-\\big(|0\\rangle+|1\\rangle\\big)|1\\oplus f(0)\\rangle\\big]=|+\\rangle \\left[\\frac{|f(0)\\rangle-|1\\oplus f(0)\\rangle}{\\sqrt{2}}\\right]\n",
    "$$\n",
    "\n",
    "#### <font color=teal> **Homework question 5**: Prove (after the lab, on pen and paper): </font>\n",
    "<font color=teal> the alternative case, that \n",
    "if $f(0)\\neq f(1)$, the final state becomes: </font>\n",
    "    \n",
    "$$\n",
    "|-\\rangle \\left[\\frac{|f(0)\\rangle-|f(1)\\rangle}{\\sqrt{2}}\\right].\n",
    "$$ \n",
    "    \n",
    "Therefore, after the oracle we apply a gate on the first qubit that makes the transformation $|+\\rangle\\to |0\\rangle$ and $|-\\rangle\\to |1\\rangle$ and measure it. When the answer is $0$, $f$ is constant and viceversa."
   ]
  },
  {
   "cell_type": "markdown",
   "id": "6e51d6d1",
   "metadata": {},
   "source": [
    "#### <font color=teal> **Question 6**: Define a quantum circuit to implement Deutsch's algorithm with the function $f$ and another with the function $g$ </font>"
   ]
  },
  {
   "cell_type": "code",
   "execution_count": 13,
   "id": "9a84aca1",
   "metadata": {
    "tags": []
   },
   "outputs": [
    {
     "data": {
      "image/png": "[encoded data removed]",
      "text/plain": [
       "<Figure size 621.739x284.278 with 1 Axes>"
      ]
     },
     "execution_count": 13,
     "metadata": {},
     "output_type": "execute_result"
    }
   ],
   "source": [
    "# Deutsch's for f\n",
    "deutsch_f = QuantumCircuit(2,1)\n",
    "deutsch_f.x(1)  # Apply X gate to qubit 0\n",
    "deutsch_f.h([0, 1])  # Apply Hadamard gate to both qubits: we are now in the +- basis\n",
    "deutsch_f.unitary(Oracle_f, [0, 1],label=\"Oracle_f\")  # Apply Oracle_f\n",
    "deutsch_f.h(0)  # Apply Hadamard gate to qubit 0 to return to the computational 0,1 basis\n",
    "\n",
    "# Measure qubit 0\n",
    "deutsch_f.measure(0,0)\n",
    "deutsch_f.draw(output='mpl')"
   ]
  },
  {
   "cell_type": "code",
   "execution_count": 14,
   "id": "95a22cdd",
   "metadata": {
    "tags": []
   },
   "outputs": [
    {
     "data": {
      "image/png": "[encoded data removed]",
      "text/plain": [
       "<Figure size 621.739x284.278 with 1 Axes>"
      ]
     },
     "execution_count": 14,
     "metadata": {},
     "output_type": "execute_result"
    }
   ],
   "source": [
    "# Deutsch's for g\n",
    "deutsch_g = QuantumCircuit(2,1)\n",
    "deutsch_g.x(1)  # Apply X gate to qubit 0\n",
    "deutsch_g.h([0, 1])  # Apply Hadamard gate to both qubits\n",
    "deutsch_g.unitary(Oracle_g, [0, 1],label=\"Oracle_g\")  # Apply Oracle_g\n",
    "deutsch_g.h(0)  # Apply Hadamard gate to qubit 0\n",
    "\n",
    "# Measure qubit 0\n",
    "deutsch_g.measure(0,0)\n",
    "deutsch_g.draw(output='mpl')"
   ]
  },
  {
   "cell_type": "markdown",
   "id": "ac62c8a4-5b91-4fb0-90df-ce28cfbbcc21",
   "metadata": {},
   "source": [
    "Let us execute these circuits on a free simulator"
   ]
  },
  {
   "cell_type": "code",
   "execution_count": 15,
   "id": "952d0b4b-78eb-4495-a533-878906a1f63a",
   "metadata": {
    "tags": []
   },
   "outputs": [
    {
     "name": "stderr",
     "output_type": "stream",
     "text": [
      "base_primitive._run_primitive:INFO:2024-04-10 20:39:36,194: Submitting job using options {'optimization_level': 1, 'resilience_level': 0, 'transpilation': {'skip_transpilation': False, 'optimization_settings': {'level': 1}}, 'resilience': {'level': 0}, 'execution': {'shots': 100, 'init_qubits': True}, 'environment': {'log_level': 'WARNING'}, 'simulator': {'noise_model': Unset, 'seed_simulator': Unset, 'coupling_map': Unset, 'basis_gates': Unset}}\n"
     ]
    }
   ],
   "source": [
    "# Execute the circuit \n",
    "job_DeutschS=sampler_S.run([deutsch_f,deutsch_g],shots=shots_S)\n",
    "result_DeutschS = job_DeutschS.result()"
   ]
  },
  {
   "cell_type": "code",
   "execution_count": 16,
   "id": "109f20c2-e1d5-48f0-add2-07ea4b04214d",
   "metadata": {
    "tags": []
   },
   "outputs": [
    {
     "name": "stdout",
     "output_type": "stream",
     "text": [
      "f is not constant\n"
     ]
    }
   ],
   "source": [
    "# Print the measurement results for f, if 0 the fuction is constant\n",
    "if max(result_DeutschS.quasi_dists[0])==0:\n",
    "    print(\"f is constant\")\n",
    "else:\n",
    "    print(\"f is not constant\")\n"
   ]
  },
  {
   "cell_type": "code",
   "execution_count": 17,
   "id": "bd60f493-4efc-492e-b39e-acb6cbe54ac9",
   "metadata": {
    "tags": []
   },
   "outputs": [
    {
     "name": "stdout",
     "output_type": "stream",
     "text": [
      "g is constant\n"
     ]
    }
   ],
   "source": [
    "# Print the measurement results for g, if 0 the fuction is constant\n",
    "if max(result_DeutschS.quasi_dists[1])==0:\n",
    "    print(\"g is constant\")\n",
    "else:\n",
    "    print(\"g is not constant\")"
   ]
  },
  {
   "cell_type": "markdown",
   "id": "1bfcc22e",
   "metadata": {},
   "source": [
    "### Run the quantum circuits on a real quantum machine"
   ]
  },
  {
   "cell_type": "markdown",
   "id": "6f0fb43e-cf25-41a5-85aa-b3be905cb92e",
   "metadata": {},
   "source": [
    "In the lab sesion we used premium accounts to fast forward over the long queue list of IBM's quantum machines. If waiting time is not a problem, free accounts also give access to real quantum devices."
   ]
  },
  {
   "cell_type": "markdown",
   "id": "1b3033d1-92e5-4ba5-9d81-c3dee6e2d540",
   "metadata": {},
   "source": [
    "##### Defining the quantum backend"
   ]
  },
  {
   "cell_type": "code",
   "execution_count": 18,
   "id": "debd670b-0c1b-462c-9310-50c6c43e260d",
   "metadata": {
    "tags": []
   },
   "outputs": [
    {
     "name": "stderr",
     "output_type": "stream",
     "text": [
      "qiskit_runtime_service.__init__:INFO:2024-04-10 20:39:52,627: Default instance: ibm-q/open/main\n"
     ]
    }
   ],
   "source": [
    "# Quantum machine\n",
    "Quantum_service = QiskitRuntimeService(channel=\"ibm_quantum\",token=My_user_token)"
   ]
  },
  {
   "cell_type": "markdown",
   "id": "7f1a94ce-1dbd-44bb-8041-6729b23cb1a6",
   "metadata": {},
   "source": [
    "First we have to choose one of the available machines: we let the system do it with some requirements"
   ]
  },
  {
   "cell_type": "code",
   "execution_count": 19,
   "id": "43df22d7-e68e-40b1-a5bc-9f7e9abafb3d",
   "metadata": {
    "tags": []
   },
   "outputs": [],
   "source": [
    "backend_Q = Quantum_service.least_busy(operational=True, simulator=False, min_num_qubits=20)"
   ]
  },
  {
   "cell_type": "code",
   "execution_count": 20,
   "id": "eaedf62d-d6ba-412b-82ac-88fa3c99dc62",
   "metadata": {
    "tags": []
   },
   "outputs": [
    {
     "data": {
      "text/html": [
       "<pre>&lt;qiskit.providers.models.backendstatus.BackendStatus object at 0x7f9dfbc83af0&gt;</pre><b>name</b>: ibm_kyoto<br/><b>version</b>: , <b>pending jobs</b>: 44<br/><b>status</b>: active<br/>"
      ],
      "text/plain": [
       "<qiskit.providers.models.backendstatus.BackendStatus at 0x7f9dfbc83af0>"
      ]
     },
     "execution_count": 20,
     "metadata": {},
     "output_type": "execute_result"
    }
   ],
   "source": [
    "backend_Q.status()"
   ]
  },
  {
   "cell_type": "markdown",
   "id": "ddea4f42-8b19-42a1-b6f0-60f7f9e5345b",
   "metadata": {
    "tags": []
   },
   "source": [
    "##### Sending jobs to the machine <br>\n",
    "<font color=\"red\"> Executing the following cell will cause a charge on your free monthly time allotment, currently 10 min. courtesy of IBM</font>"
   ]
  },
  {
   "cell_type": "code",
   "execution_count": 21,
   "id": "f6567445",
   "metadata": {
    "tags": []
   },
   "outputs": [
    {
     "name": "stderr",
     "output_type": "stream",
     "text": [
      "base_primitive._run_primitive:INFO:2024-04-10 20:42:35,718: Submitting job using options {'optimization_level': 1, 'resilience_level': 1, 'transpilation': {'skip_transpilation': False, 'optimization_settings': {'level': 1}}, 'resilience': {'level': 1}, 'execution': {'shots': 3, 'init_qubits': True}, 'environment': {'log_level': 'WARNING'}, 'simulator': {'noise_model': Unset, 'seed_simulator': Unset, 'coupling_map': Unset, 'basis_gates': Unset}}\n"
     ]
    }
   ],
   "source": [
    "shots_Q=3\n",
    "sampler_Q = Sampler(backend=backend_Q) #to obtain the sampling of the measurement \n",
    "# Execute the circuit \n",
    "job_Q=sampler_Q.run([transpile(deutsch_f,backend_Q),transpile(deutsch_g,backend_Q)],shots=shots_Q)"
   ]
  },
  {
   "cell_type": "markdown",
   "id": "92bf76ef-215c-4475-adae-c86fca6ab5ab",
   "metadata": {},
   "source": [
    "##### Checking job state"
   ]
  },
  {
   "cell_type": "code",
   "execution_count": 22,
   "id": "b8b5cfdb-f3bc-45d0-93a6-14d3e11e5332",
   "metadata": {
    "tags": []
   },
   "outputs": [
    {
     "data": {
      "text/plain": [
       "<JobStatus.QUEUED: 'job is queued'>"
      ]
     },
     "execution_count": 22,
     "metadata": {},
     "output_type": "execute_result"
    }
   ],
   "source": [
    "# The following cell gives information about the job\n",
    "job_Q.status() # Status"
   ]
  },
  {
   "cell_type": "code",
   "execution_count": 23,
   "id": "7e574e14-215e-4cf2-ba42-81916e92c96e",
   "metadata": {
    "tags": []
   },
   "outputs": [
    {
     "data": {
      "text/plain": [
       "'crbfkf5hjs5g008pyc40'"
      ]
     },
     "execution_count": 23,
     "metadata": {},
     "output_type": "execute_result"
    }
   ],
   "source": [
    "job_Q.job_id() # Identification code"
   ]
  },
  {
   "cell_type": "markdown",
   "id": "44ed5100-6f79-45d9-9d19-8298d607e996",
   "metadata": {},
   "source": [
    "##### Retrieving job and results"
   ]
  },
  {
   "cell_type": "markdown",
   "id": "011e475c-a248-4ad3-912e-33c956e8f9ce",
   "metadata": {},
   "source": [
    "Instead of waiting for the answer of recent jobs, we can use already completed ones if we now their job numbers, which can be found in the IBM quantum webpage"
   ]
  },
  {
   "cell_type": "code",
   "execution_count": 23,
   "id": "827d1802-9875-44dc-878f-543f16c1f0aa",
   "metadata": {},
   "outputs": [],
   "source": [
    "job_number = \"\""
   ]
  },
  {
   "cell_type": "code",
   "execution_count": 24,
   "id": "1f5e506b-2cd5-430c-948d-9d19208df895",
   "metadata": {},
   "outputs": [],
   "source": [
    "job =  Quantum_service.job(job_number)"
   ]
  },
  {
   "cell_type": "code",
   "execution_count": 25,
   "id": "4748ce09-ea4d-4ccb-ba47-2c884d83b784",
   "metadata": {},
   "outputs": [],
   "source": [
    "result = job.result()"
   ]
  },
  {
   "cell_type": "code",
   "execution_count": 26,
   "id": "0f1e4ba4",
   "metadata": {
    "tags": []
   },
   "outputs": [
    {
     "name": "stdout",
     "output_type": "stream",
     "text": [
      "f is not constant\n"
     ]
    }
   ],
   "source": [
    "# Print the measurement results for f, if 0 the fuction is constant\n",
    "if max(result.quasi_dists[0])==0:\n",
    "    print(\"f is constant\")\n",
    "else:\n",
    "    print(\"f is not constant\")\n"
   ]
  },
  {
   "cell_type": "code",
   "execution_count": 27,
   "id": "97f3b882",
   "metadata": {
    "tags": []
   },
   "outputs": [
    {
     "name": "stdout",
     "output_type": "stream",
     "text": [
      "g is constant\n"
     ]
    }
   ],
   "source": [
    "# Print the measurement results for g, if 0 the fuction is constant\n",
    "if max(result.quasi_dists[1])==0:\n",
    "    print(\"g is constant\")\n",
    "else:\n",
    "    print(\"g is not constant\")"
   ]
  },
  {
   "cell_type": "markdown",
   "id": "1acc99a4",
   "metadata": {
    "jp-MarkdownHeadingCollapsed": true,
    "tags": []
   },
   "source": [
    "#### <font color=teal> **Question 7**: Does the result of your quantum computation using Deutsch's algorithm agree with the previous classical result?"
   ]
  }
 ],
 "metadata": {
  "kernelspec": {
   "display_name": "Qiskit v1.0.2 (ipykernel)",
   "language": "python",
   "name": "python3"
  },
  "language_info": {
   "codemirror_mode": {
    "name": "ipython",
    "version": 3
   },
   "file_extension": ".py",
   "mimetype": "text/x-python",
   "name": "python",
   "nbconvert_exporter": "python",
   "pygments_lexer": "ipython3",
   "version": "3.10.8"
  },
  "widgets": {
   "application/vnd.jupyter.widget-state+json": {
    "state": {},
    "version_major": 2,
    "version_minor": 0
   }
  }
 },
 "nbformat": 4,
 "nbformat_minor": 5
}
