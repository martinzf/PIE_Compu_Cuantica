{
 "cells": [
  {
   "cell_type": "markdown",
   "id": "e2eebe75",
   "metadata": {
    "tags": []
   },
   "source": [
    "# Educational Project UCM-UPM \n",
    "# Practical Quantum Computing, script 2 \n",
    "#### Authors: JJ Gálvez Viruet, Felipe J. Llanes Estrada, Ignacio González Castro\n",
    "Estimated time to work through the notebook: 1 hour 45 min."
   ]
  },
  {
   "cell_type": "markdown",
   "id": "9bcc4eb6",
   "metadata": {
    "tags": []
   },
   "source": [
    "### 1. Import packages\n",
    "The following \"cell\" (a paragraph of code) imports the functions which will be used in the \"notebook\" (this file).\n",
    "\n",
    "We recommend to <font color=red> not change it </font> to avoid malfunction, simply execute it clicking on it and hitting Shift+Enter.\n",
    "\n",
    "Later on you will have to answer questions which <font color=\"teal\"> will be highlighted in teal color </font>"
   ]
  },
  {
   "cell_type": "code",
   "execution_count": 1,
   "id": "76284d6b",
   "metadata": {
    "tags": []
   },
   "outputs": [],
   "source": [
    "# A classical simulator of quantum circuits\n",
    "from qiskit_aer import AerSimulator\n",
    "\n",
    "# Class QuantumCircuit, with methods (functions) to define quantum circuits\n",
    "from qiskit import QuantumCircuit\n",
    "\n",
    "# A function yielding a histogram with the probabilities of each of the eigenstates taken by the measured qubits\n",
    "from qiskit.visualization import plot_histogram\n",
    "\n",
    "# Class Statvector, to retrieve the state of the circuit\n",
    "from qiskit.quantum_info import Statevector\n",
    "\n",
    "# Other usual functions\n",
    "from math import sqrt, pi\n",
    "import numpy as np"
   ]
  },
  {
   "cell_type": "markdown",
   "id": "49b46bb8",
   "metadata": {
    "tags": []
   },
   "source": [
    "### 2. Defining circuits\n",
    "The \"class\" (an abstraction in object-oriented programming: think of objects and their operations, like a group, a ring or a field in mathematics) <font color=blue> QuantumCircuit() </font> allows to define quantum circuits as the objects to which we can apply operations (quantum gates) such as the Pauli matrices X, Y, Hadamard H, etc. from script 1 (your Quirk lab).\n",
    "To define a circuit we need two inputs:\n",
    "\n",
    "- **regs**: if you pass a positive integer, it becomes the number of qubits; if two positive integers, the second is the number of classical bits in which the outcomes of any measurements will be stored. That is, the size of the problem.\n",
    "- **name**(str): An optional name for the circuit (in case you have several in the same notebook)"
   ]
  },
  {
   "cell_type": "code",
   "execution_count": 2,
   "id": "159ffc06",
   "metadata": {
    "tags": []
   },
   "outputs": [],
   "source": [
    "qc1 = QuantumCircuit(1) #1 qubit circuit, it's state is |0> by default\n",
    "qc11 = QuantumCircuit(1,1) #1 qubit and 1 classical bit circuit"
   ]
  },
  {
   "cell_type": "markdown",
   "id": "2d00438e",
   "metadata": {},
   "source": [
    "We may depict a circuit with <font color=blue> draw() </font> (a method of the class QuantumCircuit, applicable to the objects just created by a dot . ). \n",
    "Specifying the output as \"mpl\" returns the drawing as an object of matplotlib, a python package."
   ]
  },
  {
   "cell_type": "code",
   "execution_count": 3,
   "id": "5c21ba0b",
   "metadata": {
    "tags": []
   },
   "outputs": [
    {
     "data": {
      "image/png": "[encoded data removed]",
      "text/plain": [
       "<Figure size 143.647x117.056 with 1 Axes>"
      ]
     },
     "execution_count": 3,
     "metadata": {},
     "output_type": "execute_result"
    }
   ],
   "source": [
    "qc1.draw(output='mpl')"
   ]
  },
  {
   "cell_type": "code",
   "execution_count": 4,
   "id": "b7f2d83a",
   "metadata": {
    "tags": []
   },
   "outputs": [
    {
     "data": {
      "image/png": "[encoded data removed]",
      "text/plain": [
       "<Figure size 143.647x200.667 with 1 Axes>"
      ]
     },
     "execution_count": 4,
     "metadata": {},
     "output_type": "execute_result"
    }
   ],
   "source": [
    "qc11.draw(output='mpl')"
   ]
  },
  {
   "cell_type": "markdown",
   "id": "1d68ac47",
   "metadata": {},
   "source": [
    "#### 2.1 Initial configuration of the qubits \n",
    "By default, qubits start in $|0\\rangle$. The method <font color=blue> initizalize()</font> allows to customize this.\n",
    "It takes two input variables:\n",
    "- **state**: initial state of the qubit, which may be entered as a list of two coordinates in the canonical (\"computational\") basis, $|0\\rangle = [1,0]$; $|1\\rangle = [0,1]$\n",
    "- **qubits** (QuantumRegister or Qubit or int): index to decide which qubit will be initialized (from top to bottom of the circuit in the screen, 0, 1, 2...).\n",
    "\n",
    "States <font color=red> must be normalized </font>. To achieve this, remember to divide by the modulus of the state vector, $\\vec{v}=[v_1,v_2]$, $|\\vec{v}| = \\sqrt{v_1^2+v_2^2}$. This norm (denominator) can also be computed with the method *linalg.norm* to which we should pass $[v_1,v_2]$, the list of coordinates. "
   ]
  },
  {
   "cell_type": "code",
   "execution_count": 5,
   "id": "fbc89876",
   "metadata": {
    "tags": []
   },
   "outputs": [
    {
     "data": {
      "text/html": [
       "<pre style=\"word-wrap: normal;white-space: pre;background: #fff0;line-height: 1.1;font-family: &quot;Courier New&quot;,Courier,monospace\">     ┌─────────────────┐\n",
       "  q: ┤ Initialize(0,1) ├\n",
       "     └─────────────────┘\n",
       "c: 1/═══════════════════\n",
       "                        </pre>"
      ],
      "text/plain": [
       "     ┌─────────────────┐\n",
       "  q: ┤ Initialize(0,1) ├\n",
       "     └─────────────────┘\n",
       "c: 1/═══════════════════\n",
       "                        "
      ]
     },
     "execution_count": 5,
     "metadata": {},
     "output_type": "execute_result"
    }
   ],
   "source": [
    "state_1 = [0,1] # this would be |1>, trivially normalized\n",
    "invalid_state = [1,1] # that is not normalized!\n",
    "state11 = [1,1]/np.linalg.norm([1,1]) # This works: we normalize the vector\n",
    "state13 = [1,np.sqrt(3)]/np.linalg.norm([1,np.sqrt(3)]) # normalized state where 1 is three times more likely than 0 upon measurement\n",
    "#qc11.initialize(state_1,0) \n",
    "qc11.initialize(state_1,0) \n",
    "qc11.draw()"
   ]
  },
  {
   "cell_type": "markdown",
   "id": "cf5de630",
   "metadata": {
    "tags": []
   },
   "source": [
    "### 3. Executing circuits"
   ]
  },
  {
   "cell_type": "markdown",
   "id": "409ac93b",
   "metadata": {
    "tags": []
   },
   "source": [
    "#### 3.1 Import the classical simulator\n",
    "Small circuits can be classically simulated with the help of (pseudo)random numbers. We will use the class \"Aer\" and its \"get_backend\" (in spanish \"definir motor\", a major piece of code which functions behind what we see, the user interface). "
   ]
  },
  {
   "cell_type": "code",
   "execution_count": 6,
   "id": "1d81f204",
   "metadata": {
    "tags": []
   },
   "outputs": [],
   "source": [
    "sim = AerSimulator()"
   ]
  },
  {
   "cell_type": "markdown",
   "id": "d9eff8bb",
   "metadata": {
    "tags": []
   },
   "source": [
    "#### 3.2 Class <font color=blue> Statevector </font>"
   ]
  },
  {
   "cell_type": "code",
   "execution_count": 7,
   "id": "39d0309e",
   "metadata": {
    "tags": []
   },
   "outputs": [
    {
     "data": {
      "text/plain": [
       "array([0.+0.j, 1.+0.j])"
      ]
     },
     "execution_count": 7,
     "metadata": {},
     "output_type": "execute_result"
    }
   ],
   "source": [
    "# We may retrieve the state of the circuit defining an object of the class Statevector using as input the circuit:\n",
    "psi1 = Statevector(qc11) \n",
    "# The coordinates of the final state are the attribute *data* of the object. Let us print them:\n",
    "# Note that the imaginary unit is j (engineering convention as opposed to i in physics/mathematics)\n",
    "psi1.data "
   ]
  },
  {
   "cell_type": "markdown",
   "id": "93406be0",
   "metadata": {},
   "source": [
    "Next, we will see how to invoke <font color=blue> sim.run()</font>, a method for the simulator \"sim\" instantiated above, which executes the circuit. \n",
    "This still requires a couple of steps."
   ]
  },
  {
   "cell_type": "markdown",
   "id": "7c0d2413",
   "metadata": {
    "tags": []
   },
   "source": [
    "#### 3.3 \"Measure\" method"
   ]
  },
  {
   "cell_type": "markdown",
   "id": "705a0106",
   "metadata": {},
   "source": [
    "The <font color=blue> Statevector </font> class is only meaningful in a simulation context, for a real experiment we need to add measurements to the circuit:\n",
    "\n",
    "Employ <font color=blue> measure( , ) </font>, taking two inputs:\n",
    "  - **qubit index**: natural number indexing the qubit to be measured. It starts assigning 0, from the top.\n",
    "  - **c-bit index**: natural number indicating the classical bit where the measured eigenvalue will be kept. Again, it starts from the top line of the circuit to which 0 is assigned. "
   ]
  },
  {
   "cell_type": "code",
   "execution_count": 8,
   "id": "452ef49d",
   "metadata": {
    "tags": []
   },
   "outputs": [
    {
     "data": {
      "image/png": "[encoded data removed]",
      "text/plain": [
       "<Figure size 269.064x200.667 with 1 Axes>"
      ]
     },
     "execution_count": 8,
     "metadata": {},
     "output_type": "execute_result"
    }
   ],
   "source": [
    "qc11.measure(0,0)\n",
    "qc11.draw(output='mpl')"
   ]
  },
  {
   "cell_type": "markdown",
   "id": "8b74321a",
   "metadata": {},
   "source": [
    "The measurement \"collapses\" the qubit to a specific eigenstate, so successive measurements are idle. \n",
    "We keep a record of the measurement thanks to the method <font color=blue>  get_counts()</font>. (The default number of runs is 1024, later in section 4 we will customize it.)"
   ]
  },
  {
   "cell_type": "code",
   "execution_count": 9,
   "id": "2d17b31c",
   "metadata": {
    "tags": []
   },
   "outputs": [
    {
     "data": {
      "image/png": "[encoded data removed]",
      "text/plain": [
       "<Figure size 700x500 with 1 Axes>"
      ]
     },
     "execution_count": 9,
     "metadata": {},
     "output_type": "execute_result"
    }
   ],
   "source": [
    "resultmeasure = sim.run(qc11).result() # Execute the circuite qc11 in the simulator\n",
    "\n",
    "counts = resultmeasure.get_counts() # Results of the measurements\n",
    "plot_histogram(counts) # Plot a histogram with that variable"
   ]
  },
  {
   "cell_type": "markdown",
   "id": "299c816b",
   "metadata": {},
   "source": [
    "Question: <font color=teal> Why does the histogram have only one bar corresponding to |1>  ? </font>\n",
    "\n",
    "We may also employ <font color=blue> measure_all() </font> to measure all qubits at once; classical bits are automatically added."
   ]
  },
  {
   "cell_type": "code",
   "execution_count": 10,
   "id": "5631150c",
   "metadata": {
    "tags": []
   },
   "outputs": [
    {
     "data": {
      "image/png": "[encoded data removed]",
      "text/plain": [
       "<Figure size 413.165x200.667 with 1 Axes>"
      ]
     },
     "execution_count": 10,
     "metadata": {},
     "output_type": "execute_result"
    }
   ],
   "source": [
    "qc2 = QuantumCircuit(1)\n",
    "qc2.initialize(state_1, 0)\n",
    "qc2.measure_all() # Medición en el circuito 2\n",
    "qc2.draw(output='mpl') # Let us draw it again"
   ]
  },
  {
   "cell_type": "code",
   "execution_count": 11,
   "id": "5fb0a787",
   "metadata": {
    "tags": []
   },
   "outputs": [
    {
     "data": {
      "image/png": "[encoded data removed]",
      "text/plain": [
       "<Figure size 700x500 with 1 Axes>"
      ]
     },
     "execution_count": 11,
     "metadata": {},
     "output_type": "execute_result"
    }
   ],
   "source": [
    "resultmeasure2 = sim.run(qc2).result()# Execute the circuite qc2 in the simulator\n",
    "#This time there is nothing we can load, so we continue\n",
    "\n",
    "counts2 = resultmeasure2.get_counts() # Results of the measurements\n",
    "plot_histogram(counts2)  # Plot a histogram with that variable"
   ]
  },
  {
   "cell_type": "markdown",
   "id": "bd59d6e2",
   "metadata": {},
   "source": [
    "Again a trivial histogram; but a circuit initialized to *state13* as defined above will be more interesting:"
   ]
  },
  {
   "cell_type": "code",
   "execution_count": 12,
   "id": "6690e8ae",
   "metadata": {
    "tags": []
   },
   "outputs": [
    {
     "data": {
      "image/png": "[encoded data removed]",
      "text/plain": [
       "<Figure size 496.776x200.667 with 1 Axes>"
      ]
     },
     "execution_count": 12,
     "metadata": {},
     "output_type": "execute_result"
    }
   ],
   "source": [
    "# Initialize a circuit to state13\n",
    "qc3 = QuantumCircuit(1) \n",
    "qc3.initialize(state13, 0) \n",
    "\n",
    "# Now measure all qubits\n",
    "qc3.measure_all()\n",
    "\n",
    "# Execute the circuit \n",
    "resultmeasure3 = sim.run(qc3).result()\n",
    "\n",
    "qc3.draw(output='mpl')"
   ]
  },
  {
   "cell_type": "code",
   "execution_count": 13,
   "id": "f413dec1-5b4f-40f5-a4fc-5ff31a737bcc",
   "metadata": {},
   "outputs": [
    {
     "data": {
      "image/png": "[encoded data removed]",
      "text/plain": [
       "<Figure size 700x500 with 1 Axes>"
      ]
     },
     "execution_count": 13,
     "metadata": {},
     "output_type": "execute_result"
    }
   ],
   "source": [
    "# Prepare a histogram with the results\n",
    "counts3 = resultmeasure3.get_counts()\n",
    "plot_histogram(counts3)"
   ]
  },
  {
   "cell_type": "markdown",
   "id": "16b03fdc",
   "metadata": {
    "tags": []
   },
   "source": [
    "### 4. Now something practical: generation of truly random numbers with a quantum computer"
   ]
  },
  {
   "cell_type": "markdown",
   "id": "5a91e115",
   "metadata": {},
   "source": [
    "Classical computers, being deterministic machines, only generate **pseudorandom** numbers: \n",
    "sequences of numbers which may be distributed as true random numbers, but are perfectly determined by the initial **seed**.  To make them more random, the seed is often taken from the computer time or the battery remaining at the instant of calculation (in random.org they are taken from atmospheric noise, but this requires an external probe). Moreover, the mathematical congruences employed have a (very large) cyclicity, so that eventually the sequence will start giving you the same numbers in the same order.\n",
    "\n",
    "Because  **the outcome of a quantum measurement is a true random number**, quantum computers give us truly random sequences. Here we simulate the process (which you may another day run in a true quantum computer) obtaining a random integer between 0 and 15 (with 4 qubits)"
   ]
  },
  {
   "cell_type": "markdown",
   "id": "2baa0506",
   "metadata": {},
   "source": [
    "First, we create a circuit with four qubits and four classical bits to receive the respective measurements.\n",
    "\n",
    "Next, we initialize them with an equally likely overlap of  $\\lvert 0\\rangle$ y $\\lvert 1 \\rangle$. \n",
    "\n",
    "<font color= teal> Question: Can you write in a piece of paper the initial state in the second line of the next paragraph?</font>"
   ]
  },
  {
   "cell_type": "code",
   "execution_count": 14,
   "id": "34a19622",
   "metadata": {
    "tags": []
   },
   "outputs": [
    {
     "data": {
      "image/png": "[encoded data removed]",
      "text/plain": [
       "<Figure size 872.774x451.5 with 1 Axes>"
      ]
     },
     "execution_count": 14,
     "metadata": {},
     "output_type": "execute_result"
    }
   ],
   "source": [
    "qrng = QuantumCircuit(4,4) \n",
    "init_state = np.kron([1,1],np.kron([1,1],np.kron([1,1],[1,1]))) # Kron is a Python command for Cartesian (or Kronecker) products\n",
    "init_state_normal = init_state/np.linalg.norm(init_state)\n",
    "qrng.initialize(init_state_normal,[0,1,2,3]) \n",
    "qrng.draw(output='mpl')"
   ]
  },
  {
   "cell_type": "markdown",
   "id": "42a1b567",
   "metadata": {},
   "source": [
    "We now measure every qubit and send the result to the corresponding classical bit (all are contained by the double line in the drawing below)"
   ]
  },
  {
   "cell_type": "code",
   "execution_count": 15,
   "id": "3dc7e935",
   "metadata": {
    "tags": []
   },
   "outputs": [
    {
     "data": {
      "image/png": "[encoded data removed]",
      "text/plain": [
       "<Figure size 1207.22x451.5 with 1 Axes>"
      ]
     },
     "execution_count": 15,
     "metadata": {},
     "output_type": "execute_result"
    }
   ],
   "source": [
    "qrng.measure([0,1,2,3], [0,1,2,3]) \n",
    "qrng.draw(output='mpl') "
   ]
  },
  {
   "cell_type": "markdown",
   "id": "a39b34d6",
   "metadata": {},
   "source": [
    "With the circuit defined, we can run it once to obtain exactly one random number. \n",
    "\n",
    "To run it N times (here, N=1) we need to specify the value of the *shots* argument to the <font color=blue> run </font> method.`"
   ]
  },
  {
   "cell_type": "code",
   "execution_count": 16,
   "id": "b980215c",
   "metadata": {
    "tags": []
   },
   "outputs": [
    {
     "name": "stdout",
     "output_type": "stream",
     "text": [
      "{'0111': 1}\n"
     ]
    }
   ],
   "source": [
    "result = sim.run(qrng,shots=1).result()\n",
    "rn_bin = result.get_counts(qrng)\n",
    "print(rn_bin)"
   ]
  },
  {
   "cell_type": "markdown",
   "id": "3a4cf689",
   "metadata": {},
   "source": [
    "<font color=teal> Question: run the circuit a few times and write down the number obtained </font>"
   ]
  },
  {
   "cell_type": "markdown",
   "id": "0b1a4fc5",
   "metadata": {},
   "source": [
    "Finally, we convert the result to the decimal numeral system (python's <font color=\"blue\"> int() </font> takes a list of components and the base for the powers, here 2, returning the integer)"
   ]
  },
  {
   "cell_type": "code",
   "execution_count": 17,
   "id": "12093425",
   "metadata": {
    "tags": []
   },
   "outputs": [
    {
     "name": "stdout",
     "output_type": "stream",
     "text": [
      "7\n"
     ]
    }
   ],
   "source": [
    "decimal_result = int(list(rn_bin.keys())[0], 2)\n",
    "print(decimal_result)"
   ]
  },
  {
   "cell_type": "markdown",
   "id": "02bae932",
   "metadata": {},
   "source": [
    "We may easily encapsulate this computation defining it as a python function, simplifying its inclusion in algorithms for more sophisticated problems.\n"
   ]
  },
  {
   "cell_type": "code",
   "execution_count": 18,
   "id": "8c660db0",
   "metadata": {
    "tags": []
   },
   "outputs": [],
   "source": [
    "def QRNG(): #a quantum random number generator\n",
    "    qrng = QuantumCircuit(4,4) \n",
    "    init_state = [1,1,1,1,1,1,1,1,1,1,1,1,1,1,1,1]\n",
    "    init_state_normal = init_state/np.linalg.norm(init_state)\n",
    "    qrng.initialize(init_state_normal,[0,1,2,3]) \n",
    "    qrng.measure([0,1,2,3], [0,1,2,3]) \n",
    "    result = sim.run(qrng,shots=1).result()\n",
    "    counts = result.get_counts(qrng)\n",
    "    decimal_result = int(list(counts.keys())[0], 2)\n",
    "    return decimal_result"
   ]
  },
  {
   "cell_type": "code",
   "execution_count": 19,
   "id": "99447d34",
   "metadata": {
    "tags": []
   },
   "outputs": [
    {
     "name": "stdout",
     "output_type": "stream",
     "text": [
      "14\n"
     ]
    }
   ],
   "source": [
    "rn = QRNG()\n",
    "print(rn)"
   ]
  },
  {
   "cell_type": "markdown",
   "id": "3f13d26a",
   "metadata": {},
   "source": [
    "<font color=teal> Question: Write a loop that generates 32 random numbers and plot a histogram with their distribution </font>\n",
    "\n",
    "To insert new cells go to the menu at the top of this tab and select **+**. To its left you may choose between a *code* cell or a text  (*markdown*) cell.\n",
    "\n",
    "<font color=teal> Question: Write down in a piece of paper all the methods that you have learned here </font>"
   ]
  },
  {
   "cell_type": "markdown",
   "id": "20eda09a-0629-4641-b75d-be0240964c4b",
   "metadata": {},
   "source": [
    "### 5. Quantum Fourier transform"
   ]
  },
  {
   "cell_type": "markdown",
   "id": "d30299a7-7ed9-4d74-b90a-cf0152312f1a",
   "metadata": {
    "tags": []
   },
   "source": [
    "#### 5.1. Theory precis"
   ]
  },
  {
   "cell_type": "markdown",
   "id": "0d37c6f7-51bd-4709-acb3-3d2f792d8c1e",
   "metadata": {},
   "source": [
    "The discrete Fourier transform of a vector with amplitudes $\\left\\{x_0,x_1,...,x_{N-1}\\right\\}$ is another vector with amplitudes $\\left\\{p_0,p_1,...,p_{N-1}\\right\\}$ given by\n",
    "\n",
    "$$ p_k = \\frac{1}{\\sqrt{N}}\\sum^{N-1}_{j=0}x_j e^{2\\pi i j k /N}, $$\n",
    "\n",
    "which may be interpreted as a change of basis. The elements of the $B$ and the $F(B)$ bases are then related by\n",
    "$$\\left|j\\right\\rangle_{B}\\rightarrow \\left|j\\right\\rangle_{F(B)} =  \\frac{1}{\\sqrt{N}}\\sum^{N-1}_{k=0} e^{2\\pi i j k /N}\\left|k\\right\\rangle_{B},$$\n",
    "so that\n",
    "$$\\sum_j x_j \\left|j\\right\\rangle_{F(B)} = \\sum_k p_k \\left|k\\right\\rangle_{B}.$$\n",
    "In a quantum machine, $B$ is the computational basis. For a system of $n$ qubits one has $N=2^n$ states: \n",
    "$\\{ | 0\\rangle ,|1 \\rangle,\\dots ,|N-1\\rangle \\} $. Written in the binary representation this is $|j\\rangle= |j_1j_2...j_n \\rangle $, with $j = j_1 2^{n-1} + j_2 2^{n-2} + ... + j_n 2^0$. This representation serves to give a product form to the change of basis / Fourier transform, where each term in the product acts over a particular qubit,\n",
    "$$\\left|j\\right\\rangle_{B}=\\left|j_1 ... j_n\\right\\rangle_{B} \\rightarrow \\frac{\\left(\\left|0\\right\\rangle+e^{2\\pi i j_n/2}\\left|1\\right\\rangle\\right)\\left(\\left|0\\right\\rangle+e^{2\\pi i \\left(j_{n-1}/2 + j_n/4\\right)}\\left|1\\right\\rangle\\right)...\\left(\\left|0\\right\\rangle+e^{2\\pi i \\left(j_1/2 + ... + j_n/2^n\\right)}\\left|1\\right\\rangle\\right)}{2^{n/2}},$$\n",
    "that we will implement in what follows. "
   ]
  },
  {
   "cell_type": "markdown",
   "id": "ca02148d-1094-4c70-99dd-1e541e260f61",
   "metadata": {},
   "source": [
    "#### 5.2. Implementation. A 3-qubit example. \n"
   ]
  },
  {
   "cell_type": "markdown",
   "id": "e93a8fb0-4354-4d11-a48a-ac8d8d08372b",
   "metadata": {},
   "source": [
    "A cursory look at the expression from the last paragraph suggests\n",
    "the usefulness of a gate to perform the following 1-qubit operation:\n",
    "\n",
    "$$\\alpha |0\\rangle + \\beta | 1 \\rangle \\rightarrow  \\alpha | 0 \\rangle +\\beta e^{2\\pi i\\ /\\ 2^k} | 1 \\rangle $$\n",
    "We can represent such operation in matrix form as \n",
    "$$R_k = \\begin{pmatrix}\n",
    "1 & 0 \\\\\n",
    "0 & e^{2\\pi i /2^k}\n",
    "\\end{pmatrix},$$\n",
    "while one of the basic transformations in the Qiskit package es *PhaseGate*, with matrix representation\n",
    "$$\\text{PhaseGate}(\\phi) = \\begin{pmatrix}\n",
    "1 & 0 \\\\\n",
    "0 & e^{i\\phi}\n",
    "\\end{pmatrix}.$$\n",
    "Hence,"
   ]
  },
  {
   "cell_type": "markdown",
   "id": "5ccc27c8-44c1-40d4-bdfd-2bb1d5466481",
   "metadata": {},
   "source": [
    "<font color=\"teal\"> **Question 5.1.** Check that the following function implements the $R_k$ transformation: </font> "
   ]
  },
  {
   "cell_type": "code",
   "execution_count": 36,
   "id": "d32588b9-b645-4e70-b307-6e13d10c2013",
   "metadata": {
    "tags": []
   },
   "outputs": [],
   "source": [
    "from qiskit.circuit.library import PhaseGate, XGate\n",
    "def R(k):\n",
    "    return PhaseGate((2.*np.pi)/pow(2,k))"
   ]
  },
  {
   "cell_type": "markdown",
   "id": "51a83253-1112-42ac-b727-d34d89369c65",
   "metadata": {},
   "source": [
    "<font color=\"teal\"> To do so create a one-qubit circuit and add the gate using the method <font color=blue> append(,) <font color=\"teal\">, which takes two input arguments:  </font>\n",
    "- <font color=\"teal\"> **Operation** to be included in the circuit </font>\n",
    "- <font color=\"teal\"> **Index list** specifying the qubits to which the gate will be applied  </font>\n",
    "    \n",
    "Example usage:"
   ]
  },
  {
   "cell_type": "code",
   "execution_count": 37,
   "id": "00aa1ff5-15c1-4a96-906e-9ab2c296406e",
   "metadata": {
    "tags": []
   },
   "outputs": [
    {
     "data": {
      "image/png": "[encoded data removed]",
      "text/plain": [
       "<Figure size 185.453x117.056 with 1 Axes>"
      ]
     },
     "execution_count": 37,
     "metadata": {},
     "output_type": "execute_result"
    }
   ],
   "source": [
    "Example1 = QuantumCircuit(1)\n",
    "Example1.append(XGate(),[0])\n",
    "Example1.draw(output='mpl')"
   ]
  },
  {
   "cell_type": "markdown",
   "id": "c47a2806-a149-4194-80c5-ecf7ec425863",
   "metadata": {},
   "source": [
    "Standard gates such as Hadamard's, Pauli-X,Y,Z and CNOT do not require the <font color=blue> append(,) </font> sintax and can be directly appended (as methods) to the circuit object, with the dot notation:"
   ]
  },
  {
   "cell_type": "code",
   "execution_count": 38,
   "id": "95960e64-b9fd-4700-923d-8067521bb182",
   "metadata": {
    "tags": []
   },
   "outputs": [
    {
     "data": {
      "image/png": "[encoded data removed]",
      "text/plain": [
       "<Figure size 287.496x284.278 with 1 Axes>"
      ]
     },
     "execution_count": 38,
     "metadata": {},
     "output_type": "execute_result"
    }
   ],
   "source": [
    "Example2 = QuantumCircuit(3)\n",
    "Example2.x(0)\n",
    "Example2.z(2)\n",
    "Example2.cx(2,1)\n",
    "Example2.draw(output='mpl')"
   ]
  },
  {
   "cell_type": "markdown",
   "id": "f23aa45d-d5ae-48ec-b9b0-7f9f74bd43d8",
   "metadata": {},
   "source": [
    "After these preliminaries we may start implementing the Quantum Fourier Transform. Return to the last formula of 5.1.\n",
    "\n",
    "In the first place, the Hadamard gate produces the transformation (one-qubit Fourier transform)\n",
    "$$| 0\\rangle \\rightarrow\\frac{1}{\\sqrt{2}}\\left(| 0 \\rangle+ | 1\\rangle \\right),\\ \\ \\ \\ \\ \\  | 1\\rangle \\rightarrow\\frac{1}{\\sqrt{2}}\\left(| 0\\rangle- |1 \\rangle\\right),$$\n",
    "or, equivalently (remember $j_1=0,1$),\n",
    "$$| j_1\\rangle\\rightarrow \\frac{1}{\\sqrt{2}}\\left(\\left|0\\right\\rangle+e^{(2\\pi i) j_1/2}\\left|1\\right\\rangle\\right).$$\n",
    "Proceeding to add the remaining qubits,\n",
    "$$|j_1j_2j_3\\rangle \\rightarrow | \\psi_1\\rangle = \\frac{1}{\\sqrt{2}}\n",
    "\\left( | 0 \\rangle + e^{(2\\pi i) j_1/2} |1\\rangle\\right) \n",
    "|j_2j_3\\rangle.$$\n",
    "\n",
    "To get started, let us instantiate a quantum circuit object, and add a Hadamard to the last qubit."
   ]
  },
  {
   "cell_type": "code",
   "execution_count": 39,
   "id": "666a80c7-0ecb-4ea9-9a36-c4e43009d327",
   "metadata": {
    "tags": []
   },
   "outputs": [
    {
     "data": {
      "image/png": "[encoded data removed]",
      "text/plain": [
       "<Figure size 203.885x284.278 with 1 Axes>"
      ]
     },
     "execution_count": 39,
     "metadata": {},
     "output_type": "execute_result"
    }
   ],
   "source": [
    "qft_circuit = QuantumCircuit(3, name = 'QFT')\n",
    "qft_circuit.h(2)\n",
    "qft_circuit.draw(output='mpl')"
   ]
  },
  {
   "cell_type": "markdown",
   "id": "677c6819-249f-41df-9c6c-0070a4f2b392",
   "metadata": {
    "tags": []
   },
   "source": [
    "We can quickly check out the state vector of the whole circuit. In this case, the coordinates in a space of dimension $2^3=8$,"
   ]
  },
  {
   "cell_type": "code",
   "execution_count": 40,
   "id": "dbb48aa2-3445-4ffc-8f13-1c46ebf1b6cd",
   "metadata": {
    "tags": []
   },
   "outputs": [
    {
     "name": "stdout",
     "output_type": "stream",
     "text": [
      "Statevector([0.70710678+0.j, 0.        +0.j, 0.        +0.j,\n",
      "             0.        +0.j, 0.70710678+0.j, 0.        +0.j,\n",
      "             0.        +0.j, 0.        +0.j],\n",
      "            dims=(2, 2, 2))\n"
     ]
    }
   ],
   "source": [
    "phi1 = Statevector(qft_circuit)\n",
    "phi1"
   ]
  },
  {
   "cell_type": "markdown",
   "id": "a1b31b72-e133-4d29-8e35-62c10ebe209d",
   "metadata": {},
   "source": [
    "We see that we obtained a superposition of the kets $|0\\rangle$ and $| 4\\rangle$. To get the multiplicative phase $e^{2\\pi i j_2 /4}$ on the last qubit we need to apply the gate $R(2)$ controlling the value of the middle one, converting $R(k)$ into a control gate. This is achieved by the method <font color=blue> control() </font>"
   ]
  },
  {
   "cell_type": "code",
   "execution_count": 41,
   "id": "028379ad-9a65-46f7-8e92-18af8c725bbc",
   "metadata": {
    "tags": []
   },
   "outputs": [
    {
     "data": {
      "image/png": "[encoded data removed]",
      "text/plain": [
       "<Figure size 371.107x284.278 with 1 Axes>"
      ]
     },
     "execution_count": 41,
     "metadata": {},
     "output_type": "execute_result"
    }
   ],
   "source": [
    "# The operation R(2).control() now acts on two qubits, so it takes two indices on input:\n",
    "# the first points to the target qubit, the second to the control one\n",
    "qft_circuit.append(R(2).control(),[2,1]) \n",
    "qft_circuit.draw(output='mpl')"
   ]
  },
  {
   "cell_type": "markdown",
   "id": "ca93872e-d998-418f-82fb-ad218bebaafe",
   "metadata": {},
   "source": [
    "which runs\n",
    "$$| j_1j_2j_3\\rangle \\rightarrow | \\psi_1\\rangle = \\frac{1}{\\sqrt{2}}\\left(\\left|0\\right\\rangle+e^{2\\pi i (j_1/2 +j_2/4)}\\left|1\\right\\rangle\\right)\\otimes | j_2j_3\\rangle.$$"
   ]
  },
  {
   "cell_type": "markdown",
   "id": "1fbf9d07-687b-4ecc-be25-75ff04352c68",
   "metadata": {},
   "source": [
    "**Question 5.2** <font color=\"teal\"> Write the state resulting from applying that transformation to the initial ket\n",
    " $| 010\\rangle$.\n",
    "    Check, with the <font color=\"blue\">Statevector <font color=\"teal\">\n",
    "    class that the circuit generates the correct output.</font>"
   ]
  },
  {
   "cell_type": "markdown",
   "id": "2b2abcf5-1bd1-4bb2-860a-0255be50d34e",
   "metadata": {},
   "source": [
    "To finish with that last qubit, we need the phase factor $e^{2\\pi i j_3/8}$:\n",
    "$$|j_1j_2j_3\\rangle\\rightarrow |\\psi_1\\rangle = \\frac{1}{\\sqrt{2}}\\left(\\left|0\\right\\rangle+e^{2\\pi i (j_1/2 +j_2/4 + j_3/8)}\\left|1\\right\\rangle\\right) \\otimes |j_2j_3\\rangle.$$\n",
    "so the circuit becomes"
   ]
  },
  {
   "cell_type": "code",
   "execution_count": 42,
   "id": "a090d3e6-03e1-4464-87df-f4c98b0b1b50",
   "metadata": {
    "tags": []
   },
   "outputs": [
    {
     "data": {
      "image/png": "[encoded data removed]",
      "text/plain": [
       "<Figure size 538.33x284.278 with 1 Axes>"
      ]
     },
     "execution_count": 42,
     "metadata": {},
     "output_type": "execute_result"
    }
   ],
   "source": [
    "qft_circuit.append(R(3).control(),[2,0]) \n",
    "qft_circuit.draw(output='mpl')"
   ]
  },
  {
   "cell_type": "markdown",
   "id": "1fc7b23f-bb9e-42e6-b103-caa77053eb4a",
   "metadata": {},
   "source": [
    "Performing now the needed operations on the middle and the upper qubits we get:"
   ]
  },
  {
   "cell_type": "code",
   "execution_count": 43,
   "id": "0e90de65-0f92-44cc-a049-6e3c1fb40dcf",
   "metadata": {
    "tags": []
   },
   "outputs": [
    {
     "data": {
      "image/png": "[encoded data removed]",
      "text/plain": [
       "<Figure size 872.774x284.278 with 1 Axes>"
      ]
     },
     "execution_count": 43,
     "metadata": {},
     "output_type": "execute_result"
    }
   ],
   "source": [
    "qft_circuit.h(1)\n",
    "qft_circuit.append(R(2).control(),[1,0])\n",
    "qft_circuit.h(0)\n",
    "qft_circuit.draw(output='mpl')"
   ]
  },
  {
   "cell_type": "markdown",
   "id": "aaba6979-a174-447e-bb4d-4c16ec1a33b1",
   "metadata": {},
   "source": [
    "that transforms"
   ]
  },
  {
   "cell_type": "markdown",
   "id": "3e6208a7-a6cb-4468-851a-1039f3433eeb",
   "metadata": {},
   "source": [
    "$$| j_1j_2j_3\\rangle \\rightarrow\\frac{1}{2^{3/2}}\\left(\\left|0\\right\\rangle+e^{2\\pi i (j_1/2+j_2/4+j_3/8)}\\left|1\\right\\rangle\\right)\\left(\\left|0\\right\\rangle+e^{2\\pi i (j_2/2+j_3/4)}\\left|1\\right\\rangle\\right)\\left(\\left|0\\right\\rangle+e^{2\\pi i j_3/2}\\left|1\\right\\rangle\\right),$$"
   ]
  },
  {
   "cell_type": "markdown",
   "id": "0da51779-e19a-46a0-9012-e348f4fd6291",
   "metadata": {},
   "source": [
    "so that, to complete the Fourier transform, we apply a SWAP gate to exchange the first and last qubits, because we have them on the wrong positions,"
   ]
  },
  {
   "cell_type": "code",
   "execution_count": 44,
   "id": "e53652d3-7051-47d4-8c89-b910c094bd23",
   "metadata": {
    "tags": []
   },
   "outputs": [
    {
     "data": {
      "image/png": "[encoded data removed]",
      "text/plain": [
       "<Figure size 956.385x284.278 with 1 Axes>"
      ]
     },
     "execution_count": 44,
     "metadata": {},
     "output_type": "execute_result"
    }
   ],
   "source": [
    "qft_circuit.swap(2,0)\n",
    "qft_circuit.draw(output='mpl')"
   ]
  },
  {
   "cell_type": "markdown",
   "id": "7576ddd8-321c-4063-84c9-91208c96da50",
   "metadata": {},
   "source": [
    "that finally is the wanted transformation,\n",
    "$$| j_1j_2j_3\\rangle \\rightarrow  \\frac{1}{2^{3/2}}  \n",
    "  \\left( |0\\rangle+e^{2\\pi i j_3/2} |1\\rangle\\right) \\otimes\n",
    "  \\left( |0\\rangle+e^{2\\pi i (j_2/2+j_3/4)} |1\\rangle\\right) \\otimes\n",
    "  \\left( |0\\rangle+e^{2\\pi i (j_1/2+j_2/4+j_3/8)}|1\\rangle\\right).$$\n",
    "We can write the circuit in one pass:"
   ]
  },
  {
   "cell_type": "code",
   "execution_count": 45,
   "id": "fe249694-9a1b-4e32-91d0-f9a4980e9544",
   "metadata": {
    "tags": []
   },
   "outputs": [
    {
     "data": {
      "image/png": "[encoded data removed]",
      "text/plain": [
       "<Figure size 956.385x284.278 with 1 Axes>"
      ]
     },
     "execution_count": 45,
     "metadata": {},
     "output_type": "execute_result"
    }
   ],
   "source": [
    "qft3 = QuantumCircuit(3, name = 'QFT3')\n",
    "# Transforming qubit q_2:\n",
    "qft3.h(2)\n",
    "qft3.append(R(2).control(),[2,1])\n",
    "qft3.append(R(3).control(),[2,0])\n",
    "# Transforming qubit q_1:\n",
    "qft3.h(1)\n",
    "qft3.append(R(2).control(),[1,0])\n",
    "# Transforming qubit q_0:\n",
    "qft3.h(0)\n",
    "# SWAP\n",
    "qft3.swap(0,2)\n",
    "qft3.draw(output='mpl')"
   ]
  },
  {
   "cell_type": "markdown",
   "id": "ade33b81-c5c7-4493-a195-b2b9398d06a2",
   "metadata": {},
   "source": [
    "We may keep the entire circuit as one three-qubit gate to be used later on (so as to build more complex projects in a modular way) with the method <font color=blue> to_gate() </font>,"
   ]
  },
  {
   "cell_type": "code",
   "execution_count": 46,
   "id": "90c427b9-a984-4d25-b53c-72f0084efb96",
   "metadata": {},
   "outputs": [],
   "source": [
    "qft3_gate = qft3.to_gate()"
   ]
  },
  {
   "cell_type": "markdown",
   "id": "90c5865c-8944-43a3-9685-69f1f7076f73",
   "metadata": {},
   "source": [
    "This may now be used as subroutine; as an example, let us see of transforming the following state\n",
    "\\begin{eqnarray*} |\\psi_1\\rangle &=& \\frac{1}{2^{3/2}}\\left(\\left|0\\right\\rangle+\\left|1\\right\\rangle\\right)\\left(\\left|0\\right\\rangle+\\left|1\\right\\rangle\\right)\\left(\\left|0\\right\\rangle-\\left|1\\right\\rangle\\right) \\\\ &=& \\frac{1}{2^{3/2}}\\left(\\left|0\\right\\rangle-\\left|1\\right\\rangle+\\left|2\\right\\rangle-|3\\rangle+|4\\rangle-|5\\rangle+|6\\rangle-\\left|7\\right\\rangle\\right),\\end{eqnarray*}"
   ]
  },
  {
   "cell_type": "code",
   "execution_count": 47,
   "id": "2c7dd2d6-920c-4a75-8535-356ce06c7103",
   "metadata": {},
   "outputs": [
    {
     "data": {
      "image/png": "[encoded data removed]",
      "text/plain": [
       "<Figure size 287.496x284.278 with 1 Axes>"
      ]
     },
     "execution_count": 47,
     "metadata": {},
     "output_type": "execute_result"
    }
   ],
   "source": [
    "Example3 = QuantumCircuit(3)\n",
    "# Let us prepare the state\n",
    "Example3.x(0)\n",
    "Example3.h(0)\n",
    "Example3.h(1)\n",
    "Example3.h(2)\n",
    "Example3.draw(output='mpl')"
   ]
  },
  {
   "cell_type": "code",
   "execution_count": 48,
   "id": "e015beaf-7f25-4249-bf8c-a610c6373a76",
   "metadata": {},
   "outputs": [
    {
     "data": {
      "text/plain": [
       "array([ 0.35355339+0.j, -0.35355339+0.j,  0.35355339+0.j, -0.35355339+0.j,\n",
       "        0.35355339+0.j, -0.35355339+0.j,  0.35355339+0.j, -0.35355339+0.j])"
      ]
     },
     "execution_count": 48,
     "metadata": {},
     "output_type": "execute_result"
    }
   ],
   "source": [
    "phi1 = Statevector(Example3)\n",
    "phi1.data"
   ]
  },
  {
   "cell_type": "code",
   "execution_count": 49,
   "id": "fe936d24-dcc9-48d9-898d-0608c1e54249",
   "metadata": {},
   "outputs": [
    {
     "data": {
      "image/png": "[encoded data removed]",
      "text/plain": [
       "<Figure size 454.719x284.278 with 1 Axes>"
      ]
     },
     "execution_count": 49,
     "metadata": {},
     "output_type": "execute_result"
    }
   ],
   "source": [
    "Example3.append(qft3_gate,[0,1,2])\n",
    "Example3.draw(output='mpl')"
   ]
  },
  {
   "cell_type": "code",
   "execution_count": 50,
   "id": "237d2e04-4f26-4c4d-b2b3-a22d4d868e83",
   "metadata": {},
   "outputs": [
    {
     "data": {
      "text/plain": [
       "array([2.36158002e-17+0.00000000e+00j, 1.55582133e-19-6.44442296e-20j,\n",
       "       4.76210391e-18-4.76210391e-18j, 1.55582133e-19-3.75608496e-19j,\n",
       "       1.00000000e+00+0.00000000e+00j, 1.55582133e-19+3.75608496e-19j,\n",
       "       4.76210391e-18+4.76210391e-18j, 1.55582133e-19+6.44442296e-20j])"
      ]
     },
     "execution_count": 50,
     "metadata": {},
     "output_type": "execute_result"
    }
   ],
   "source": [
    "Fphi1 = Statevector(Example3)\n",
    "Fphi1.data"
   ]
  },
  {
   "cell_type": "markdown",
   "id": "6f862fe7-5dbe-495a-ae4d-0d5736240a02",
   "metadata": {},
   "source": [
    "This corresponds with $|4\\rangle$, the number of times that the original state performed a complete change of sign."
   ]
  },
  {
   "cell_type": "markdown",
   "id": "f413bc62-eec8-4736-948d-de8509835452",
   "metadata": {},
   "source": [
    "#### <font color=\"teal\"> 5.3 QFT full exercise</font>"
   ]
  },
  {
   "cell_type": "markdown",
   "id": "3bd72400-0aa0-4b97-87e4-6c3453ebf16d",
   "metadata": {},
   "source": [
    "<font color=\"teal\"> Please implement now the Quantum Fourier Transform as a gate acting over 5 qubits.  Apply this gate to the following states.</font>\n",
    "\n",
    "$$ |\\phi_1\\rangle = \\frac{1}{2^{5/2}}\\left(\\left|0\\right\\rangle+\\left|1\\right\\rangle\\right)\\left(\\left|0\\right\\rangle+\\left|1\\right\\rangle\\right)\\left(\\left|0\\right\\rangle+\\left|1\\right\\rangle\\right)\\left(\\left|0\\right\\rangle+\\left|1\\right\\rangle\\right)\\left(\\left|0\\right\\rangle-\\left|1\\right\\rangle\\right)$$\n",
    "$$ |\\phi_2\\rangle = \\frac{1}{2^{5/2}}\\left(\\left|0\\right\\rangle+\\left|1\\right\\rangle\\right)\\left(\\left|0\\right\\rangle+\\left|1\\right\\rangle\\right)\\left(\\left|0\\right\\rangle+\\left|1\\right\\rangle\\right)\\left(\\left|0\\right\\rangle-\\left|1\\right\\rangle\\right)\\left(\\left|0\\right\\rangle+\\left|1\\right\\rangle\\right)$$\n",
    "$$ |\\phi_3\\rangle = \\frac{1}{2^{5/2}}\\left(\\left|0\\right\\rangle+\\left|1\\right\\rangle\\right)\\left(\\left|0\\right\\rangle+\\left|1\\right\\rangle\\right)\\left(\\left|0\\right\\rangle-\\left|1\\right\\rangle\\right)\\left(\\left|0\\right\\rangle+\\left|1\\right\\rangle\\right)\\left(\\left|0\\right\\rangle+\\left|1\\right\\rangle\\right)$$\n",
    "$$ |\\phi_4\\rangle = \\frac{1}{2^{5/2}}\\left(\\left|0\\right\\rangle+\\left|1\\right\\rangle\\right)\\left(\\left|0\\right\\rangle-\\left|1\\right\\rangle\\right)\\left(\\left|0\\right\\rangle+\\left|1\\right\\rangle\\right)\\left(\\left|0\\right\\rangle+\\left|1\\right\\rangle\\right)\\left(\\left|0\\right\\rangle+\\left|1\\right\\rangle\\right)$$\n",
    "    \n",
    "<font color=\"teal\">Briefly comment on the results.  </font>"
   ]
  },
  {
   "cell_type": "code",
   "execution_count": null,
   "id": "01b24f93-6c67-4f4a-beed-6c47a78dd189",
   "metadata": {},
   "outputs": [],
   "source": []
  }
 ],
 "metadata": {
  "kernelspec": {
   "display_name": "Python 3 (ipykernel)",
   "language": "python",
   "name": "python3"
  },
  "language_info": {
   "codemirror_mode": {
    "name": "ipython",
    "version": 3
   },
   "file_extension": ".py",
   "mimetype": "text/x-python",
   "name": "python",
   "nbconvert_exporter": "python",
   "pygments_lexer": "ipython3",
   "version": "3.10.6"
  },
  "widgets": {
   "application/vnd.jupyter.widget-state+json": {
    "state": {},
    "version_major": 2,
    "version_minor": 0
   }
  }
 },
 "nbformat": 4,
 "nbformat_minor": 5
}
