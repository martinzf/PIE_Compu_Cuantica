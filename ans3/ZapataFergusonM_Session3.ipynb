{
  "cells": [
    {
      "cell_type": "markdown",
      "metadata": {
        "id": "H8L5vpP-wMkK"
      },
      "source": [
        "## Session 3: Execution of real quantum circuits on IBM's computers"
      ]
    },
    {
      "cell_type": "code",
      "execution_count": 1,
      "metadata": {
        "id": "2HrbCjx0-vtw"
      },
      "outputs": [],
      "source": [
        "# Importing standard Qiskit libraries\n",
        "from qiskit import QuantumCircuit, transpile\n",
        "from qiskit_aer import AerSimulator\n",
        "from qiskit_ibm_runtime import QiskitRuntimeService, SamplerV2, EstimatorV2\n",
        "from qiskit.quantum_info import SparsePauliOp, Operator\n",
        "\n",
        "# Other imports\n",
        "import numpy as np\n",
        "import pandas as pd\n",
        "import matplotlib.pyplot as plt"
      ]
    },
    {
      "cell_type": "markdown",
      "metadata": {},
      "source": [
        "In the lab session we used premium accounts to fast forward over the long queue list of IBM's quantum machines. However at home we can use our free accounts to schedule calculations."
      ]
    },
    {
      "cell_type": "code",
      "execution_count": 2,
      "metadata": {},
      "outputs": [],
      "source": [
        "# Recover previous session information\n",
        "df = pd.read_csv('session.csv')\n",
        "\n",
        "# Loading account\n",
        "service = QiskitRuntimeService(channel='ibm_quantum', token=df.token[0]) \n",
        "\n",
        "# Simulation machine\n",
        "backend_S = AerSimulator()\n",
        "# In the lab we used backend_S = service.backend('ibmq_qasm_simulator'), \n",
        "# however cloud simulators have been deprecated and will be removed on 15 May 2024"
      ]
    },
    {
      "cell_type": "code",
      "execution_count": null,
      "metadata": {},
      "outputs": [],
      "source": [
        "# Quantum machine\n",
        "backend_Q = service.least_busy(operational=True, simulator=False, min_num_qubits=20)\n",
        "\n",
        "# Save backend\n",
        "df.backend_Q = backend_Q.name\n",
        "df.to_csv('session.txt', index=False)"
      ]
    },
    {
      "cell_type": "code",
      "execution_count": 3,
      "metadata": {},
      "outputs": [
        {
          "data": {
            "text/html": [
              "<pre>&lt;qiskit.providers.models.backendstatus.BackendStatus object at 0x000001995E48FE10&gt;</pre><b>name</b>: ibm_kyoto<br/><b>version</b>: , <b>pending jobs</b>: 58<br/><b>status</b>: active<br/>"
            ],
            "text/plain": [
              "<qiskit.providers.models.backendstatus.BackendStatus at 0x1995e48fe10>"
            ]
          },
          "execution_count": 3,
          "metadata": {},
          "output_type": "execute_result"
        }
      ],
      "source": [
        "backend_Q = service.get_backend(df.backend_Q[0]) \n",
        "backend_Q.status()"
      ]
    },
    {
      "cell_type": "code",
      "execution_count": 4,
      "metadata": {},
      "outputs": [],
      "source": [
        "# Maximum execution time in seconds\n",
        "my_options = {'max_execution_time': 30}\n",
        "\n",
        "# Classical and quantum estimators\n",
        "estimator_S = EstimatorV2(backend=backend_S)\n",
        "estimator_Q = EstimatorV2(backend=backend_Q, options=my_options)\n",
        "\n",
        "# Classical and quantum samplers\n",
        "sampler_S = SamplerV2(backend=backend_S)\n",
        "sampler_Q = SamplerV2(backend=backend_Q, options=my_options)"
      ]
    },
    {
      "cell_type": "markdown",
      "metadata": {
        "id": "NviLltBRwQxr"
      },
      "source": [
        "### **Random numbers**\n",
        "The generation of random numbers using a classical simulator of a quantum machine was conducted during the second session. Now, let's generate \"true random numbers\"! To achieve this, we define a 3-qubit circuit that prepares each of them in the superposition $\\tfrac{1}{\\sqrt2}(|0\\rangle+|1\\rangle)$ and measures them in the computational basis ${|0\\rangle,|1\\rangle}$. This setup ensures that the measurement outcomes will be 0 or 1 with equal probabilities of 0.5.\n",
        "#### <font color=teal> **Question 1**: Study the definition of the circuit with care </font>\n",
        "\n",
        "**Answer:** It creates a barrier of Hadamard gates, which prepares each qubit in an equal superposition of $|0\\rangle$ and $|1\\rangle$. The circuit assigns three qubits to each random number to be generated, meaning the random numbers range between $0$ and $7$."
      ]
    },
    {
      "cell_type": "code",
      "execution_count": 100,
      "metadata": {
        "id": "H4BvHI9hmaal"
      },
      "outputs": [],
      "source": [
        "# How many random numbers will be produced in a single shot:\n",
        "Nnumbers = 30  # Must be smaller than [127 qubits/3]=42\n",
        "# Prepare the input circuit\n",
        "QRNG = QuantumCircuit(3*Nnumbers) # Three qubits per number\n",
        "QRNG.h(range(3*Nnumbers)) # Apply Hadamard gate to each of the qubits\n",
        "QRNG.measure_all() # Measure all qubits\n",
        "QRNG = transpile(QRNG, backend=backend_Q) # Adapt circuit to architecture of quantum machine"
      ]
    },
    {
      "cell_type": "code",
      "execution_count": 34,
      "metadata": {
        "id": "LlT7N-0joUq4"
      },
      "outputs": [
        {
          "name": "stderr",
          "output_type": "stream",
          "text": [
            "c:\\Users\\zapat\\Escritorio\\CODE\\PIE_Compu_Cuantica\\venv\\Lib\\site-packages\\qiskit_ibm_runtime\\qiskit_runtime_service.py:879: UserWarning: Your current pending jobs are estimated to consume 649.5556236231932 quantum seconds, but you only have 600 quantum seconds left in your monthly quota; therefore, it is likely this job will be canceled\n",
            "  warnings.warn(warning_message)\n"
          ]
        }
      ],
      "source": [
        "# Execute the circuit directly on a quantum computer\n",
        "job_qrng = sampler_Q.run([QRNG], shots=1)\n",
        "\n",
        "# Save job identification code for later\n",
        "df.qrng_id = job_qrng.job_id()\n",
        "df.to_csv('session.txt', index=False)"
      ]
    },
    {
      "cell_type": "code",
      "execution_count": 81,
      "metadata": {},
      "outputs": [
        {
          "data": {
            "text/plain": [
              "<JobStatus.DONE: 'job has successfully run'>"
            ]
          },
          "execution_count": 81,
          "metadata": {},
          "output_type": "execute_result"
        }
      ],
      "source": [
        "# The following cell retrieves information about the job\n",
        "job_qrng = service.job(df.qrng_id[0])\n",
        "job_qrng.status() "
      ]
    },
    {
      "cell_type": "code",
      "execution_count": 82,
      "metadata": {
        "id": "BaIUIfbIphW2"
      },
      "outputs": [],
      "source": [
        "# The next statement can put your session on hold until the job runs and returns\n",
        "result_qrng = job_qrng.result()"
      ]
    },
    {
      "cell_type": "markdown",
      "metadata": {
        "id": "RKo5Y8tDxQcu"
      },
      "source": [
        "#### <font color=teal> **Question 2**:  Comment on your results </font>\n",
        "\n",
        "**Answer:** We obtained the following result from the IBM Quantum computer run in the lab with UCM tokens:\n",
        "\n",
        "``[{236732400872330227231122054: 1.0}]``\n",
        "\n",
        "After depuration we obtain the following list of numbers\n",
        "\n",
        "``[6, 0, 2, 1, 6, 4, 4, 5, 2, 2, 3, 3, 4, 2, 2, 3, 2, 1, 2, 5, 2, 2, 2, 0, 2, 2, 7, 1, 4, 1]``\n",
        "\n",
        "that we can plot in a *histogram*."
      ]
    },
    {
      "cell_type": "code",
      "execution_count": 7,
      "metadata": {
        "colab": {
          "base_uri": "https://localhost:8080/",
          "height": 430
        },
        "id": "BCLqmmzYwbHh",
        "outputId": "7def0ebd-f0af-4cac-be67-a098d8333686"
      },
      "outputs": [
        {
          "data": {
            "image/png": "[encoded data removed]",
            "text/plain": [
              "<Figure size 640x480 with 1 Axes>"
            ]
          },
          "metadata": {},
          "output_type": "display_data"
        }
      ],
      "source": [
        "RandomNumbers = [6, 0, 2, 1, 6, 4, 4, 5, 2, 2, 3, 3, 4, 2, 2, 3, 2, 1, 2, 5, 2, 2, 2, 0, 2, 2, 7, 1, 4, 1]\n",
        "plt.hist(RandomNumbers, bins=range(9), align='left', edgecolor='black', linewidth=1)\n",
        "plt.show()"
      ]
    },
    {
      "cell_type": "markdown",
      "metadata": {},
      "source": [
        "We can likewise retrieve our own results run at home."
      ]
    },
    {
      "cell_type": "code",
      "execution_count": 134,
      "metadata": {},
      "outputs": [
        {
          "data": {
            "image/png": "[encoded data removed]",
            "text/plain": [
              "<Figure size 640x480 with 1 Axes>"
            ]
          },
          "metadata": {},
          "output_type": "display_data"
        }
      ],
      "source": [
        "bits, = result_qrng[0].data.meas.get_counts()\n",
        "numbers = [bits[i:i+3] for i in range(0, 3*Nnumbers, 3)]\n",
        "decimal_numbers = [int(n, 2) for n in numbers]\n",
        "plt.hist(decimal_numbers, bins=range(9), align='left', edgecolor='black', linewidth=1)\n",
        "plt.show()"
      ]
    },
    {
      "cell_type": "markdown",
      "metadata": {
        "id": "5MWbGp6pz7Mb"
      },
      "source": [
        "### **Deutsch's algorithm**\n",
        "\n",
        "To encode the action of a Boolean fuction, the Deutsch's algorithm uses the following operation over two qubits\n",
        "\n",
        "$$\n",
        "|x\\rangle|y\\rangle\\to |x\\rangle|y\\oplus f(x)\\rangle\n",
        "$$\n",
        "\n",
        "where $\\oplus$ denotes the binary addition (i.e. the addition mod. 2).\n",
        "\n",
        "#### <font color=teal> **Homework 1** (to do later after the lab on pen and paper): <br>  Prove that this is a unitary operation. </font>\n",
        "\n",
        "**Answer:** It is clear that the quantum oracle preserves the norm of the basis vectors and is invertible, therefore it is unitary. If we take $(x,y)\\in\\{0,1\\}^2, f(x)\\in\\{0,1\\}$, we have that $y\\oplus f(x)\\in\\{0,1\\}$ &mdash; in other words, $|x\\rangle|y\\oplus f(x)\\rangle$ is a valid (basis) ket of the 4D Hilbert space. Thus:\n",
        "\n",
        "$$\n",
        "(\\langle x|\\langle y|)U_f^\\dagger U_f(|x\\rangle|y\\rangle) =(\\langle x|\\langle y\\oplus f(x)|)(|x\\rangle|y\\oplus f(x)\\rangle) = \\langle x|x\\rangle\\langle y\\oplus f(x)|y\\oplus f(x)\\rangle = 1\n",
        "$$\n",
        "\n",
        "Alternatively, given there exist a finite number of Boolean functions, we can calculate the oracle matrix for each $f$. If we place the control qubit $|x\\rangle$ first, as we'll later do in the circuits (so $|y,x\\rangle\\rightarrow|y\\oplus f(x), x\\rangle$), the representations of $U_f$ are\n",
        "\n",
        "$$\n",
        "\\begin{align}\n",
        "f(x)&=0:\\quad\n",
        "U_f = \\begin{pmatrix}\n",
        "1 & 0 & 0 & 0 \\\\\n",
        "0 & 1 & 0 & 0 \\\\\n",
        "0 & 0 & 1 & 0 \\\\\n",
        "0 & 0 & 0 & 1\n",
        "\\end{pmatrix},\n",
        "&\n",
        "f(x)&=1:\\quad\n",
        "U_f = \\begin{pmatrix}\n",
        "0 & 0 & 1 & 0 \\\\\n",
        "0 & 0 & 0 & 1 \\\\\n",
        "1 & 0 & 0 & 0 \\\\\n",
        "0 & 1 & 0 & 0\n",
        "\\end{pmatrix}\n",
        "\\end{align}\n",
        "$$\n",
        "\n",
        "$$\n",
        "\\begin{align}\n",
        "f(x)&=x: \\quad\n",
        "U_f = \\begin{pmatrix}\n",
        "1 & 0 & 0 & 0 \\\\\n",
        "0 & 0 & 0 & 1 \\\\\n",
        "0 & 0 & 1 & 0 \\\\\n",
        "0 & 1 & 0 & 0\n",
        "\\end{pmatrix},\n",
        "&\n",
        "f(x)&=\\neg x:\\quad\n",
        "U_f = \\begin{pmatrix}\n",
        "0 & 0 & 1 & 0 \\\\\n",
        "0 & 1 & 0 & 0 \\\\\n",
        "1 & 0 & 0 & 0 \\\\\n",
        "0 & 0 & 0 & 1\n",
        "\\end{pmatrix}\n",
        "\\end{align}\n",
        "$$\n",
        "\n",
        "These matrices all represent permutations, which are unitary operations."
      ]
    },
    {
      "cell_type": "markdown",
      "metadata": {
        "id": "j3lQ8jNszwA-"
      },
      "source": [
        "#### <font color=teal> **Question 2**: Complete the following cells to create quantum circuits for Oracle_f that decides whether $f$ is (or not) constant using the classical method with two evaluations </font>\n",
        "\n",
        "**Answer:** To evaluate $f$ using the oracle we can measure the rightmost qubit in the following two states:\n",
        "\n",
        "$$\n",
        "U_f|0\\rangle|0\\rangle = |0\\rangle|f(0)\\rangle\n",
        "$$\n",
        "\n",
        "$$\n",
        "U_f|1\\rangle|0\\rangle = |1\\rangle|f(1)\\rangle\n",
        "$$"
      ]
    },
    {
      "cell_type": "code",
      "execution_count": 9,
      "metadata": {
        "colab": {
          "base_uri": "https://localhost:8080/",
          "height": 255
        },
        "id": "hm3FHENw0ev3",
        "outputId": "9744fc8c-a993-42b8-9ec0-67868a33949e"
      },
      "outputs": [
        {
          "data": {
            "image/png": "[encoded data removed]",
            "text/plain": [
              "<Figure size 370.906x284.278 with 1 Axes>"
            ]
          },
          "execution_count": 9,
          "metadata": {},
          "output_type": "execute_result"
        }
      ],
      "source": [
        "Oracle_f = Operator([[0,0,1,0],[0,1,0,0],[1,0,0,0],[0,0,0,1]])\n",
        "Oracle_g = Operator([[0,0,1,0],[0,0,0,1],[1,0,0,0],[0,1,0,0]])\n",
        "\n",
        "# First evaluation\n",
        "Check_f0 = QuantumCircuit(2,1)\n",
        "Check_f0.unitary(Oracle_f, [0, 1], label='Oracle_f')\n",
        "Check_f0.measure(1, 0)\n",
        "Check_f0.draw(output='mpl')"
      ]
    },
    {
      "cell_type": "code",
      "execution_count": 123,
      "metadata": {
        "colab": {
          "base_uri": "https://localhost:8080/",
          "height": 255
        },
        "id": "6Aapgedm4DBL",
        "outputId": "be43994a-beaf-4fe4-b23e-eac6eb447b8d"
      },
      "outputs": [
        {
          "data": {
            "image/png": "[encoded data removed]",
            "text/plain": [
              "<Figure size 454.517x284.278 with 1 Axes>"
            ]
          },
          "execution_count": 123,
          "metadata": {},
          "output_type": "execute_result"
        }
      ],
      "source": [
        "# Second evaluation\n",
        "Check_f1 = QuantumCircuit(2,1)\n",
        "Check_f1.x(0)\n",
        "Check_f1.unitary(Oracle_f, [0, 1], label='Oracle_f')\n",
        "Check_f1.measure(1,0)\n",
        "Check_f1.draw(output='mpl')"
      ]
    },
    {
      "cell_type": "code",
      "execution_count": 183,
      "metadata": {
        "id": "25CA7Xqc6qIT"
      },
      "outputs": [],
      "source": [
        "# Run both evaluations\n",
        "job_clf = sampler_S.run([Check_f0, Check_f1], shots=1)\n",
        "result_clf = job_clf.result()"
      ]
    },
    {
      "cell_type": "markdown",
      "metadata": {
        "id": "QcRLU0jp4L64"
      },
      "source": [
        "#### <font color=teal> **Question 3**: By printing \"result_clf.quasi_dists\", explain why the following cell gives the calculated result for $f(0)$ and $f(1)$. </font>\n",
        "\n",
        "**Answer:** The function $f(x)$ appears to be $\\neg x$, and therefore a balanced function. Indeed, if we compare the `Oracle_f` with the matrix we calculated above for $f(x)=\\neg x$, they coincide. \n",
        "\n",
        "N.B.: For my calculations at home I used the `SamplerV2` class which has slightly different methods for retrieving results as compared to `Sampler`."
      ]
    },
    {
      "cell_type": "code",
      "execution_count": 184,
      "metadata": {
        "colab": {
          "base_uri": "https://localhost:8080/"
        },
        "id": "8WNUsIZ35OmL",
        "outputId": "f6a4d3b5-99d4-4035-f959-56d75707b6e5"
      },
      "outputs": [
        {
          "name": "stdout",
          "output_type": "stream",
          "text": [
            "f(0) = 1\n",
            "f(1) = 0\n"
          ]
        }
      ],
      "source": [
        "# Print the measurement results\n",
        "print(f'f(0) = {int(*result_clf[0].data.c.get_counts())}')\n",
        "print(f'f(1) = {int(*result_clf[1].data.c.get_counts())}')"
      ]
    },
    {
      "cell_type": "markdown",
      "metadata": {
        "id": "9A5zmSK44_8_"
      },
      "source": [
        "#### <font color=teal> **Question 4**: Complete the following cells to create quantum circuits for Oracle_g that solve the problem of whether $g$ is constant using the classical method of two evaluations </font>\n",
        "\n",
        "**Answer:** We may repeat the previous process. We find that $g(x)=1$, therefore $g$ is a constant function."
      ]
    },
    {
      "cell_type": "code",
      "execution_count": 186,
      "metadata": {
        "id": "tazRnCJTDh8D"
      },
      "outputs": [
        {
          "name": "stdout",
          "output_type": "stream",
          "text": [
            "g(0) = 1\n",
            "g(1) = 1\n"
          ]
        }
      ],
      "source": [
        "# First evaluation\n",
        "Check_g0 = QuantumCircuit(2,1)\n",
        "Check_g0.unitary(Oracle_g, [0, 1], label='Oracle_g')\n",
        "Check_g0.measure(1, 0)\n",
        "\n",
        "# Second evaluation\n",
        "Check_g1 = QuantumCircuit(2,1)\n",
        "Check_g1.x(0)\n",
        "Check_g1.unitary(Oracle_g, [0, 1], label='Oracle_g')\n",
        "Check_g1.measure(1,0)\n",
        "\n",
        "# Run both evaluations\n",
        "job_clg = sampler_S.run([Check_g0, Check_g1], shots=1)\n",
        "result_clg = job_clg.result()\n",
        "\n",
        "# Print the measurement results\n",
        "print(f'g(0) = {int(*result_clg[0].data.c.get_counts())}')\n",
        "print(f'g(1) = {int(*result_clg[1].data.c.get_counts())}')"
      ]
    },
    {
      "cell_type": "markdown",
      "metadata": {
        "id": "7942KKio3T0t"
      },
      "source": [
        "The idea of Deutsch's algorithm is based on the use of quantum superposition to attempt a simultaneous evaluation and comparison of $f(0)$ and $f(1)$ with a single action of the quantum oracle.\n",
        "\n",
        "If $f(0)=f(1)$,\n",
        "\n",
        "$$\n",
        "U_f|+\\rangle|-\\rangle=\\frac{1}{2}\\big[|0\\rangle|f(0)\\rangle-|0\\rangle|1\\oplus f(0)\\rangle+|1\\rangle|f(0)\\rangle-|1\\rangle|1\\oplus f(0)\\rangle\\big]$$\n",
        "$$=\\frac{1}{2}\\big[\\big(|0\\rangle+|1\\rangle\\big)|f(0)\\rangle-\\big(|0\\rangle+|1\\rangle\\big)|1\\oplus f(0)\\rangle\\big]=|+\\rangle \\left[\\frac{|f(0)\\rangle-|1\\oplus f(0)\\rangle}{\\sqrt{2}}\\right]\n",
        "$$\n",
        "\n",
        "#### <font color=teal> **Homework question 5**: Prove (after the lab, on pen and paper): </font>\n",
        "<font color=teal> the alternative case, that\n",
        "if $f(0)\\neq f(1)$, the final state becomes: </font>\n",
        "    \n",
        "$$\n",
        "|-\\rangle \\left[\\frac{|f(0)\\rangle-|f(1)\\rangle}{\\sqrt{2}}\\right].\n",
        "$$"
      ]
    },
    {
      "cell_type": "markdown",
      "metadata": {
        "id": "pXLckwSO5QMV"
      },
      "source": [
        "**Answer:** If $f(0)\\neq f(1)$, then $f(0)\\oplus 1=f(1)$ and $f(1)\\oplus 1=f(0)$, therefore\n",
        "$$\n",
        "|+\\rangle|-\\rangle=\\frac{1}{2}\\big(|0\\rangle|0\\rangle-|0\\rangle|1\\rangle+|1\\rangle|0\\rangle-|1\\rangle|1\\rangle\\big)\\to $$\n",
        "$$\\frac{1}{2}\\big[|0\\rangle|f(0)\\rangle-|0\\rangle|1\\oplus f(0)\\rangle+|1\\rangle|f(1)\\rangle-|1\\rangle|1\\oplus f(1)\\rangle\\big] = $$\n",
        "$$ = \\frac{1}{2}\\big[|0\\rangle|f(0)\\rangle-|0\\rangle|f(1)\\rangle+|1\\rangle|f(1)\\rangle-|1\\rangle|f(0)\\rangle\\big] = $$\n",
        "$$ = \\frac{1}{2}\\big[|0\\rangle-|1\\rangle\\big]\\big[|f(0)\\rangle-|f(1)\\rangle\\big] =|-\\rangle \\left[\\frac{|f(0)\\rangle-|f(1)\\rangle}{\\sqrt{2}}\\right]$$\n",
        "\n",
        "\n",
        "After applying the oracle to $|+\\rangle|-\\rangle$, we may apply a Hadamard gate to the leftmost qubit and then measure it. This way we obtain $0$ if $f$ is constant and $1$ if $f$ is balanced."
      ]
    },
    {
      "cell_type": "markdown",
      "metadata": {
        "id": "uYUGDFCG6-nt"
      },
      "source": [
        "#### <font color=teal> **Question 6**: Define a quantum circuit to implement Deutsch's algorithm with the function $f$ and another with the function $g$ </font>\n",
        "\n",
        "**Answer:**"
      ]
    },
    {
      "cell_type": "markdown",
      "metadata": {
        "id": "zxr2rLZh7HHQ"
      },
      "source": [
        "For the function $f$:"
      ]
    },
    {
      "cell_type": "code",
      "execution_count": 10,
      "metadata": {
        "colab": {
          "base_uri": "https://localhost:8080/",
          "height": 255
        },
        "id": "J0qz65l67GJg",
        "outputId": "07b741c7-d033-47ea-9dfd-77b1cf494f25"
      },
      "outputs": [
        {
          "data": {
            "image/png": "[encoded data removed]",
            "text/plain": [
              "<Figure size 621.739x284.278 with 1 Axes>"
            ]
          },
          "execution_count": 10,
          "metadata": {},
          "output_type": "execute_result"
        }
      ],
      "source": [
        "deutsch_f = QuantumCircuit(2,1)\n",
        "deutsch_f.x(1)\n",
        "deutsch_f.h([0, 1])\n",
        "deutsch_f.unitary(Oracle_f, [0, 1], label='Oracle_f')\n",
        "deutsch_f.h(0)\n",
        "deutsch_f.measure(0,0)\n",
        "deutsch_f.draw(output='mpl')"
      ]
    },
    {
      "cell_type": "markdown",
      "metadata": {
        "id": "e_xPtSCl7Kef"
      },
      "source": [
        "And for the function $g$ we just change the oracle:"
      ]
    },
    {
      "cell_type": "code",
      "execution_count": 11,
      "metadata": {
        "colab": {
          "base_uri": "https://localhost:8080/",
          "height": 255
        },
        "id": "F_eIzSdG7Twy",
        "outputId": "05bccbc6-7396-4176-a665-8445cb888613"
      },
      "outputs": [
        {
          "data": {
            "image/png": "[encoded data removed]",
            "text/plain": [
              "<Figure size 621.739x284.278 with 1 Axes>"
            ]
          },
          "execution_count": 11,
          "metadata": {},
          "output_type": "execute_result"
        }
      ],
      "source": [
        "deutsch_g = QuantumCircuit(2,1)\n",
        "deutsch_g.x(1)\n",
        "deutsch_g.h([0, 1])\n",
        "deutsch_g.unitary(Oracle_g, [0, 1], label='Oracle_g')\n",
        "deutsch_g.h(0)\n",
        "deutsch_g.measure(0,0)\n",
        "deutsch_g.draw(output='mpl')"
      ]
    },
    {
      "cell_type": "code",
      "execution_count": 26,
      "metadata": {},
      "outputs": [
        {
          "name": "stdout",
          "output_type": "stream",
          "text": [
            "f is balanced\n",
            "g is constant\n"
          ]
        }
      ],
      "source": [
        "# Execute the circuit\n",
        "job_Deutsch_S = sampler_S.run([deutsch_f, deutsch_g], shots=1)\n",
        "result_Deutsch_S = job_Deutsch_S.result()\n",
        "\n",
        "# Print the measurement results\n",
        "if int(*result_Deutsch_S[0].data.c.get_counts()) == 0:\n",
        "    print('f is constant')\n",
        "else:\n",
        "    print('f is balanced')\n",
        "if int(*result_Deutsch_S[1].data.c.get_counts()) == 0:\n",
        "    print('g is constant')\n",
        "else:\n",
        "    print('g is balanced')"
      ]
    },
    {
      "cell_type": "markdown",
      "metadata": {
        "id": "FQjs_U3t64AT"
      },
      "source": [
        "#### <font color=teal> **Question 7**: Does the result of your quantum computation using Deutsch's algorithm agree with the previous classical result?"
      ]
    },
    {
      "cell_type": "markdown",
      "metadata": {
        "id": "8x30cau49LXg"
      },
      "source": [
        "**Answer:** The classical result is that $f$ is balanced and $g$ is constant. After applying Deutsch's algorithm to both functions, we obtained the same result &mdash; that is, that $f$ is balanced and $g$ is constant. Our run in the lab with UCM tokens yielded the same result."
      ]
    },
    {
      "cell_type": "code",
      "execution_count": 13,
      "metadata": {
        "id": "mzm4y0pR2R_M"
      },
      "outputs": [
        {
          "name": "stderr",
          "output_type": "stream",
          "text": [
            "c:\\Users\\zapat\\Escritorio\\CODE\\PIE_Compu_Cuantica\\venv\\Lib\\site-packages\\qiskit_ibm_runtime\\qiskit_runtime_service.py:879: UserWarning: Your current pending jobs are estimated to consume 649.5556236231932 quantum seconds, but you only have 588 quantum seconds left in your monthly quota; therefore, it is likely this job will be canceled\n",
            "  warnings.warn(warning_message)\n"
          ]
        }
      ],
      "source": [
        "# Transpile circuits to backend architecture\n",
        "deutsch_f_t = transpile(deutsch_f, backend=backend_Q)\n",
        "deutsch_g_t = transpile(deutsch_g, backend=backend_Q)\n",
        "\n",
        "# Execute the circuit\n",
        "job_Deutsch_Q = sampler_Q.run([deutsch_f_t, deutsch_g_t], shots=3)\n",
        "\n",
        "# Save job identification code for later\n",
        "df.deutsch_id = job_Deutsch_Q.job_id()\n",
        "df.to_csv('session.csv', index=False)"
      ]
    },
    {
      "cell_type": "code",
      "execution_count": 14,
      "metadata": {},
      "outputs": [
        {
          "data": {
            "text/plain": [
              "<JobStatus.QUEUED: 'job is queued'>"
            ]
          },
          "execution_count": 14,
          "metadata": {},
          "output_type": "execute_result"
        }
      ],
      "source": [
        "# The following cell retrieves information about the job\n",
        "job_Deutsch_Q = service.job(df.deutsch_id[0])\n",
        "job_Deutsch_Q.status() "
      ]
    },
    {
      "cell_type": "code",
      "execution_count": 6,
      "metadata": {
        "colab": {
          "base_uri": "https://localhost:8080/"
        },
        "id": "XdHTBQM9nNxO",
        "outputId": "23a124f1-32c2-4e78-99ac-532ca75ed282"
      },
      "outputs": [
        {
          "name": "stdout",
          "output_type": "stream",
          "text": [
            "f is balanced\n",
            "g is balanced\n"
          ]
        }
      ],
      "source": [
        "# The next statement can put your session on hold until the job runs and returns\n",
        "result_Deutsch_Q = job_Deutsch_Q.result()\n",
        "ans_f = result_Deutsch_Q[0].data.c.get_counts()\n",
        "ans_g = result_Deutsch_Q[1].data.c.get_counts()\n",
        "\n",
        "# Print the measurement results\n",
        "if max(ans_f, key=ans_f.get) == 0:\n",
        "    print('f is constant')\n",
        "else:\n",
        "    print('f is balanced')\n",
        "if max(ans_g, key=ans_g.get) == 0:\n",
        "    print('g is constant')\n",
        "else:\n",
        "    print('g is balanced')"
      ]
    },
    {
      "cell_type": "markdown",
      "metadata": {
        "id": "F_C7qdhHAMZk"
      },
      "source": [
        "### **Experimental measurement of a Bell inequality <br> (CHSH combination of correlators)**\n",
        "\n",
        "If $\\{A_1, A_2\\}$ and $\\{B_1,B_2\\}$ are two pairs of observables (with dichotomic/binary outcome) of two spatially separated systems, the expected values of their products $\\langle A_i B_j \\rangle$ according to any local hidden variable model (that is, an attempt at trying to explain away quantum features with additional classical mechanics variables) satisfy the classical CHSH inequality\n",
        "\n",
        "$$\n",
        "|\\langle A_1 B_1\\rangle +\\langle A_1 B_2\\rangle + \\langle A_2 B_1\\rangle - \\langle A_2 B_2\\rangle|\\leq 2 .\n",
        "$$\n",
        "\n",
        "Quantum theory, on the contrary, predicts that this inequality is violated for a suitable choice of observables, obtaining the maximum violation, in the case of two qubits, when\n",
        "\n",
        "$$\n",
        "A_1=X,\\quad A_2=Y, \\quad B_1=\\frac{-(X+Y)}{\\sqrt{2}}, \\quad B_2=\\frac{-(X-Y)}{\\sqrt{2}}\n",
        "$$\n",
        "or rotationally equivalent configurations. Here $X$ and $Y$ denote the $\\sigma_x$ and $\\sigma_y$ Pauli matrices."
      ]
    },
    {
      "cell_type": "markdown",
      "metadata": {
        "id": "zw164ZgFADlj"
      },
      "source": [
        "#### <font color=teal> **Question 2**: Using this command, define the four product observables that appear in the CHSH inequality: $A_1B_1$, $A_2B_1$, $A_1B_2$, and $A_2B_2$: </font>\n",
        "\n",
        "**Answer:**"
      ]
    },
    {
      "cell_type": "code",
      "execution_count": 28,
      "metadata": {
        "id": "tYY18oR0u4kH"
      },
      "outputs": [],
      "source": [
        "# Define pairs of observables for maximum violation of the CHSH innequality\n",
        "A1B1aux = SparsePauliOp.from_list([('XX', -1/np.sqrt(2)), ('XY', -1/np.sqrt(2))])\n",
        "A1B2aux = SparsePauliOp.from_list([('XX', -1/np.sqrt(2)), ('XY', +1/np.sqrt(2))])\n",
        "A2B1aux = SparsePauliOp.from_list([('YX', -1/np.sqrt(2)), ('YY', -1/np.sqrt(2))])\n",
        "A2B2aux = SparsePauliOp.from_list([('YX', -1/np.sqrt(2)), ('YY', +1/np.sqrt(2))])\n",
        "Obsaux = [A1B1aux, A1B2aux, A2B1aux, A2B2aux]\n",
        "n_remaining_qubits = 125\n",
        "I125 = SparsePauliOp('I' * n_remaining_qubits)\n",
        "A1B1 = A1B1aux.tensor(I125)\n",
        "A1B2 = A1B2aux.tensor(I125)\n",
        "A2B1 = A2B1aux.tensor(I125)\n",
        "A2B2 = A2B2aux.tensor(I125)\n",
        "Obs = [A1B1, A1B2, A2B1, A2B2]"
      ]
    },
    {
      "cell_type": "markdown",
      "metadata": {
        "id": "qMyN68gNAxc9"
      },
      "source": [
        "#### <font color=teal> **Question 1**:  Define a circuit that prepares the \"singlet state\" of two qubits $|\\Psi^-\\rangle=\\tfrac{1}{\\sqrt2}(|01\\rangle-|10\\rangle)$.</font>\n",
        "\n",
        "**Answer:** The following circuit specifically prepares the state $\\tfrac{i}{\\sqrt2}(|01\\rangle-|10\\rangle)$, which is physically equivalent to the requested state."
      ]
    },
    {
      "cell_type": "code",
      "execution_count": 29,
      "metadata": {
        "colab": {
          "base_uri": "https://localhost:8080/",
          "height": 191
        },
        "id": "rt6sYaCKsyh-",
        "outputId": "4500caaa-ce98-4300-9aa6-c0cd05ea124f"
      },
      "outputs": [
        {
          "data": {
            "image/png": "[encoded data removed]",
            "text/plain": [
              "<Figure size 370.906x200.667 with 1 Axes>"
            ]
          },
          "execution_count": 29,
          "metadata": {},
          "output_type": "execute_result"
        }
      ],
      "source": [
        "# Prepare the input circuit:\n",
        "chsh_circuit = QuantumCircuit(2)\n",
        "chsh_circuit.h(0) # Hadamard on the first qubit\n",
        "chsh_circuit.cx(0,1) # NOT controlled to the first qubit\n",
        "chsh_circuit.y([0]) # Y-Pauli gate to the first qubit\n",
        "chsh_circuit.draw(output='mpl')"
      ]
    },
    {
      "cell_type": "markdown",
      "metadata": {
        "id": "LdiTNVFVBCLc"
      },
      "source": [
        "#### <font color=teal> **Question 3**: Calculate the simulated value obtained for the CHSH inequality jointly with its error </font>"
      ]
    },
    {
      "cell_type": "markdown",
      "metadata": {
        "id": "bvr-WKGBBC2I"
      },
      "source": [
        "**Answer:** The code we ran in the lab with UCM tokens yielded:\n",
        "\n",
        "``The simulated result is 2.81824 + 0.04:``\n",
        "\n",
        "``does it exceed 2 with sufficient statistical certainty?``\n"
      ]
    },
    {
      "cell_type": "code",
      "execution_count": 30,
      "metadata": {
        "colab": {
          "base_uri": "https://localhost:8080/"
        },
        "id": "6r4-L6RAvZCM",
        "outputId": "54f89461-0949-4243-d050-ae6acd760273"
      },
      "outputs": [
        {
          "name": "stdout",
          "output_type": "stream",
          "text": [
            "Simulated expectation values for the four correlators:\n",
            "['0.708 ± 0.011', '0.706 ± 0.011', '0.689 ± 0.011', '-0.725 ± 0.011']\n"
          ]
        }
      ],
      "source": [
        "# Execute the circuit\n",
        "job_CHSH_S = estimator_S.run([(chsh_circuit, Obsaux)])\n",
        "result_S = job_CHSH_S.result()\n",
        "\n",
        "# Statistical results\n",
        "values_S = result_S[0].data.evs\n",
        "Standard_errors_S = result_S[0].data.stds\n",
        "\n",
        "# Print simulated expectation values\n",
        "print('Simulated expectation values for the four correlators:')\n",
        "print([f'{v:.3f} ± {s:.3f}' for v, s in zip(values_S, Standard_errors_S)])"
      ]
    },
    {
      "cell_type": "code",
      "execution_count": 31,
      "metadata": {
        "colab": {
          "base_uri": "https://localhost:8080/"
        },
        "id": "DwEajjiX-Zwa",
        "outputId": "7239247f-8a8f-4d2d-992c-cb3ada1c9be3"
      },
      "outputs": [
        {
          "name": "stdout",
          "output_type": "stream",
          "text": [
            "\n",
            "The simulated result is 2.828 ± 0.044:\n",
            "does it exceed 2 with sufficient statistical certainty?\n",
            "\n"
          ]
        }
      ],
      "source": [
        "# CHSH value\n",
        "CHSH_mean_S = abs(values_S[0] + values_S[1] + values_S[2] - values_S[3])\n",
        "CHSH_uncertainty_S = np.sum(Standard_errors_S)\n",
        "print(f'''\n",
        "The simulated result is {CHSH_mean_S:.3f} ± {CHSH_uncertainty_S:.3f}:\n",
        "does it exceed 2 with sufficient statistical certainty?\n",
        "''')"
      ]
    },
    {
      "cell_type": "markdown",
      "metadata": {
        "id": "OVnxU1wSBSW7"
      },
      "source": [
        "####  <font color=teal> **Question 4**: Compute, with a hand calculator or simple python commands, the experimental value obtained for the CHSH inequality jointly with its error from the quantum data obtained. </font>"
      ]
    },
    {
      "cell_type": "markdown",
      "metadata": {
        "id": "QSrRH28C3Aku"
      },
      "source": [
        "**Answer:** The code we ran in the lab with UCM tokens yielded:\n",
        "\n",
        "``The simulated result is 2.60215 + 0.41467:``\n",
        "\n",
        "``does it exceed 2 with sufficient statistical certainty?``"
      ]
    },
    {
      "cell_type": "code",
      "execution_count": 266,
      "metadata": {
        "id": "_TEOOv8UCkHY"
      },
      "outputs": [
        {
          "name": "stderr",
          "output_type": "stream",
          "text": [
            "c:\\Users\\zapat\\Escritorio\\CODE\\PIE_Compu_Cuantica\\venv\\Lib\\site-packages\\qiskit_ibm_runtime\\qiskit_runtime_service.py:879: UserWarning: Your current pending jobs are estimated to consume 1272.6590615597552 quantum seconds, but you only have 598 quantum seconds left in your monthly quota; therefore, it is likely this job will be canceled\n",
            "  warnings.warn(warning_message)\n"
          ]
        }
      ],
      "source": [
        "# Transpile circuit to backend architecture\n",
        "chsh_circuit_t = transpile(chsh_circuit, backend=backend_Q)\n",
        "\n",
        "# Execute the circuit\n",
        "job_CHSH_Q = estimator_Q.run([(chsh_circuit_t, Obs)])\n",
        "\n",
        "# Save job identification code for later\n",
        "df.chsh_id = job_CHSH_Q.job_id()\n",
        "df.to_csv('session.csv', index=False)"
      ]
    },
    {
      "cell_type": "code",
      "execution_count": 32,
      "metadata": {},
      "outputs": [
        {
          "data": {
            "text/plain": [
              "<JobStatus.DONE: 'job has successfully run'>"
            ]
          },
          "execution_count": 32,
          "metadata": {},
          "output_type": "execute_result"
        }
      ],
      "source": [
        "# The following cell retrieves information about the job\n",
        "job_CHSH_Q = service.job(df.chsh_id[0])\n",
        "job_CHSH_Q.status() "
      ]
    },
    {
      "cell_type": "code",
      "execution_count": 25,
      "metadata": {
        "colab": {
          "base_uri": "https://localhost:8080/"
        },
        "id": "XYfxH-wZwNQ2",
        "outputId": "84771a51-ef5d-487d-c6a3-1b207bb67a61"
      },
      "outputs": [
        {
          "name": "stdout",
          "output_type": "stream",
          "text": [
            "Simulated expectation values for the four correlators:\n",
            "['-0.028 ± 0.026', '-0.028 ± 0.026', '0.054 ± 0.034', '0.026 ± 0.034']\n"
          ]
        }
      ],
      "source": [
        "# The next statement can put your session on hold until the job runs and returns\n",
        "result_Q = job_CHSH_Q.result()\n",
        "\n",
        "# Statistical results\n",
        "values_Q = result_Q[0].data.evs\n",
        "Standard_errors_Q = result_Q[0].data.stds\n",
        "\n",
        "# Print simulated expectation values\n",
        "print('Simulated expectation values for the four correlators:')\n",
        "print([f'{v:.3f} ± {s:.3f}' for v, s in zip(values_Q, Standard_errors_Q)])"
      ]
    },
    {
      "cell_type": "code",
      "execution_count": 22,
      "metadata": {
        "colab": {
          "base_uri": "https://localhost:8080/"
        },
        "id": "1Zhaa9PIDLcz",
        "outputId": "1c1239b7-37a6-468b-d9d4-5cbfff7cd817"
      },
      "outputs": [
        {
          "name": "stdout",
          "output_type": "stream",
          "text": [
            "\n",
            "The simulated result is 0.029 ± 0.119:\n",
            "does it exceed 2 with sufficient statistical certainty?\n",
            "\n"
          ]
        }
      ],
      "source": [
        "# CHSH value\n",
        "values_Q = result_Q[0].data.evs\n",
        "Standard_errors_Q = result_Q[0].data.stds\n",
        "CHSH_mean_Q = abs(values_Q[0] + values_Q[1] + values_Q[2] - values_Q[3])\n",
        "CHSH_uncertainty_Q = np.sum(Standard_errors_Q)\n",
        "print(f'''\n",
        "The simulated result is {CHSH_mean_Q:.3f} ± {CHSH_uncertainty_Q:.3f}:\n",
        "does it exceed 2 with sufficient statistical certainty?\n",
        "''')"
      ]
    }
  ],
  "metadata": {
    "colab": {
      "provenance": []
    },
    "kernelspec": {
      "display_name": "Python 3",
      "name": "python3"
    },
    "language_info": {
      "codemirror_mode": {
        "name": "ipython",
        "version": 3
      },
      "file_extension": ".py",
      "mimetype": "text/x-python",
      "name": "python",
      "nbconvert_exporter": "python",
      "pygments_lexer": "ipython3",
      "version": "3.11.0"
    }
  },
  "nbformat": 4,
  "nbformat_minor": 0
}
