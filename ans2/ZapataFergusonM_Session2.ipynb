{
  "cells": [
    {
      "cell_type": "markdown",
      "metadata": {
        "id": "AMvpUr59vtFF"
      },
      "source": [
        "## Session 2: An introduction to Qiskit and to IBM's interface"
      ]
    },
    {
      "cell_type": "code",
      "execution_count": 16,
      "metadata": {
        "id": "Ac9C7lgbj5HW"
      },
      "outputs": [],
      "source": [
        "# A classical simulator of quantum circuits\n",
        "from qiskit_aer import AerSimulator\n",
        "\n",
        "# Class QuantumCircuit, with methods (functions) to define quantum circuits\n",
        "from qiskit import QuantumCircuit\n",
        "\n",
        "# A function yielding a histogram with the probabilities of each of the eigenstates taken by the measured qubits\n",
        "from qiskit.visualization import plot_histogram\n",
        "\n",
        "# Class Statvector, to retrieve the state of the circuit\n",
        "from qiskit.quantum_info import Statevector\n",
        "\n",
        "# Class PhaseGate, essential for quantum Fourier transform\n",
        "from qiskit.circuit.library import PhaseGate\n",
        "\n",
        "# Other usual imports\n",
        "import numpy as np\n",
        "import matplotlib.pyplot as plt\n",
        "\n",
        "# Printing precision\n",
        "np.set_printoptions(precision=2)"
      ]
    },
    {
      "cell_type": "markdown",
      "metadata": {
        "id": "N9BMQxZyfvSJ"
      },
      "source": [
        "**Sections 1 and 2 walk us through the basics of Qiskit.**\n",
        "\n",
        "### **3. Executing circuits**"
      ]
    },
    {
      "cell_type": "markdown",
      "metadata": {
        "id": "zSm47aE-0kMi"
      },
      "source": [
        "<font color=teal>**Question:** Why does the histogram have only one bar corresponding to |1>  ? </font>\n",
        "\n",
        "**Answer:** Because the qubit is initialized to the state $|1\\rangle$, it has no component along $|0\\rangle$."
      ]
    },
    {
      "cell_type": "code",
      "execution_count": 17,
      "metadata": {
        "colab": {
          "base_uri": "https://localhost:8080/",
          "height": 449
        },
        "id": "zYYPCsGJlViH",
        "outputId": "37e111d0-713f-4f3b-9742-49f3d3be8ba4"
      },
      "outputs": [
        {
          "data": {
            "image/png": "[encoded data removed]",
            "text/plain": [
              "<Figure size 700x500 with 1 Axes>"
            ]
          },
          "execution_count": 17,
          "metadata": {},
          "output_type": "execute_result"
        }
      ],
      "source": [
        "sim = AerSimulator()\n",
        "qc11 = QuantumCircuit(1,1) # circuit with 1 qubit y 1 classical bit\n",
        "state_1 = [0,1] # this would be |1>, trivially normalized\n",
        "qc11.initialize(state_1,0)\n",
        "qc11.measure(0,0)\n",
        "resultmeasure = sim.run(qc11).result() # Execute the circuite qc11 in the simulator\n",
        "counts = resultmeasure.get_counts() # Results of the measurements\n",
        "plot_histogram(counts) # Plot a histogram with that variable"
      ]
    },
    {
      "cell_type": "markdown",
      "metadata": {
        "id": "JQT5JEtshvrL"
      },
      "source": [
        "#### **4. Generation of truly random numbers with a quantum computer**"
      ]
    },
    {
      "cell_type": "markdown",
      "metadata": {
        "id": "qIwH0tIX0dN0"
      },
      "source": [
        "<font color= teal> Question: Can you write in a piece of paper the initial state in the second line of the next paragraph?</font>\n",
        "\n",
        "**Answer:** Let $|+\\rangle=\\frac{1}{\\sqrt{2}}(|0\\rangle+|1\\rangle)$ in the computational, single-qubit basis &mdash; the initial state is $|+\\rangle\\otimes|+\\rangle\\otimes|+\\rangle\\otimes|+\\rangle$. In the $\\{|n\\rangle\\}_{n=0}^{15}$ basis, where $|n\\rangle$ is the binary representation of n, taking the digits $0$ or $1$ to be qubits $|0\\rangle$, $|1\\rangle$ tensored with each other, $|\\mathrm{init}\\rangle=\\frac{1}{4}\\sum\\limits_{n=0}^{15}|n\\rangle$. Indeed, this is what the `draw` method shows, an equal superposition of states, which is what we would need to simulate a uniform probability distribution."
      ]
    },
    {
      "cell_type": "code",
      "execution_count": 18,
      "metadata": {
        "colab": {
          "base_uri": "https://localhost:8080/",
          "height": 384
        },
        "id": "vC25uSBmnRSG",
        "outputId": "93dfc199-17bb-4b85-f802-ffca68558006"
      },
      "outputs": [
        {
          "data": {
            "image/png": "[encoded data removed]",
            "text/plain": [
              "<Figure size 872.774x451.5 with 1 Axes>"
            ]
          },
          "execution_count": 18,
          "metadata": {},
          "output_type": "execute_result"
        }
      ],
      "source": [
        "qrng = QuantumCircuit(4,4)\n",
        "init_state = np.kron([1,1],np.kron([1,1],np.kron([1,1],[1,1]))) # Kron is a Python command for Cartesian (or Kronecker) products\n",
        "init_state_normal = init_state/np.linalg.norm(init_state)\n",
        "qrng.initialize(init_state_normal,[0,1,2,3])\n",
        "qrng.draw(output='mpl')"
      ]
    },
    {
      "cell_type": "markdown",
      "metadata": {
        "id": "pe0R7iL_QM8B"
      },
      "source": [
        "We may encapsulate random number generation in the following function:"
      ]
    },
    {
      "cell_type": "code",
      "execution_count": 19,
      "metadata": {
        "id": "TQWrWmiSQLkJ"
      },
      "outputs": [],
      "source": [
        "def QRNG(N_qubits): #a quantum random number generator\n",
        "    qrng = QuantumCircuit(N_qubits)\n",
        "    qrng.h(range(N_qubits))\n",
        "    qrng.measure_all()\n",
        "    result = sim.run(qrng, shots=1).result()\n",
        "    counts = result.get_counts()\n",
        "    return int(*counts, 2)"
      ]
    },
    {
      "cell_type": "markdown",
      "metadata": {
        "id": "XLA9i9no06nh"
      },
      "source": [
        "<font color=teal> Question: run the circuit a few times and write down the number obtained </font>\n",
        "\n",
        "**Answer:** After running it a few times we obtained the following list of numbers:\n",
        "`14, 3, 5, 9, 8, 12, 1, 10, 6, 11, 2, 6, 0, 10, 7, 13, 6, 14, 5, 1, 0, 14, 4`\n"
      ]
    },
    {
      "cell_type": "code",
      "execution_count": 20,
      "metadata": {
        "colab": {
          "base_uri": "https://localhost:8080/"
        },
        "id": "KmYDQ07aMRHs",
        "outputId": "e9b3f615-b756-4ba1-f9ec-ff6e03e39e3f"
      },
      "outputs": [
        {
          "data": {
            "text/plain": [
              "2"
            ]
          },
          "execution_count": 20,
          "metadata": {},
          "output_type": "execute_result"
        }
      ],
      "source": [
        "QRNG(4)"
      ]
    },
    {
      "cell_type": "markdown",
      "metadata": {
        "id": "gwt6vAfDI8mL"
      },
      "source": [
        "<font color=teal> Question: Write a loop that generates 32 random numbers and plot a histogram with their distribution. </font>\n",
        "\n",
        "**Answer:**"
      ]
    },
    {
      "cell_type": "code",
      "execution_count": 21,
      "metadata": {
        "colab": {
          "base_uri": "https://localhost:8080/",
          "height": 469
        },
        "id": "r-ri0uAKJDd_",
        "outputId": "ff40ecf9-5c8b-42ad-ade7-6ada93e4e9f5"
      },
      "outputs": [
        {
          "data": {
            "text/plain": [
              "Text(0.5, 1.0, 'Quantum RNG distribution')"
            ]
          },
          "execution_count": 21,
          "metadata": {},
          "output_type": "execute_result"
        },
        {
          "data": {
            "image/png": "[encoded data removed]",
            "text/plain": [
              "<Figure size 640x480 with 1 Axes>"
            ]
          },
          "metadata": {},
          "output_type": "display_data"
        }
      ],
      "source": [
        "N_qubits = 4\n",
        "N = 32\n",
        "distrib = [QRNG(N_qubits) for _ in range(N)]\n",
        "\n",
        "dim = 2**N_qubits\n",
        "plt.hist(distrib, bins=range(dim+1), density=True, align='left', edgecolor='black', linewidth=1)\n",
        "plt.xticks(ticks=range(dim), labels=range(dim))\n",
        "plt.title('Quantum RNG distribution')"
      ]
    },
    {
      "cell_type": "markdown",
      "metadata": {
        "id": "ugdrWFJwJDtd"
      },
      "source": [
        "<font color=teal> Question: Write down in a piece of paper all the methods that you have learned here </font>"
      ]
    },
    {
      "cell_type": "markdown",
      "metadata": {
        "id": "vRnWXDQRTDFh"
      },
      "source": [
        "**Answer:** We have learnt the following methods:\n",
        "\n",
        "Applied to a `QuantumCircuit`\n",
        "- `draw`: Plots a diagram of the circuit.\n",
        "- `initialize`: Given a normalised statevector of the appropriate dimension, prepares the circuit or subset of the circuit in that state.\n",
        "- `measure`: Collapses a particular qubit and stores result in a particular cbit.\n",
        "- `measure_all`: Adds a cbit for each qubit in the circuit and measures all.\n",
        "\n",
        "Applied to an `AerSimulator`\n",
        "- `run`: Runs `QuantumCircuit` on the Aer backend and returns asynchronous simulation job.\n",
        "\n",
        "Applied to an `AerJob`\n",
        "- `result`: Awaits job result.\n",
        "\n",
        "Applied to a `Result`\n",
        "- `get_counts`: Gets the histogram data of a quantum simulation."
      ]
    },
    {
      "cell_type": "markdown",
      "metadata": {
        "id": "Gtx0BfDtiFKu"
      },
      "source": [
        "#### **5. Quantum Fourier Transform**"
      ]
    },
    {
      "cell_type": "markdown",
      "metadata": {},
      "source": [
        "The discrete Fourier transform (DFT) changes the elements of a computational basis $B$ to the Fourier basis $F(B)$ according to the formula\n",
        "\n",
        "$$\n",
        "\\left|j\\right\\rangle_{B}\\rightarrow \\left|j\\right\\rangle_{F(B)} =  \\frac{1}{\\sqrt{N}}\\sum^{N-1}_{k=0} e^{2\\pi i j k /N}\\left|k\\right\\rangle_{B}\n",
        "$$\n",
        "\n",
        "It is worth noting that the elements of the computational basis in a $2^n$ dimensional Hilbert space may be labeled by the number $j$, or by its representation as an $n$-bit binary string,\n",
        "\n",
        "$$\n",
        "j \\equiv j_1 j_2 ... j_n \\equiv \\sum\\limits_{\\ell=1}^{n} j_\\ell 2^{n-\\ell}\n",
        "$$\n",
        "\n",
        ", i.e. we can choose the basis states to be the tensor products of the single-qubit basis states $|j_\\ell\\rangle_B$, $j_\\ell\\in\\{0,1\\}$.\n",
        "\n",
        "We call the application of the DFT to a quantum state the quantum Fourier transform (QFT), and it has a computationally efficient alternative formula:\n",
        "\n",
        "$$\n",
        "QFT_n |j\\rangle_{B} = \\frac{1}{\\sqrt{N}}\\sum^{N-1}_{k=0} e^{2\\pi i j k /N}\\left|k\\right\\rangle_{B} = \n",
        "\\frac{1}{2^{n/2}}\\sum^{2^n-1}_{k=0} e^{2\\pi i j k 2^{-n}}\\left|k\\right\\rangle_{B} = \n",
        "$$\n",
        "\n",
        "$$\n",
        "= \\frac{1}{2^{n/2}}\\sum^{1}_{k_1=0}\\sum^{1}_{k_2=0}...\\sum^{1}_{k_n=0}\n",
        "e^{2\\pi i j \\sum\\limits_{\\ell=1}^{n} k_\\ell 2^{-\\ell}}\\left|k_1 k_2 ... k_n\\right\\rangle_{B} =\n",
        "$$\n",
        "\n",
        "$$\n",
        "= \\frac{1}{2^{n/2}}\\sum^{1}_{k_1=0}e^{2\\pi i j k_1 2^{-1}}|k_1\\rangle_B\n",
        "\\sum^{1}_{k_2=0}e^{2\\pi i j k_2 2^{-2}}|k_2\\rangle_B... \n",
        "\\sum^{1}_{k_n=0}e^{2\\pi i j k_n 2^{-n}}|k_n\\rangle_B = \n",
        "\\frac{1}{2^{n/2}} \\bigotimes\\limits_{m=1}^{n}\\sum\\limits_{k_m=0}^1 e^{2\\pi i j k_m 2^{-m}}|k_\\ell\\rangle_B = \n",
        "$$\n",
        "\n",
        "$$\n",
        "= \\frac{1}{2^{n/2}} \\bigotimes\\limits_{m=1}^{n}\\left(|0\\rangle + e^{2\\pi i j 2^{-m}}|1\\rangle \\right) = \n",
        "\\frac{1}{2^{n/2}} \\bigotimes\\limits_{m=1}^{n}\\left(|0\\rangle + e^{2\\pi i \\sum\\limits_{\\ell=1}^n j_\\ell 2^{n-\\ell-m}}|1\\rangle \\right) \n",
        "$$\n",
        "\n",
        "Since integer rotations in the complex plane don't add any phase, the expression for the QFT finally simplifies to\n",
        "\n",
        "$$\n",
        "QFT_n |j\\rangle_{B} = \\frac{1}{2^{n/2}} \\bigotimes\\limits_{m=1}^{n}\\left(|0\\rangle + e^{2\\pi i \\sum\\limits_{\\ell=1}^{m} j_{n+\\ell-m} 2^{-\\ell}}|1\\rangle \\right) \n",
        "$$"
      ]
    },
    {
      "cell_type": "markdown",
      "metadata": {
        "id": "yWhB-gl620ra"
      },
      "source": [
        "**In the exercise notebook we're walked through programming the QFT:**<font color=\"teal\">\n",
        "\n",
        "The operation\n",
        "\n",
        "$$\\alpha |0\\rangle + \\beta | 1 \\rangle \\rightarrow  \\alpha | 0 \\rangle +\\beta e^{2\\pi i\\ /\\ 2^k} | 1 \\rangle $$\n",
        "\n",
        "Can be represented in matrix form as\n",
        "\n",
        "$$R_k = \\begin{pmatrix}\n",
        "1 & 0 \\\\\n",
        "0 & e^{2\\pi i /2^k}\n",
        "\\end{pmatrix},$$\n",
        "\n",
        "while one of the basic transformations in the Qiskit package is *PhaseGate*, with matrix representation\n",
        "\n",
        "$$\\text{PhaseGate}(\\phi) = \\begin{pmatrix}\n",
        "1 & 0 \\\\\n",
        "0 & e^{i\\phi}\n",
        "\\end{pmatrix}.$$\n",
        "\n",
        "Hence,\n",
        "\n",
        "**Question 5.1.** Check that the following function implements the $R_k$ transformation: </font>\n",
        "\n",
        "**Answer:**"
      ]
    },
    {
      "cell_type": "code",
      "execution_count": 22,
      "metadata": {
        "colab": {
          "base_uri": "https://localhost:8080/",
          "height": 127
        },
        "id": "KfoMoUK534J6",
        "outputId": "8463a0b2-1121-4d16-83a0-38e32fc01d11"
      },
      "outputs": [
        {
          "data": {
            "image/png": "[encoded data removed]",
            "text/plain": [
              "<Figure size 185.453x117.056 with 1 Axes>"
            ]
          },
          "execution_count": 22,
          "metadata": {},
          "output_type": "execute_result"
        }
      ],
      "source": [
        "def R(k):\n",
        "    return PhaseGate((2.*np.pi)/pow(2,k))\n",
        "\n",
        "# Indeed, we can plot R(k) ∀ k with a parametrised circuit.\n",
        "# We see the transformation is implemented as desired.\n",
        "from qiskit.circuit import Parameter\n",
        "k = Parameter('k')\n",
        "ans = QuantumCircuit(1)\n",
        "ans.append(R(k),[0])\n",
        "ans.draw(output='mpl')"
      ]
    },
    {
      "cell_type": "markdown",
      "metadata": {
        "id": "AgezX-mNOEWx"
      },
      "source": [
        "We can try this gate and compare it to what we should get for a couple of values of $k$"
      ]
    },
    {
      "cell_type": "code",
      "execution_count": 23,
      "metadata": {
        "colab": {
          "base_uri": "https://localhost:8080/"
        },
        "id": "txrASZVnODIR",
        "outputId": "9e1a3474-76ce-4c0e-8353-cd2459f6c50c"
      },
      "outputs": [
        {
          "name": "stdout",
          "output_type": "stream",
          "text": [
            "\n",
            "What we got        [ 1.00e+00-2.45e-16j -1.00e+00+1.22e-16j  6.12e-17+1.00e+00j\n",
            "  7.07e-01+7.07e-01j  9.24e-01+3.83e-01j  9.81e-01+1.95e-01j]\n",
            "What we should get [ 1.00e+00-2.45e-16j -1.00e+00+1.22e-16j  6.12e-17+1.00e+00j\n",
            "  7.07e-01+7.07e-01j  9.24e-01+3.83e-01j  9.81e-01+1.95e-01j]\n"
          ]
        }
      ],
      "source": [
        "maxK = 6\n",
        "result = [0] * maxK\n",
        "expected = [0] * maxK\n",
        "\n",
        "for k in range(maxK):\n",
        "  # Rk circuit\n",
        "  circ1 = QuantumCircuit(1)\n",
        "  circ1.x(0) # Initialise to |1>\n",
        "  circ1.append(R(k), [0]) # Apply Rk\n",
        "  psi = Statevector(circ1)\n",
        "  result[k] = psi[1]\n",
        "  # Expected phase\n",
        "  expected[k] = np.exp(2*np.pi*(1j) / 2**k)\n",
        "\n",
        "print(\n",
        "f'''\n",
        "What we got        {np.array(result)}\n",
        "What we should get {np.array(expected)}''')"
      ]
    },
    {
      "cell_type": "markdown",
      "metadata": {
        "id": "dZViz0fBQrN8"
      },
      "source": [
        "We can appreciate the $R_k$ gate performs the previously described transformation perfectly, although there may be some precision error in both calculations."
      ]
    },
    {
      "cell_type": "markdown",
      "metadata": {
        "id": "hLNz3SXIQxPr"
      },
      "source": [
        "**In sections 5.1-5.2 we're walked through programming a 3-register QFT.** At the step at which we accomplish<font color=\"teal\">\n",
        "\n",
        "$$| j_1j_2j_3\\rangle \\rightarrow | \\psi_1\\rangle = \\frac{1}{\\sqrt{2}}\\left(\\left|0\\right\\rangle+e^{2\\pi i (j_1/2 +j_2/4)}\\left|1\\right\\rangle\\right)\\otimes | j_2j_3\\rangle.$$\n",
        "\n",
        "</font>"
      ]
    },
    {
      "cell_type": "code",
      "execution_count": 24,
      "metadata": {
        "colab": {
          "base_uri": "https://localhost:8080/",
          "height": 255
        },
        "id": "cIOrUh7-NuTI",
        "outputId": "aabf9e37-9ccd-4c5f-cc57-d9706c741413"
      },
      "outputs": [
        {
          "data": {
            "image/png": "[encoded data removed]",
            "text/plain": [
              "<Figure size 371.107x284.278 with 1 Axes>"
            ]
          },
          "execution_count": 24,
          "metadata": {},
          "output_type": "execute_result"
        }
      ],
      "source": [
        "qft_circuit = QuantumCircuit(3, name = 'QFT')\n",
        "qft_circuit.h(2)\n",
        "qft_circuit.draw()\n",
        "qft_circuit.append(R(2).control(),[2,1])\n",
        "qft_circuit.draw(output='mpl')"
      ]
    },
    {
      "cell_type": "markdown",
      "metadata": {
        "id": "h_WVk1k9E0U4"
      },
      "source": [
        "<font color=\"teal\">**Question 5.2** Write the state resulting from applying that transformation to the initial ket\n",
        " $| 010\\rangle$.\n",
        "    Check, with the </font><font color=\"blue\">Statevector</font> <font color=\"teal\">\n",
        "    class that the circuit generates the correct output.</font>\n",
        "    \n",
        "**Answer:** We may compute the resulting state by hand. It is $\\frac{1}{\\sqrt{2}}(|0\\rangle+i|1\\rangle)\\otimes|10\\rangle$ or, in the binary basis, $\\frac{1}{\\sqrt{2}}(|2\\rangle+i|6\\rangle)$."
      ]
    },
    {
      "cell_type": "code",
      "execution_count": 25,
      "metadata": {
        "colab": {
          "base_uri": "https://localhost:8080/"
        },
        "id": "SV_TpcA9FM9o",
        "outputId": "da15844e-fed6-4ced-846c-5ed246d0f073"
      },
      "outputs": [
        {
          "name": "stdout",
          "output_type": "stream",
          "text": [
            "Statevector([0.00e+00+0.j  , 0.00e+00+0.j  , 7.07e-01+0.j  ,\n",
            "             0.00e+00+0.j  , 0.00e+00+0.j  , 0.00e+00+0.j  ,\n",
            "             4.33e-17+0.71j, 0.00e+00+0.j  ],\n",
            "            dims=(2, 2, 2))\n"
          ]
        }
      ],
      "source": [
        "init_state = np.zeros(8)\n",
        "init_state[2] = 1\n",
        "qc = QuantumCircuit(3)\n",
        "qc.initialize(init_state, range(3))\n",
        "qc.append(qft_circuit, range(3))\n",
        "phians = Statevector(qc)\n",
        "\n",
        "# By printing the result, this checks out\n",
        "phians"
      ]
    },
    {
      "cell_type": "markdown",
      "metadata": {
        "id": "QcNyysoBBBpM"
      },
      "source": [
        "#### <font color=\"teal\"> 5.3 QFT full exercise</font>\n",
        "\n",
        "<font color=\"teal\"> Please implement now the Quantum Fourier Transform as a gate acting over 5 qubits.  Apply this gate to the following states.\n",
        "\n",
        "$$ |\\phi_1\\rangle = \\frac{1}{2^{5/2}}\\left(\\left|0\\right\\rangle+\\left|1\\right\\rangle\\right)\\left(\\left|0\\right\\rangle+\\left|1\\right\\rangle\\right)\\left(\\left|0\\right\\rangle+\\left|1\\right\\rangle\\right)\\left(\\left|0\\right\\rangle+\\left|1\\right\\rangle\\right)\\left(\\left|0\\right\\rangle-\\left|1\\right\\rangle\\right)$$\n",
        "$$ |\\phi_2\\rangle = \\frac{1}{2^{5/2}}\\left(\\left|0\\right\\rangle+\\left|1\\right\\rangle\\right)\\left(\\left|0\\right\\rangle+\\left|1\\right\\rangle\\right)\\left(\\left|0\\right\\rangle+\\left|1\\right\\rangle\\right)\\left(\\left|0\\right\\rangle-\\left|1\\right\\rangle\\right)\\left(\\left|0\\right\\rangle+\\left|1\\right\\rangle\\right)$$\n",
        "$$ |\\phi_3\\rangle = \\frac{1}{2^{5/2}}\\left(\\left|0\\right\\rangle+\\left|1\\right\\rangle\\right)\\left(\\left|0\\right\\rangle+\\left|1\\right\\rangle\\right)\\left(\\left|0\\right\\rangle-\\left|1\\right\\rangle\\right)\\left(\\left|0\\right\\rangle+\\left|1\\right\\rangle\\right)\\left(\\left|0\\right\\rangle+\\left|1\\right\\rangle\\right)$$\n",
        "$$ |\\phi_4\\rangle = \\frac{1}{2^{5/2}}\\left(\\left|0\\right\\rangle+\\left|1\\right\\rangle\\right)\\left(\\left|0\\right\\rangle-\\left|1\\right\\rangle\\right)\\left(\\left|0\\right\\rangle+\\left|1\\right\\rangle\\right)\\left(\\left|0\\right\\rangle+\\left|1\\right\\rangle\\right)\\left(\\left|0\\right\\rangle+\\left|1\\right\\rangle\\right)$$\n",
        "    \n",
        "Briefly comment on the results.  </font>\n",
        "\n",
        "**Answer:** A QFT circuit implements the following transformation:\n",
        "\n",
        "$$\n",
        "|j_1j_2...j_n\\rangle_B\\rightarrow \\frac{1}{2^{n/2}}\n",
        "\\left(|0\\rangle + e^{2\\pi i \\frac{j_n}{2}}|1\\rangle \\right) \n",
        "\\left(|0\\rangle + e^{2\\pi i (\\frac{j_{n-1}}{2}+\\frac{j_n}{4})}|1\\rangle \\right)\n",
        "... \n",
        "\\left(|0\\rangle + e^{2\\pi i (\\frac{j_1}{2}+...+\\frac{j_n}{2^n})}|1\\rangle \\right) \n",
        "$$\n",
        "\n",
        "As we can see, the value of qubit 1 ($j_n$) appears in every term (and $j_{n-1}$ appears in every term up to the penultimate, so on and so forth). This implies we have to act on the least significant bit last, so as to not modify $j_n$ while we still need its value (likewise with $j_{n-1}$, etc.).\n",
        "\n",
        "On the other hand, the least significant half of the transformed bits require information from bits more significant than them, so we have to apply the QFT from least significant bit to most significant bit.\n",
        "\n",
        "The way to solve this conundrum is to store the transformed qubits in reverse order, and to afterwards apply a series of swaps to recover the proper ordering. We can apply the required phases with Hadamard and controlled $R_k$ gates."
      ]
    },
    {
      "cell_type": "code",
      "execution_count": 26,
      "metadata": {
        "colab": {
          "base_uri": "https://localhost:8080/",
          "height": 523
        },
        "id": "q5L1dci1RHR7",
        "outputId": "3a5aa520-6095-4f0a-8353-5ac59d4e42a9"
      },
      "outputs": [
        {
          "data": {
            "image/png": "[encoded data removed]",
            "text/plain": [
              "<Figure size 2210.55x953.167 with 1 Axes>"
            ]
          },
          "execution_count": 26,
          "metadata": {},
          "output_type": "execute_result"
        }
      ],
      "source": [
        "# First, it is actually easier and more convenient to implement an N register QFT\n",
        "\n",
        "def QFT(N):\n",
        "    qc = QuantumCircuit(N)\n",
        "    for i in np.arange(N-1, -1, -1):\n",
        "        qc.h(i)\n",
        "        for j in range(i-1, -1, -1):\n",
        "            qc.append(R(i-j+1).control(),[i,j])\n",
        "    for i in range(N//2):\n",
        "        qc.swap(i, N-i-1)\n",
        "    return qc\n",
        "\n",
        "QFT(5).draw(output='mpl')"
      ]
    },
    {
      "cell_type": "code",
      "execution_count": 27,
      "metadata": {
        "colab": {
          "base_uri": "https://localhost:8080/",
          "height": 384
        },
        "id": "TlqNa4-A8XCs",
        "outputId": "e3aae154-8a5c-4719-f6d6-b4641318ed04"
      },
      "outputs": [
        {
          "data": {
            "image/png": "[encoded data removed]",
            "text/plain": [
              "<Figure size 287.496x451.5 with 1 Axes>"
            ]
          },
          "execution_count": 27,
          "metadata": {},
          "output_type": "execute_result"
        }
      ],
      "source": [
        "# Next, let's notice the kets are\n",
        "# |phi1> = |+>|+>|+>|+>|->\n",
        "# |phi2> = |+>|+>|+>|->|+>\n",
        "# |phi3> = |+>|+>|->|+>|+>\n",
        "# |phi4> = |+>|->|+>|+>|+>\n",
        "# So it will be easiest to prepare the initial states with Hadamard gates as follows:\n",
        "\n",
        "\n",
        "def phi(n):\n",
        "    qc = QuantumCircuit(5)\n",
        "    qc.x(n)\n",
        "    for i in range(5):\n",
        "        qc.h(i)\n",
        "    return qc\n",
        "\n",
        "phi(0).draw(output='mpl')"
      ]
    },
    {
      "cell_type": "code",
      "execution_count": 28,
      "metadata": {
        "colab": {
          "base_uri": "https://localhost:8080/"
        },
        "id": "OScz-nbg701e",
        "outputId": "cc5992ca-1826-4685-f2f1-e33c8ce21e0f"
      },
      "outputs": [
        {
          "data": {
            "text/plain": [
              "['(1.00+0.00j)|16>',\n",
              " '(0.50+0.50j)|8>+(0.50-0.50j)|24>',\n",
              " '(0.25+0.60j)|4>+(0.25+0.10j)|12>+(0.25-0.10j)|20>+(0.25-0.60j)|28>',\n",
              " '(0.12+0.63j)|2>+(0.12+0.19j)|6>+(0.12+0.08j)|10>+(0.12+0.02j)|14>+(0.12-0.02j)|18>+(0.12-0.08j)|22>+(0.12-0.19j)|26>+(0.12-0.63j)|30>']"
            ]
          },
          "execution_count": 28,
          "metadata": {},
          "output_type": "execute_result"
        }
      ],
      "source": [
        "# Next we must create a 5-register QFT gate\n",
        "qft5 = QFT(5).to_gate()\n",
        "# And apply it to each prepared state\n",
        "\n",
        "prec = 2 # Decimal precision\n",
        "phihat_q = np.empty((4, 32), dtype=np.cdouble)\n",
        "ket_q = []\n",
        "for k in range(4):\n",
        "    qc = phi(k)\n",
        "    # Quantum Fourier transform\n",
        "    qc.append(qft5, range(5))\n",
        "    phihat_q[k] = Statevector(qc)\n",
        "    # Format ket as a linear combination of basis vectors (string)\n",
        "    idx = np.where(np.abs(phihat_q[k]) > 10**-prec)\n",
        "    ket_q.append('+'.join([f'({phihat_q[k][j]:.{prec}f})|{j}>' for j in idx[0]]))\n",
        "\n",
        "# Print out Fourier transformed kets\n",
        "ket_q"
      ]
    },
    {
      "cell_type": "markdown",
      "metadata": {
        "id": "IvV9cYQ9R23u"
      },
      "source": [
        "Let $QFT_5$ be the quantum Fourier transform of 5 qubits, we obtained the following results:\n",
        "- $QFT_5|\\phi_1\\rangle = |16⟩$\n",
        "- $QFT_5|\\phi_2\\rangle = \\frac{1}{2}(1+i)|8⟩+\\frac{1}{2}(1-i)|24⟩$\n",
        "- $QFT_5|\\phi_3\\rangle = (0.25+0.60i)|4⟩+(0.25+0.10 i)|12⟩+(0.25-0.10 i) |20⟩ + (0.25-0.60i)|28⟩$\n",
        "- $QFT_5|\\phi_4\\rangle = (0.12+0.63i)|2⟩+(0.12+0.19i)|6⟩+(0.12+0.08i)|10⟩+(0.12+0.02i)|14⟩+(0.12-0.02i)|18⟩+(0.12-0.08i)|22⟩+(0.12-0.19i)|26⟩+(0.12-0.63i)|30⟩$\n",
        "\n",
        "The QFT is so efficient because the number of quantum gates it requires for $n$ qubits scales like $O(n^2)$, whereas the dimension of the Hilbert space scales like $N=2^n$. This can be compared to best DFT algorithm, the Fast Fourier Transform (FFT), which has complexity $O(N\\log N)=O(n2^n)$ &mdash; that is, the QFT has an exponential advantage over the classical DFT. \n",
        "\n",
        "We could also check whether we obtain the same result via classical computing methods (bearing in mind that the convention for Fourier / inverse Fourier transform in signal processing is opposite that of quantum computing)."
      ]
    },
    {
      "cell_type": "code",
      "execution_count": 29,
      "metadata": {},
      "outputs": [
        {
          "data": {
            "text/plain": [
              "['(1.00+0.00j)|16>',\n",
              " '(0.50+0.50j)|8>+(0.50-0.50j)|24>',\n",
              " '(0.25+0.60j)|4>+(0.25+0.10j)|12>+(0.25-0.10j)|20>+(0.25-0.60j)|28>',\n",
              " '(0.12+0.63j)|2>+(0.12+0.19j)|6>+(0.12+0.08j)|10>+(0.12+0.02j)|14>+(0.12-0.02j)|18>+(0.12-0.08j)|22>+(0.12-0.19j)|26>+(0.12-0.63j)|30>']"
            ]
          },
          "execution_count": 29,
          "metadata": {},
          "output_type": "execute_result"
        }
      ],
      "source": [
        "phihat_c = np.empty((4, 32), dtype=np.cdouble)\n",
        "ket_c = []\n",
        "for k in range(4):\n",
        "    qc = phi(k)\n",
        "    # Classical Fourier transform\n",
        "    phihat_c[k] = np.fft.ifft(Statevector(qc), norm='ortho')\n",
        "    # Format ket as a linear combination of basis vectors (string)\n",
        "    idx = np.where(np.abs(phihat_c[k]) > 10**-prec)\n",
        "    ket_c.append('+'.join([f'({phihat_c[k][j]:.{prec}f})|{j}>' for j in idx[0]]))\n",
        "\n",
        "# Print out Fourier transformed kets\n",
        "ket_c"
      ]
    },
    {
      "cell_type": "markdown",
      "metadata": {},
      "source": [
        "Looks promising! Just so our eyes don't deceive us, let's compare both calculations programatically."
      ]
    },
    {
      "cell_type": "code",
      "execution_count": 30,
      "metadata": {},
      "outputs": [
        {
          "data": {
            "text/plain": [
              "3.3306690738754696e-16"
            ]
          },
          "execution_count": 30,
          "metadata": {},
          "output_type": "execute_result"
        }
      ],
      "source": [
        "np.max(np.abs(phihat_q - phihat_c))"
      ]
    },
    {
      "cell_type": "markdown",
      "metadata": {},
      "source": [
        "As we can see, the discrepancy between both calculations is at most on the order of $10^{-16}$, which could be attributed to machine error."
      ]
    }
  ],
  "metadata": {
    "colab": {
      "provenance": []
    },
    "kernelspec": {
      "display_name": "Python 3",
      "name": "python3"
    },
    "language_info": {
      "codemirror_mode": {
        "name": "ipython",
        "version": 3
      },
      "file_extension": ".py",
      "mimetype": "text/x-python",
      "name": "python",
      "nbconvert_exporter": "python",
      "pygments_lexer": "ipython3",
      "version": "3.11.0"
    }
  },
  "nbformat": 4,
  "nbformat_minor": 0
}
